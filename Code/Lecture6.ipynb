{
 "cells": [
  {
   "cell_type": "code",
   "execution_count": 1,
   "metadata": {
    "collapsed": true
   },
   "outputs": [],
   "source": [
    "import pandas as pd\n",
    "import numpy as np\n",
    "import matplotlib.pyplot as plt\n",
    "%matplotlib inline\n",
    "from sklearn import linear_model\n",
    "import random\n",
    "from sklearn import feature_selection\n",
    "import statsmodels.formula.api as smf\n",
    "from sklearn import metrics"
   ]
  },
  {
   "cell_type": "markdown",
   "metadata": {},
   "source": [
    "Let's assume here is your actual output\n",
    "y = [1,2,3,4,5]\n",
    "\n",
    "And your prediction is\n",
    "\n",
    "y_predict = [2,2,3,4,5]\n",
    "\n",
    "Your MSE is ((1-2)^2 + (2-2)^2 + ... + (5-5)^2)/5 = 1/5 = .2"
   ]
  },
  {
   "cell_type": "code",
   "execution_count": 2,
   "metadata": {
    "collapsed": false
   },
   "outputs": [
    {
     "data": {
      "text/plain": [
       "0.20000000000000001"
      ]
     },
     "execution_count": 2,
     "metadata": {},
     "output_type": "execute_result"
    }
   ],
   "source": [
    "#Let's find MSE using sklearn \n",
    "\n",
    "y = [1,2,3,4,5]\n",
    "y_predict = [2,2,3,4,5]\n",
    "metrics.mean_squared_error(y,y_predict)"
   ]
  },
  {
   "cell_type": "code",
   "execution_count": 3,
   "metadata": {
    "collapsed": false
   },
   "outputs": [
    {
     "data": {
      "text/plain": [
       "<matplotlib.axes._subplots.AxesSubplot at 0x111c81490>"
      ]
     },
     "execution_count": 3,
     "metadata": {},
     "output_type": "execute_result"
    },
    {
     "data": {
      "image/png": "[encoded data removed]",
      "text/plain": [
       "<matplotlib.figure.Figure at 0x111c39450>"
      ]
     },
     "metadata": {},
     "output_type": "display_data"
    }
   ],
   "source": [
    "#Let's generate 300 random numbers between -10 and 10\n",
    "x = np.zeros(300)\n",
    "for i in range(300):\n",
    "   x[i] = random.uniform(-10, 10)\n",
    "\n",
    "#Let's generate some error term with mean 0 and s.d. = 20\n",
    "error = np.random.normal(0,20,300)\n",
    "#Now let's generate y with a polynomial degree 2 relationship with x\n",
    "\n",
    "y = 3 + 1.5 * x + 4 * (x ** 2) + error\n",
    "df = pd.DataFrame({'X': x, 'y': y})\n",
    "\n",
    "df.plot(kind = 'scatter', x = 'X', y = 'y')"
   ]
  },
  {
   "cell_type": "code",
   "execution_count": 4,
   "metadata": {
    "collapsed": false
   },
   "outputs": [
    {
     "data": {
      "text/html": [
       "<div>\n",
       "<table border=\"1\" class=\"dataframe\">\n",
       "  <thead>\n",
       "    <tr style=\"text-align: right;\">\n",
       "      <th></th>\n",
       "      <th>X</th>\n",
       "      <th>y</th>\n",
       "      <th>X_2</th>\n",
       "      <th>X_3</th>\n",
       "      <th>X_4</th>\n",
       "      <th>X_5</th>\n",
       "    </tr>\n",
       "  </thead>\n",
       "  <tbody>\n",
       "    <tr>\n",
       "      <th>0</th>\n",
       "      <td>3.812006</td>\n",
       "      <td>67.420625</td>\n",
       "      <td>14.531392</td>\n",
       "      <td>55.393759</td>\n",
       "      <td>211.161360</td>\n",
       "      <td>804.948442</td>\n",
       "    </tr>\n",
       "    <tr>\n",
       "      <th>1</th>\n",
       "      <td>7.781027</td>\n",
       "      <td>260.698106</td>\n",
       "      <td>60.544375</td>\n",
       "      <td>471.097398</td>\n",
       "      <td>3665.621396</td>\n",
       "      <td>28522.297704</td>\n",
       "    </tr>\n",
       "  </tbody>\n",
       "</table>\n",
       "</div>"
      ],
      "text/plain": [
       "          X           y        X_2         X_3          X_4           X_5\n",
       "0  3.812006   67.420625  14.531392   55.393759   211.161360    804.948442\n",
       "1  7.781027  260.698106  60.544375  471.097398  3665.621396  28522.297704"
      ]
     },
     "execution_count": 4,
     "metadata": {},
     "output_type": "execute_result"
    }
   ],
   "source": [
    "#Now let's add few non-linear terms to our data frame\n",
    "df['X_2'] = df.X ** 2\n",
    "df['X_3'] = df.X ** 3\n",
    "df['X_4'] = df.X ** 4\n",
    "df['X_5'] = df.X ** 5\n",
    "\n",
    "df.head(2)"
   ]
  },
  {
   "cell_type": "code",
   "execution_count": 7,
   "metadata": {
    "collapsed": false
   },
   "outputs": [],
   "source": [
    "X1 = df[['X']]\n",
    "X2 = df[['X','X_2']]\n",
    "X3 = df[['X','X_2','X_3']]\n",
    "X4 = df[['X','X_2','X_3','X_4']]\n",
    "X5 = df[['X','X_2','X_3','X_4','X_5']]\n",
    "X6 = df[['X','X_2','X_4']]\n",
    "y = df['y']"
   ]
  },
  {
   "cell_type": "code",
   "execution_count": 8,
   "metadata": {
    "collapsed": false
   },
   "outputs": [
    {
     "name": "stdout",
     "output_type": "stream",
     "text": [
      "[ 0.00031782]\n",
      "[  3.17819261e-004   2.06784246e-227]\n",
      "[  3.17819261e-004   2.06784246e-227   1.78929925e-005]\n",
      "[  3.17819261e-004   2.06784246e-227   1.78929925e-005   1.70008189e-143]\n",
      "[  3.17819261e-004   2.06784246e-227   1.78929925e-005   1.70008189e-143\n",
      "   1.09102289e-005]\n",
      "[  3.17819261e-004   2.06784246e-227   1.70008189e-143]\n"
     ]
    }
   ],
   "source": [
    "lm = linear_model.LinearRegression()\n",
    "MSE = np.zeros(6)\n",
    "j = 0\n",
    "for i in [X1,X2,X3,X4,X5,X6]:\n",
    "    lm.fit(i,y)\n",
    "    MSE[j] = (metrics.mean_squared_error(lm.predict(i),y))\n",
    "    pvals = feature_selection.f_regression(i,y)[1]\n",
    "    print(pvals)\n",
    "    j += 1\n",
    "\n"
   ]
  },
  {
   "cell_type": "markdown",
   "metadata": {},
   "source": [
    "#### in comparison to R, sklearn is using a different method to estimate p-values. P-values in sklearn are not reliable. If you want to use p-values, use statsmodels.formula.api"
   ]
  },
  {
   "cell_type": "code",
   "execution_count": 41,
   "metadata": {
    "collapsed": false
   },
   "outputs": [
    {
     "name": "stdout",
     "output_type": "stream",
     "text": [
      "Intercept    7.843784e-48\n",
      "i            3.178193e-04\n",
      "dtype: float64\n",
      "Intercept     4.831682e-02\n",
      "i[0]          1.027342e-10\n",
      "i[1]         6.262702e-233\n",
      "dtype: float64\n",
      "Intercept     4.594555e-02\n",
      "i[0]          4.946699e-02\n",
      "i[1]         3.989930e-231\n",
      "i[2]          3.036965e-01\n",
      "dtype: float64\n",
      "Intercept    5.463564e-01\n",
      "i[0]         5.563853e-02\n",
      "i[1]         1.445583e-93\n",
      "i[2]         2.409054e-01\n",
      "i[3]         9.278757e-02\n",
      "dtype: float64\n",
      "Intercept    5.430314e-01\n",
      "i[0]         5.917960e-01\n",
      "i[1]         1.024689e-93\n",
      "i[2]         1.983811e-02\n",
      "i[3]         1.164417e-01\n",
      "i[4]         3.407819e-02\n",
      "dtype: float64\n"
     ]
    }
   ],
   "source": [
    "for i in [X1,X2,X3,X4,X5]:\n",
    "    lm1 = smf.ols(formula='y ~ i', data=df).fit()\n",
    "    #print(lm1.summary())\n",
    "    print(lm1.pvalues)\n"
   ]
  },
  {
   "cell_type": "markdown",
   "metadata": {},
   "source": [
    "#### Based on P-values, it is clear that our models are only valid up to 2 degrees of polynomial. After that coefficients are not statistically significant. "
   ]
  },
  {
   "cell_type": "markdown",
   "metadata": {},
   "source": [
    "# Validation"
   ]
  },
  {
   "cell_type": "markdown",
   "metadata": {},
   "source": [
    "As much as sklearn performs weak for p-values, it is a great tool for splitting data into Training and Test set. "
   ]
  },
  {
   "cell_type": "code",
   "execution_count": 10,
   "metadata": {
    "collapsed": false
   },
   "outputs": [
    {
     "name": "stdout",
     "output_type": "stream",
     "text": [
      "('MSE_Train =', 13268.613593925736)\n",
      "('MSE_Test =', 15858.672169415275)\n"
     ]
    }
   ],
   "source": [
    "from sklearn.cross_validation import train_test_split\n",
    "X_train, X_test, y_train, y_test = train_test_split(X1, y, test_size=0.33)\n",
    "#We train based on Training Data BUT will Test on Test Sample\n",
    "Model_train = lm.fit(X_train,y_train)\n",
    "y_Hat_train = lm.predict(X_train)\n",
    "y_Hat_test  = lm.predict(X_test)\n",
    "MSE_Train = metrics.mean_squared_error(y_Hat_train,y_train)\n",
    "MSE_Test  = metrics.mean_squared_error(y_Hat_test,y_test)\n",
    "print(\"MSE_Train =\",MSE_Train)\n",
    "print(\"MSE_Test =\", MSE_Test)\n",
    "#print(y_Hat_train)"
   ]
  },
  {
   "cell_type": "markdown",
   "metadata": {},
   "source": [
    "Now, it's time to use Validation techniques to test which model is more significant. Remember we need to train based on training sets but test the performance on test set."
   ]
  },
  {
   "cell_type": "code",
   "execution_count": 11,
   "metadata": {
    "collapsed": false
   },
   "outputs": [
    {
     "name": "stdout",
     "output_type": "stream",
     "text": [
      "[ 4.91164484]\n",
      "[ 1.60721715  3.98367153]\n",
      "[ 0.92098803  3.99600154  0.00960025]\n",
      "[  6.61702211e-01   4.35411050e+00   1.22781808e-02  -3.42410331e-03]\n",
      "[ -2.44587386e-01   4.21617572e+00   6.37735810e-02  -2.09387407e-03\n",
      "  -4.98048850e-04]\n"
     ]
    },
    {
     "data": {
      "text/plain": [
       "<matplotlib.axes._subplots.AxesSubplot at 0x114577fd0>"
      ]
     },
     "execution_count": 11,
     "metadata": {},
     "output_type": "execute_result"
    },
    {
     "data": {
      "image/png": "[encoded data removed]",
      "text/plain": [
       "<matplotlib.figure.Figure at 0x113ff8ad0>"
      ]
     },
     "metadata": {},
     "output_type": "display_data"
    }
   ],
   "source": [
    "MSE_test = np.zeros(5)\n",
    "MSE_train = np.zeros(5)\n",
    "j = 0\n",
    "for i in [X1,X2,X3,X4,X5]:\n",
    "    X_train, X_test, y_train, y_test = train_test_split(i, y, test_size=0.33)\n",
    "    lm.fit(X_train,y_train)\n",
    "    MSE_test[j] = (metrics.mean_squared_error(lm.predict(X_test),y_test))\n",
    "    MSE_train[j] = (metrics.mean_squared_error(lm.predict(X_train),y_train))\n",
    "    print lm.coef_\n",
    "    j += 1\n",
    "\n",
    "index = np.array(range(5)) + 1\n",
    "MSE_Test_df = pd.DataFrame({'MSE_test':MSE_test,'index':index})\n",
    "MSE_Test_df.plot(x = 'index',y= 'MSE_test')\n"
   ]
  },
  {
   "cell_type": "markdown",
   "metadata": {},
   "source": [
    "Based on test-set MSE, we decide to choose Model 2 - polynomial degree 2. Remember ** THE SIMPLER THE BETTER **."
   ]
  },
  {
   "cell_type": "markdown",
   "metadata": {},
   "source": [
    "# Cross-Validation"
   ]
  },
  {
   "cell_type": "markdown",
   "metadata": {},
   "source": [
    "sklearn is great for Cross-Validation. 10 fold and 5 fold cross-validation are the most famous cross-validation techniques. "
   ]
  },
  {
   "cell_type": "code",
   "execution_count": 12,
   "metadata": {
    "collapsed": false
   },
   "outputs": [
    {
     "name": "stdout",
     "output_type": "stream",
     "text": [
      "[18678.991396905552, 11045.589387437078, 15169.940296910161, 13238.42508360512, 12649.65781350643]\n",
      "14156.5207957\n",
      "[453.06620166944435, 414.10289079803317, 386.64988260728404, 404.31900118283306, 341.95766415065543]\n",
      "400.019128082\n",
      "[450.07693461504726, 416.16215720646971, 383.59047820002559, 401.95572095112897, 343.04148162230751]\n",
      "398.965354519\n",
      "[451.74739145432534, 420.2094134002885, 375.74238454224928, 406.60093398723694, 333.58791886231182]\n",
      "397.577608449\n"
     ]
    }
   ],
   "source": [
    "from sklearn import cross_validation\n",
    "kf = cross_validation.KFold(len(df), n_folds = 5, shuffle = True)\n",
    "\n",
    "for i in [X1, X2, X3, X4]:\n",
    "    scores = []\n",
    "    for train_index, test_index in kf:\n",
    "        lm = linear_model.LinearRegression().fit(i.iloc[train_index], y.iloc[train_index])\n",
    "        scores.append(metrics.mean_squared_error(y.iloc[test_index], lm.predict(i.iloc[test_index])))\n",
    "    print(scores)\n",
    "    print(np.mean(scores))\n",
    "\n",
    "\n",
    "    \n",
    "  "
   ]
  },
  {
   "cell_type": "markdown",
   "metadata": {},
   "source": [
    "#### Now, let's use cross validation to decide which degree of polynomials is suitable for our simulated model. "
   ]
  },
  {
   "cell_type": "code",
   "execution_count": 13,
   "metadata": {
    "collapsed": false
   },
   "outputs": [
    {
     "name": "stdout",
     "output_type": "stream",
     "text": [
      "[14550.60085096625, 400.10291517716735, 404.58355539336753, 405.40404907329446, 402.39576913167923]\n"
     ]
    },
    {
     "data": {
      "text/plain": [
       "<matplotlib.axes._subplots.AxesSubplot at 0x114589810>"
      ]
     },
     "execution_count": 13,
     "metadata": {},
     "output_type": "execute_result"
    },
    {
     "data": {
      "image/png": "[encoded data removed]",
      "text/plain": [
       "<matplotlib.figure.Figure at 0x111c5cfd0>"
      ]
     },
     "metadata": {},
     "output_type": "display_data"
    }
   ],
   "source": [
    "kf = cross_validation.KFold(len(df), n_folds = 5, shuffle = True)\n",
    "MSE_CV = []\n",
    "\n",
    "for i in [X1,X2,X3,X4,X5]:\n",
    "    scores = []\n",
    "    for train_index, test_index in kf:\n",
    "        lm = linear_model.LinearRegression().fit(i.iloc[train_index], y.iloc[train_index])\n",
    "        scores.append(metrics.mean_squared_error(y.iloc[test_index], lm.predict(i.iloc[test_index])))\n",
    "    MSE_CV.append(np.mean(scores))\n",
    "        \n",
    "        \n",
    "print(MSE_CV)\n",
    "index = np.array(range(5)) + 1\n",
    "MSE_CV_df = pd.DataFrame({'MSE_CV':MSE_CV,'index':index})\n",
    "MSE_CV_df.plot(x = 'index',y= 'MSE_CV')"
   ]
  },
  {
   "cell_type": "markdown",
   "metadata": {},
   "source": [
    "Again, 5-fold cross-validation suggests that polynomial degree 2 is our best model. "
   ]
  },
  {
   "cell_type": "markdown",
   "metadata": {},
   "source": [
    "# Lasso and Ridge Regression"
   ]
  },
  {
   "cell_type": "markdown",
   "metadata": {},
   "source": [
    "We are going to use Credit data. We will first add dummy variables and drop original qualitative values. "
   ]
  },
  {
   "cell_type": "code",
   "execution_count": 15,
   "metadata": {
    "collapsed": false
   },
   "outputs": [
    {
     "data": {
      "text/html": [
       "<div>\n",
       "<table border=\"1\" class=\"dataframe\">\n",
       "  <thead>\n",
       "    <tr style=\"text-align: right;\">\n",
       "      <th></th>\n",
       "      <th>Income</th>\n",
       "      <th>Limit</th>\n",
       "      <th>Rating</th>\n",
       "      <th>Cards</th>\n",
       "      <th>Age</th>\n",
       "      <th>Education</th>\n",
       "      <th>Balance</th>\n",
       "      <th>Race_Asian</th>\n",
       "      <th>Race_Caucasian</th>\n",
       "      <th>Gender_Female</th>\n",
       "      <th>Married_Yes</th>\n",
       "      <th>Student_Yes</th>\n",
       "    </tr>\n",
       "  </thead>\n",
       "  <tbody>\n",
       "    <tr>\n",
       "      <th>Income</th>\n",
       "      <td>1.000000</td>\n",
       "      <td>0.792088</td>\n",
       "      <td>0.791378</td>\n",
       "      <td>-0.018273</td>\n",
       "      <td>0.175338</td>\n",
       "      <td>-0.027692</td>\n",
       "      <td>0.463656</td>\n",
       "      <td>-0.017137</td>\n",
       "      <td>-0.019701</td>\n",
       "      <td>-0.010738</td>\n",
       "      <td>0.035652</td>\n",
       "      <td>0.019632</td>\n",
       "    </tr>\n",
       "    <tr>\n",
       "      <th>Limit</th>\n",
       "      <td>0.792088</td>\n",
       "      <td>1.000000</td>\n",
       "      <td>0.996880</td>\n",
       "      <td>0.010231</td>\n",
       "      <td>0.100888</td>\n",
       "      <td>-0.023549</td>\n",
       "      <td>0.861697</td>\n",
       "      <td>-0.032427</td>\n",
       "      <td>-0.003081</td>\n",
       "      <td>0.009397</td>\n",
       "      <td>0.031155</td>\n",
       "      <td>-0.006015</td>\n",
       "    </tr>\n",
       "    <tr>\n",
       "      <th>Rating</th>\n",
       "      <td>0.791378</td>\n",
       "      <td>0.996880</td>\n",
       "      <td>1.000000</td>\n",
       "      <td>0.053239</td>\n",
       "      <td>0.103165</td>\n",
       "      <td>-0.030136</td>\n",
       "      <td>0.863625</td>\n",
       "      <td>-0.035999</td>\n",
       "      <td>-0.001070</td>\n",
       "      <td>0.008885</td>\n",
       "      <td>0.036751</td>\n",
       "      <td>-0.002028</td>\n",
       "    </tr>\n",
       "    <tr>\n",
       "      <th>Cards</th>\n",
       "      <td>-0.018273</td>\n",
       "      <td>0.010231</td>\n",
       "      <td>0.053239</td>\n",
       "      <td>1.000000</td>\n",
       "      <td>0.042948</td>\n",
       "      <td>-0.051084</td>\n",
       "      <td>0.086456</td>\n",
       "      <td>0.005591</td>\n",
       "      <td>-0.005631</td>\n",
       "      <td>-0.022658</td>\n",
       "      <td>-0.009695</td>\n",
       "      <td>-0.026164</td>\n",
       "    </tr>\n",
       "    <tr>\n",
       "      <th>Age</th>\n",
       "      <td>0.175338</td>\n",
       "      <td>0.100888</td>\n",
       "      <td>0.103165</td>\n",
       "      <td>0.042948</td>\n",
       "      <td>1.000000</td>\n",
       "      <td>0.003619</td>\n",
       "      <td>0.001835</td>\n",
       "      <td>-0.059623</td>\n",
       "      <td>-0.000822</td>\n",
       "      <td>0.004015</td>\n",
       "      <td>-0.073136</td>\n",
       "      <td>-0.029844</td>\n",
       "    </tr>\n",
       "    <tr>\n",
       "      <th>Education</th>\n",
       "      <td>-0.027692</td>\n",
       "      <td>-0.023549</td>\n",
       "      <td>-0.030136</td>\n",
       "      <td>-0.051084</td>\n",
       "      <td>0.003619</td>\n",
       "      <td>1.000000</td>\n",
       "      <td>-0.008062</td>\n",
       "      <td>0.029586</td>\n",
       "      <td>-0.037725</td>\n",
       "      <td>-0.005049</td>\n",
       "      <td>0.048911</td>\n",
       "      <td>0.072085</td>\n",
       "    </tr>\n",
       "    <tr>\n",
       "      <th>Balance</th>\n",
       "      <td>0.463656</td>\n",
       "      <td>0.861697</td>\n",
       "      <td>0.863625</td>\n",
       "      <td>0.086456</td>\n",
       "      <td>0.001835</td>\n",
       "      <td>-0.008062</td>\n",
       "      <td>1.000000</td>\n",
       "      <td>-0.009812</td>\n",
       "      <td>-0.003288</td>\n",
       "      <td>0.021474</td>\n",
       "      <td>-0.005673</td>\n",
       "      <td>0.259018</td>\n",
       "    </tr>\n",
       "    <tr>\n",
       "      <th>Race_Asian</th>\n",
       "      <td>-0.017137</td>\n",
       "      <td>-0.032427</td>\n",
       "      <td>-0.035999</td>\n",
       "      <td>0.005591</td>\n",
       "      <td>-0.059623</td>\n",
       "      <td>0.029586</td>\n",
       "      <td>-0.009812</td>\n",
       "      <td>1.000000</td>\n",
       "      <td>-0.582131</td>\n",
       "      <td>0.025425</td>\n",
       "      <td>0.088595</td>\n",
       "      <td>0.053534</td>\n",
       "    </tr>\n",
       "    <tr>\n",
       "      <th>Race_Caucasian</th>\n",
       "      <td>-0.019701</td>\n",
       "      <td>-0.003081</td>\n",
       "      <td>-0.001070</td>\n",
       "      <td>-0.005631</td>\n",
       "      <td>-0.000822</td>\n",
       "      <td>-0.037725</td>\n",
       "      <td>-0.003288</td>\n",
       "      <td>-0.582131</td>\n",
       "      <td>1.000000</td>\n",
       "      <td>-0.009831</td>\n",
       "      <td>0.011418</td>\n",
       "      <td>-0.048334</td>\n",
       "    </tr>\n",
       "    <tr>\n",
       "      <th>Gender_Female</th>\n",
       "      <td>-0.010738</td>\n",
       "      <td>0.009397</td>\n",
       "      <td>0.008885</td>\n",
       "      <td>-0.022658</td>\n",
       "      <td>0.004015</td>\n",
       "      <td>-0.005049</td>\n",
       "      <td>0.021474</td>\n",
       "      <td>0.025425</td>\n",
       "      <td>-0.009831</td>\n",
       "      <td>1.000000</td>\n",
       "      <td>0.012452</td>\n",
       "      <td>0.055034</td>\n",
       "    </tr>\n",
       "    <tr>\n",
       "      <th>Married_Yes</th>\n",
       "      <td>0.035652</td>\n",
       "      <td>0.031155</td>\n",
       "      <td>0.036751</td>\n",
       "      <td>-0.009695</td>\n",
       "      <td>-0.073136</td>\n",
       "      <td>0.048911</td>\n",
       "      <td>-0.005673</td>\n",
       "      <td>0.088595</td>\n",
       "      <td>0.011418</td>\n",
       "      <td>0.012452</td>\n",
       "      <td>1.000000</td>\n",
       "      <td>-0.076974</td>\n",
       "    </tr>\n",
       "    <tr>\n",
       "      <th>Student_Yes</th>\n",
       "      <td>0.019632</td>\n",
       "      <td>-0.006015</td>\n",
       "      <td>-0.002028</td>\n",
       "      <td>-0.026164</td>\n",
       "      <td>-0.029844</td>\n",
       "      <td>0.072085</td>\n",
       "      <td>0.259018</td>\n",
       "      <td>0.053534</td>\n",
       "      <td>-0.048334</td>\n",
       "      <td>0.055034</td>\n",
       "      <td>-0.076974</td>\n",
       "      <td>1.000000</td>\n",
       "    </tr>\n",
       "  </tbody>\n",
       "</table>\n",
       "</div>"
      ],
      "text/plain": [
       "                  Income     Limit    Rating     Cards       Age  Education  \\\n",
       "Income          1.000000  0.792088  0.791378 -0.018273  0.175338  -0.027692   \n",
       "Limit           0.792088  1.000000  0.996880  0.010231  0.100888  -0.023549   \n",
       "Rating          0.791378  0.996880  1.000000  0.053239  0.103165  -0.030136   \n",
       "Cards          -0.018273  0.010231  0.053239  1.000000  0.042948  -0.051084   \n",
       "Age             0.175338  0.100888  0.103165  0.042948  1.000000   0.003619   \n",
       "Education      -0.027692 -0.023549 -0.030136 -0.051084  0.003619   1.000000   \n",
       "Balance         0.463656  0.861697  0.863625  0.086456  0.001835  -0.008062   \n",
       "Race_Asian     -0.017137 -0.032427 -0.035999  0.005591 -0.059623   0.029586   \n",
       "Race_Caucasian -0.019701 -0.003081 -0.001070 -0.005631 -0.000822  -0.037725   \n",
       "Gender_Female  -0.010738  0.009397  0.008885 -0.022658  0.004015  -0.005049   \n",
       "Married_Yes     0.035652  0.031155  0.036751 -0.009695 -0.073136   0.048911   \n",
       "Student_Yes     0.019632 -0.006015 -0.002028 -0.026164 -0.029844   0.072085   \n",
       "\n",
       "                 Balance  Race_Asian  Race_Caucasian  Gender_Female  \\\n",
       "Income          0.463656   -0.017137       -0.019701      -0.010738   \n",
       "Limit           0.861697   -0.032427       -0.003081       0.009397   \n",
       "Rating          0.863625   -0.035999       -0.001070       0.008885   \n",
       "Cards           0.086456    0.005591       -0.005631      -0.022658   \n",
       "Age             0.001835   -0.059623       -0.000822       0.004015   \n",
       "Education      -0.008062    0.029586       -0.037725      -0.005049   \n",
       "Balance         1.000000   -0.009812       -0.003288       0.021474   \n",
       "Race_Asian     -0.009812    1.000000       -0.582131       0.025425   \n",
       "Race_Caucasian -0.003288   -0.582131        1.000000      -0.009831   \n",
       "Gender_Female   0.021474    0.025425       -0.009831       1.000000   \n",
       "Married_Yes    -0.005673    0.088595        0.011418       0.012452   \n",
       "Student_Yes     0.259018    0.053534       -0.048334       0.055034   \n",
       "\n",
       "                Married_Yes  Student_Yes  \n",
       "Income             0.035652     0.019632  \n",
       "Limit              0.031155    -0.006015  \n",
       "Rating             0.036751    -0.002028  \n",
       "Cards             -0.009695    -0.026164  \n",
       "Age               -0.073136    -0.029844  \n",
       "Education          0.048911     0.072085  \n",
       "Balance           -0.005673     0.259018  \n",
       "Race_Asian         0.088595     0.053534  \n",
       "Race_Caucasian     0.011418    -0.048334  \n",
       "Gender_Female      0.012452     0.055034  \n",
       "Married_Yes        1.000000    -0.076974  \n",
       "Student_Yes       -0.076974     1.000000  "
      ]
     },
     "execution_count": 15,
     "metadata": {},
     "output_type": "execute_result"
    }
   ],
   "source": [
    "url = \"https://raw.githubusercontent.com/ga-students/SF-DAT-20/master/Data/Credit.csv\"\n",
    "CreditData = pd.read_csv(url)\n",
    "RaceDummy = pd.get_dummies(CreditData.Ethnicity, prefix = 'Race')\n",
    "del RaceDummy['Race_African American']\n",
    "GenderDummy = pd.get_dummies(CreditData.Gender, prefix = 'Gender')\n",
    "del GenderDummy['Gender_ Male']  \n",
    "MarriedDummy = pd.get_dummies(CreditData.Married, prefix = 'Married')\n",
    "del MarriedDummy['Married_No']\n",
    "StudentDummy = pd.get_dummies(CreditData.Student, prefix = 'Student')\n",
    "del StudentDummy['Student_No']\n",
    "CreditData = pd.concat([CreditData, RaceDummy,GenderDummy,MarriedDummy,StudentDummy], axis=1)\n",
    "\n",
    "\n",
    "\n",
    "del CreditData['Unnamed: 0']\n",
    "del CreditData['Gender']\n",
    "del CreditData['Student']\n",
    "del CreditData['Married']\n",
    "del CreditData['Ethnicity']\n",
    "CreditData.head(2)\n",
    "CreditData.corr()"
   ]
  },
  {
   "cell_type": "markdown",
   "metadata": {},
   "source": [
    "Now we are going to divide our dataset - to output y and all inputs X."
   ]
  },
  {
   "cell_type": "code",
   "execution_count": 16,
   "metadata": {
    "collapsed": false
   },
   "outputs": [
    {
     "name": "stdout",
     "output_type": "stream",
     "text": [
      "['Income' 'Limit' 'Rating' 'Cards' 'Age' 'Education' 'Balance' 'Race_Asian'\n",
      " 'Race_Caucasian' 'Gender_Female' 'Married_Yes' 'Student_Yes']\n"
     ]
    }
   ],
   "source": [
    "listOfAllVariables = CreditData.columns.values\n",
    "print(listOfAllVariables)\n",
    "X = CreditData[listOfAllVariables]\n",
    "del X['Balance']\n",
    "y = CreditData['Balance']\n"
   ]
  },
  {
   "cell_type": "code",
   "execution_count": 17,
   "metadata": {
    "collapsed": false
   },
   "outputs": [
    {
     "name": "stderr",
     "output_type": "stream",
     "text": [
      "/Users/jcano/anaconda/lib/python2.7/site-packages/sklearn/linear_model/coordinate_descent.py:466: ConvergenceWarning: Objective did not converge. You might want to increase the number of iterations\n",
      "  ConvergenceWarning)\n"
     ]
    },
    {
     "data": {
      "text/plain": [
       "array([ -7.79768835e+00,   1.89911017e-01,   1.14879401e+00,\n",
       "         1.71481939e+01,  -6.23887605e-01,  -9.72072517e-01,\n",
       "         4.56163923e+00,   0.00000000e+00,  -6.18488629e+00,\n",
       "        -3.90309045e+00,   4.14716815e+02])"
      ]
     },
     "execution_count": 17,
     "metadata": {},
     "output_type": "execute_result"
    }
   ],
   "source": [
    "#this was a lasso regression with default values\n",
    "lm_lasso = linear_model.Lasso().fit(X,y)\n",
    "lm_lasso.coef_"
   ]
  },
  {
   "cell_type": "markdown",
   "metadata": {},
   "source": [
    "We need to use CV to decide on the optimal level of Alpha - the parameter of Lasso Regressions. "
   ]
  },
  {
   "cell_type": "code",
   "execution_count": 18,
   "metadata": {
    "collapsed": false
   },
   "outputs": [
    {
     "name": "stdout",
     "output_type": "stream",
     "text": [
      "Alpha: 1e-10\n",
      "Alpha: 1e-09\n",
      "Alpha: 1e-08\n",
      "Alpha: 1e-07\n",
      "Alpha: 1e-06\n",
      "Alpha: 1e-05\n",
      "Alpha: 0.0001\n",
      "Alpha: 0.001\n",
      "Alpha: 0.01\n",
      "Alpha: 0.1\n",
      "Alpha: 1.0\n",
      "Alpha: 10.0\n",
      "Alpha: 100.0\n",
      "Alpha: 1000.0\n",
      "Alpha: 10000.0\n",
      "Alpha: 100000.0\n",
      "Alpha: 1000000.0\n",
      "Alpha: 10000000.0\n",
      "Alpha: 100000000.0\n",
      "Alpha: 1000000000.0\n",
      "Alpha: 10000000000.0\n"
     ]
    },
    {
     "data": {
      "text/plain": [
       "<matplotlib.axes._subplots.AxesSubplot at 0x114e3af50>"
      ]
     },
     "execution_count": 18,
     "metadata": {},
     "output_type": "execute_result"
    },
    {
     "data": {
      "image/png": "[encoded data removed]",
      "text/plain": [
       "<matplotlib.figure.Figure at 0x10bd7d350>"
      ]
     },
     "metadata": {},
     "output_type": "display_data"
    }
   ],
   "source": [
    "kf = cross_validation.KFold(len(CreditData), n_folds = 5, shuffle = True)\n",
    "MSE_Lasso_CV = []\n",
    "alphas = np.logspace(-10, 10, 21)\n",
    "alphas_index = np.linspace(-10,10,21)\n",
    "scores = []\n",
    "for a in alphas:\n",
    "    print 'Alpha:', a\n",
    "    scores = []\n",
    "    for train_index, test_index in kf:\n",
    "        lm = linear_model.Lasso(alpha=a).fit(X.iloc[train_index], y.iloc[train_index])\n",
    "        scores.append(metrics.mean_squared_error(y.iloc[test_index], lm.predict(X.iloc[test_index])))\n",
    "    MSE_Lasso_CV.append(np.mean(scores))\n",
    "\n",
    "index = alphas\n",
    "MSE_Lasso_CV_df = pd.DataFrame({'MSE_Lasso_CV': MSE_Lasso_CV ,'Log_Alphas': alphas_index })\n",
    "MSE_Lasso_CV_df.plot(x = 'Log_Alphas',y = 'MSE_Lasso_CV')"
   ]
  },
  {
   "cell_type": "code",
   "execution_count": 19,
   "metadata": {
    "collapsed": false
   },
   "outputs": [
    {
     "name": "stdout",
     "output_type": "stream",
     "text": [
      "[(-7.7452702188442073, 'Income'), (0.1527915981524203, 'Limit'), (1.6939844409415519, 'Rating'), (9.3463465619643706, 'Cards'), (-0.64262417332434862, 'Age'), (-0.0, 'Education'), (0.0, 'Race_Asian'), (-0.0, 'Race_Caucasian'), (-0.0, 'Gender_Female'), (-0.0, 'Married_Yes'), (312.03242606548304, 'Student_Yes')]\n"
     ]
    }
   ],
   "source": [
    "#MSE is flat up to log_alpha = 1. Log_alpha results in alpha = 10 (due to its logarithmic scale)\n",
    "lm = linear_model.Lasso(alpha=10)\n",
    "lm.fit(X, y)\n",
    "print zip(lm.coef_,X.columns)\n"
   ]
  },
  {
   "cell_type": "markdown",
   "metadata": {},
   "source": [
    "#### Based on Lasso regression outputs, we decide to eliminate Gender, Marital Status, Education, and Race from our model. The coefficients that made it to our final models were Income, Limit, Rating (we shall only choose 1 of these three variables due to colinearity), Number of Cards, Age, and Studentship. Based on our previous In-Class-Practice, we were expecting to have Income and Studentship in our model. Now, since we are only left with 4 variables, we can run statistical tests and choose the most significant model. \n"
   ]
  },
  {
   "cell_type": "markdown",
   "metadata": {},
   "source": [
    "#### Ridge Regression"
   ]
  },
  {
   "cell_type": "code",
   "execution_count": 20,
   "metadata": {
    "collapsed": false
   },
   "outputs": [
    {
     "data": {
      "text/plain": [
       "<matplotlib.axes._subplots.AxesSubplot at 0x1151b34d0>"
      ]
     },
     "execution_count": 20,
     "metadata": {},
     "output_type": "execute_result"
    },
    {
     "data": {
      "image/png": "[encoded data removed]",
      "text/plain": [
       "<matplotlib.figure.Figure at 0x11459bb50>"
      ]
     },
     "metadata": {},
     "output_type": "display_data"
    }
   ],
   "source": [
    "kf = cross_validation.KFold(len(CreditData), n_folds = 5, shuffle = True)\n",
    "MSE_Ridge_CV = []\n",
    "alphas = np.logspace(-10, 10, 21)\n",
    "alphas_index = np.linspace(-10,10,21)\n",
    "scores = []\n",
    "for a in alphas:\n",
    "    #print 'Alpha:', a\n",
    "    scores = []\n",
    "    for train_index, test_index in kf:\n",
    "        lm = linear_model.Ridge(alpha=a).fit(X.iloc[train_index], y.iloc[train_index])\n",
    "        scores.append(metrics.mean_squared_error(y.iloc[test_index], lm.predict(X.iloc[test_index])))\n",
    "    MSE_Ridge_CV.append(np.mean(scores))\n",
    "\n",
    "            #print lm.coef_\n",
    "        #MSE_Lasso_CV.append(metrics.mean_squared_error(y, lm.predict(X)))\n",
    "\n",
    "index = alphas\n",
    "MSE_Ridge_CV_df = pd.DataFrame({'MSE_Ridge_CV': MSE_Ridge_CV ,'log_alpha': alphas_index })\n",
    "MSE_Ridge_CV_df.plot(x = 'log_alpha',y = 'MSE_Ridge_CV')"
   ]
  },
  {
   "cell_type": "code",
   "execution_count": 21,
   "metadata": {
    "collapsed": false
   },
   "outputs": [
    {
     "name": "stdout",
     "output_type": "stream",
     "text": [
      "[(-7.747799013419014, 'Income'), (0.17285121974513507, 'Limit'), (1.3970960824616014, 'Rating'), (15.876236498180402, 'Cards'), (-0.68449356198776856, 'Age'), (-0.37478071530889612, 'Education'), (16.057222603221042, 'Race_Asian'), (6.4662844414632579, 'Race_Caucasian'), (-6.7895204897805215, 'Gender_Female'), (-12.616631546033105, 'Married_Yes'), (331.10065419030207, 'Student_Yes')]\n"
     ]
    }
   ],
   "source": [
    "#MSE is flat up to log_Alpha = 1. log_alpha = 1 results in alpha = 10 (due to its logarithmic scale)\n",
    "lm = linear_model.Ridge(alpha=10)\n",
    "lm.fit(X, y)\n",
    "print zip(lm.coef_,X.columns)\n"
   ]
  },
  {
   "cell_type": "markdown",
   "metadata": {},
   "source": [
    "#### Based on Ridge regression model, we are not comfortable to eliminate any variable. Generally, Lasso is much better than Ridge Regression.  "
   ]
  },
  {
   "cell_type": "markdown",
   "metadata": {},
   "source": [
    "# Scaling / Standardizing Data"
   ]
  },
  {
   "cell_type": "code",
   "execution_count": 22,
   "metadata": {
    "collapsed": true
   },
   "outputs": [],
   "source": [
    "from sklearn import preprocessing"
   ]
  },
  {
   "cell_type": "code",
   "execution_count": 23,
   "metadata": {
    "collapsed": true
   },
   "outputs": [],
   "source": [
    "CreditDataNew = preprocessing.scale(CreditData) #CreditDataNew is now a numpy array\n",
    "CreditDataNew = pd.DataFrame(CreditDataNew)   #We changed CreditDataNew to a dataframe\n",
    "CreditDataNew.columns = CreditData.columns.values  #We renamed columns of CreditDataNew"
   ]
  },
  {
   "cell_type": "code",
   "execution_count": 24,
   "metadata": {
    "collapsed": false
   },
   "outputs": [
    {
     "data": {
      "text/html": [
       "<div>\n",
       "<table border=\"1\" class=\"dataframe\">\n",
       "  <thead>\n",
       "    <tr style=\"text-align: right;\">\n",
       "      <th></th>\n",
       "      <th>Income</th>\n",
       "      <th>Limit</th>\n",
       "      <th>Rating</th>\n",
       "      <th>Cards</th>\n",
       "      <th>Age</th>\n",
       "      <th>Education</th>\n",
       "      <th>Balance</th>\n",
       "      <th>Race_Asian</th>\n",
       "      <th>Race_Caucasian</th>\n",
       "      <th>Gender_Female</th>\n",
       "      <th>Married_Yes</th>\n",
       "      <th>Student_Yes</th>\n",
       "    </tr>\n",
       "  </thead>\n",
       "  <tbody>\n",
       "    <tr>\n",
       "      <th>0</th>\n",
       "      <td>-0.861583</td>\n",
       "      <td>-0.489999</td>\n",
       "      <td>-0.465539</td>\n",
       "      <td>-0.699130</td>\n",
       "      <td>-1.257674</td>\n",
       "      <td>-0.784930</td>\n",
       "      <td>-0.407277</td>\n",
       "      <td>-0.585049</td>\n",
       "      <td>1.005013</td>\n",
       "      <td>-1.035635</td>\n",
       "      <td>0.795395</td>\n",
       "      <td>-0.333333</td>\n",
       "    </tr>\n",
       "    <tr>\n",
       "      <th>1</th>\n",
       "      <td>1.727437</td>\n",
       "      <td>0.828261</td>\n",
       "      <td>0.828703</td>\n",
       "      <td>0.031032</td>\n",
       "      <td>1.528451</td>\n",
       "      <td>0.496588</td>\n",
       "      <td>0.834056</td>\n",
       "      <td>1.709260</td>\n",
       "      <td>-0.995012</td>\n",
       "      <td>0.965592</td>\n",
       "      <td>0.795395</td>\n",
       "      <td>3.000000</td>\n",
       "    </tr>\n",
       "    <tr>\n",
       "      <th>2</th>\n",
       "      <td>1.686756</td>\n",
       "      <td>1.014787</td>\n",
       "      <td>1.029311</td>\n",
       "      <td>0.761194</td>\n",
       "      <td>0.889964</td>\n",
       "      <td>-0.784930</td>\n",
       "      <td>0.130634</td>\n",
       "      <td>1.709260</td>\n",
       "      <td>-0.995012</td>\n",
       "      <td>-1.035635</td>\n",
       "      <td>-1.257237</td>\n",
       "      <td>-0.333333</td>\n",
       "    </tr>\n",
       "    <tr>\n",
       "      <th>3</th>\n",
       "      <td>2.946152</td>\n",
       "      <td>2.068440</td>\n",
       "      <td>2.110003</td>\n",
       "      <td>0.031032</td>\n",
       "      <td>-1.141586</td>\n",
       "      <td>-0.784930</td>\n",
       "      <td>0.966900</td>\n",
       "      <td>1.709260</td>\n",
       "      <td>-0.995012</td>\n",
       "      <td>0.965592</td>\n",
       "      <td>-1.257237</td>\n",
       "      <td>-0.333333</td>\n",
       "    </tr>\n",
       "    <tr>\n",
       "      <th>4</th>\n",
       "      <td>0.302928</td>\n",
       "      <td>0.070012</td>\n",
       "      <td>0.013331</td>\n",
       "      <td>-0.699130</td>\n",
       "      <td>0.715831</td>\n",
       "      <td>0.816968</td>\n",
       "      <td>-0.411633</td>\n",
       "      <td>-0.585049</td>\n",
       "      <td>1.005013</td>\n",
       "      <td>-1.035635</td>\n",
       "      <td>0.795395</td>\n",
       "      <td>-0.333333</td>\n",
       "    </tr>\n",
       "  </tbody>\n",
       "</table>\n",
       "</div>"
      ],
      "text/plain": [
       "     Income     Limit    Rating     Cards       Age  Education   Balance  \\\n",
       "0 -0.861583 -0.489999 -0.465539 -0.699130 -1.257674  -0.784930 -0.407277   \n",
       "1  1.727437  0.828261  0.828703  0.031032  1.528451   0.496588  0.834056   \n",
       "2  1.686756  1.014787  1.029311  0.761194  0.889964  -0.784930  0.130634   \n",
       "3  2.946152  2.068440  2.110003  0.031032 -1.141586  -0.784930  0.966900   \n",
       "4  0.302928  0.070012  0.013331 -0.699130  0.715831   0.816968 -0.411633   \n",
       "\n",
       "   Race_Asian  Race_Caucasian  Gender_Female  Married_Yes  Student_Yes  \n",
       "0   -0.585049        1.005013      -1.035635     0.795395    -0.333333  \n",
       "1    1.709260       -0.995012       0.965592     0.795395     3.000000  \n",
       "2    1.709260       -0.995012      -1.035635    -1.257237    -0.333333  \n",
       "3    1.709260       -0.995012       0.965592    -1.257237    -0.333333  \n",
       "4   -0.585049        1.005013      -1.035635     0.795395    -0.333333  "
      ]
     },
     "execution_count": 24,
     "metadata": {},
     "output_type": "execute_result"
    }
   ],
   "source": [
    "CreditDataNew.head()"
   ]
  },
  {
   "cell_type": "code",
   "execution_count": 25,
   "metadata": {
    "collapsed": false
   },
   "outputs": [],
   "source": [
    "X = CreditDataNew[listOfAllVariables]\n",
    "del X['Balance']\n",
    "y = CreditDataNew['Balance']"
   ]
  },
  {
   "cell_type": "code",
   "execution_count": 26,
   "metadata": {
    "collapsed": false
   },
   "outputs": [
    {
     "name": "stdout",
     "output_type": "stream",
     "text": [
      "Alpha: 1e-10\n",
      "0.048549814373\n",
      "Alpha: 1e-09\n",
      "0.0485498143394\n",
      "Alpha: 1e-08\n",
      "0.0485498140035\n",
      "Alpha: 1e-07\n",
      "0.0485498106446\n",
      "Alpha: 1e-06\n",
      "0.0485497770766\n",
      "Alpha: 1e-05\n",
      "0.0485528712906\n",
      "Alpha: 0.0001\n",
      "0.0485568058473\n",
      "Alpha: 0.001\n",
      "0.0485116355313\n",
      "Alpha: 0.01\n",
      "0.0492273222388\n",
      "Alpha: 0.1\n",
      "0.166568243905\n",
      "Alpha: 1.0\n",
      "1.00177675645\n",
      "Alpha: 10.0\n",
      "1.00177675645\n",
      "Alpha: 100.0\n",
      "1.00177675645\n",
      "Alpha: 1000.0\n",
      "1.00177675645\n",
      "Alpha: 10000.0\n",
      "1.00177675645\n",
      "Alpha: 100000.0\n",
      "1.00177675645\n",
      "Alpha: 1000000.0\n",
      "1.00177675645\n",
      "Alpha: 10000000.0\n",
      "1.00177675645\n",
      "Alpha: 100000000.0\n",
      "1.00177675645\n",
      "Alpha: 1000000000.0\n",
      "1.00177675645\n",
      "Alpha: 10000000000.0\n",
      "1.00177675645\n"
     ]
    },
    {
     "data": {
      "text/plain": [
       "<matplotlib.axes._subplots.AxesSubplot at 0x114c8eb10>"
      ]
     },
     "execution_count": 26,
     "metadata": {},
     "output_type": "execute_result"
    },
    {
     "data": {
      "image/png": "[encoded data removed]",
      "text/plain": [
       "<matplotlib.figure.Figure at 0x115199e90>"
      ]
     },
     "metadata": {},
     "output_type": "display_data"
    }
   ],
   "source": [
    "kf = cross_validation.KFold(len(CreditDataNew), n_folds = 5, shuffle = True)\n",
    "MSE_Lasso_CV = []\n",
    "alphas = np.logspace(-10, 10, 21)\n",
    "alphas_index = np.linspace(-10,10,21)\n",
    "scores = []\n",
    "for a in alphas:\n",
    "    print 'Alpha:', a\n",
    "    scores = []\n",
    "    for train_index, test_index in kf:\n",
    "        lm = linear_model.Lasso(alpha=a).fit(X.iloc[train_index], y.iloc[train_index])\n",
    "        scores.append(metrics.mean_squared_error(y.iloc[test_index], lm.predict(X.iloc[test_index])))\n",
    "    MSE_Lasso_CV.append(np.mean(scores))\n",
    "    print(np.mean(scores))\n",
    "\n",
    "\n",
    "\n",
    "index = alphas\n",
    "MSE_Lasso_CV_df = pd.DataFrame({'MSE_Lasso_CV': MSE_Lasso_CV ,'Log_Alphas': alphas_index })\n",
    "MSE_Lasso_CV_df.plot(x = 'Log_Alphas',y = 'MSE_Lasso_CV')"
   ]
  },
  {
   "cell_type": "code",
   "execution_count": 27,
   "metadata": {
    "collapsed": false
   },
   "outputs": [
    {
     "name": "stdout",
     "output_type": "stream",
     "text": [
      "[(-0.55167106880804095, 'Income'), (0.87350643006043971, 'Limit'), (0.41941036771521767, 'Rating'), (0.042801835650123063, 'Cards'), (-0.016712885686218062, 'Age'), (-0.0, 'Education'), (0.0, 'Race_Asian'), (0.0, 'Race_Caucasian'), (-1.7624789549735009e-05, 'Gender_Female'), (-0.0, 'Married_Yes'), (0.26657472496548718, 'Student_Yes')]\n"
     ]
    }
   ],
   "source": [
    "lm = linear_model.Lasso(alpha=10**(-2))\n",
    "lm.fit(X, y)\n",
    "print zip(lm.coef_,X.columns)"
   ]
  },
  {
   "cell_type": "markdown",
   "metadata": {},
   "source": [
    "#### When you standardize data, then relative magnitude of coefficients are meaningful. Small Coefficients suggest insignificancy of inclusion of that variable in your model. In this case, Income, Limit, Rating and Student_status are considerably more significant than other variables. Among (Income, Limit and Rating) we only choose one due to high colinearity. Therefore, in are final model it is logical to keep (income, Limit, or Rating) + Student stauts. "
   ]
  },
  {
   "cell_type": "code",
   "execution_count": 28,
   "metadata": {
    "collapsed": false
   },
   "outputs": [
    {
     "data": {
      "text/html": [
       "<div>\n",
       "<table border=\"1\" class=\"dataframe\">\n",
       "  <thead>\n",
       "    <tr style=\"text-align: right;\">\n",
       "      <th></th>\n",
       "      <th>Income</th>\n",
       "      <th>Limit</th>\n",
       "      <th>Rating</th>\n",
       "      <th>Cards</th>\n",
       "      <th>Age</th>\n",
       "      <th>Education</th>\n",
       "      <th>Balance</th>\n",
       "      <th>Race_Asian</th>\n",
       "      <th>Race_Caucasian</th>\n",
       "      <th>Gender_Female</th>\n",
       "      <th>Married_Yes</th>\n",
       "      <th>Student_Yes</th>\n",
       "    </tr>\n",
       "  </thead>\n",
       "  <tbody>\n",
       "    <tr>\n",
       "      <th>Income</th>\n",
       "      <td>1.000000</td>\n",
       "      <td>0.792088</td>\n",
       "      <td>0.791378</td>\n",
       "      <td>-0.018273</td>\n",
       "      <td>0.175338</td>\n",
       "      <td>-0.027692</td>\n",
       "      <td>0.463656</td>\n",
       "      <td>-0.017137</td>\n",
       "      <td>-0.019701</td>\n",
       "      <td>-0.010738</td>\n",
       "      <td>0.035652</td>\n",
       "      <td>0.019632</td>\n",
       "    </tr>\n",
       "    <tr>\n",
       "      <th>Limit</th>\n",
       "      <td>0.792088</td>\n",
       "      <td>1.000000</td>\n",
       "      <td>0.996880</td>\n",
       "      <td>0.010231</td>\n",
       "      <td>0.100888</td>\n",
       "      <td>-0.023549</td>\n",
       "      <td>0.861697</td>\n",
       "      <td>-0.032427</td>\n",
       "      <td>-0.003081</td>\n",
       "      <td>0.009397</td>\n",
       "      <td>0.031155</td>\n",
       "      <td>-0.006015</td>\n",
       "    </tr>\n",
       "    <tr>\n",
       "      <th>Rating</th>\n",
       "      <td>0.791378</td>\n",
       "      <td>0.996880</td>\n",
       "      <td>1.000000</td>\n",
       "      <td>0.053239</td>\n",
       "      <td>0.103165</td>\n",
       "      <td>-0.030136</td>\n",
       "      <td>0.863625</td>\n",
       "      <td>-0.035999</td>\n",
       "      <td>-0.001070</td>\n",
       "      <td>0.008885</td>\n",
       "      <td>0.036751</td>\n",
       "      <td>-0.002028</td>\n",
       "    </tr>\n",
       "    <tr>\n",
       "      <th>Cards</th>\n",
       "      <td>-0.018273</td>\n",
       "      <td>0.010231</td>\n",
       "      <td>0.053239</td>\n",
       "      <td>1.000000</td>\n",
       "      <td>0.042948</td>\n",
       "      <td>-0.051084</td>\n",
       "      <td>0.086456</td>\n",
       "      <td>0.005591</td>\n",
       "      <td>-0.005631</td>\n",
       "      <td>-0.022658</td>\n",
       "      <td>-0.009695</td>\n",
       "      <td>-0.026164</td>\n",
       "    </tr>\n",
       "    <tr>\n",
       "      <th>Age</th>\n",
       "      <td>0.175338</td>\n",
       "      <td>0.100888</td>\n",
       "      <td>0.103165</td>\n",
       "      <td>0.042948</td>\n",
       "      <td>1.000000</td>\n",
       "      <td>0.003619</td>\n",
       "      <td>0.001835</td>\n",
       "      <td>-0.059623</td>\n",
       "      <td>-0.000822</td>\n",
       "      <td>0.004015</td>\n",
       "      <td>-0.073136</td>\n",
       "      <td>-0.029844</td>\n",
       "    </tr>\n",
       "    <tr>\n",
       "      <th>Education</th>\n",
       "      <td>-0.027692</td>\n",
       "      <td>-0.023549</td>\n",
       "      <td>-0.030136</td>\n",
       "      <td>-0.051084</td>\n",
       "      <td>0.003619</td>\n",
       "      <td>1.000000</td>\n",
       "      <td>-0.008062</td>\n",
       "      <td>0.029586</td>\n",
       "      <td>-0.037725</td>\n",
       "      <td>-0.005049</td>\n",
       "      <td>0.048911</td>\n",
       "      <td>0.072085</td>\n",
       "    </tr>\n",
       "    <tr>\n",
       "      <th>Balance</th>\n",
       "      <td>0.463656</td>\n",
       "      <td>0.861697</td>\n",
       "      <td>0.863625</td>\n",
       "      <td>0.086456</td>\n",
       "      <td>0.001835</td>\n",
       "      <td>-0.008062</td>\n",
       "      <td>1.000000</td>\n",
       "      <td>-0.009812</td>\n",
       "      <td>-0.003288</td>\n",
       "      <td>0.021474</td>\n",
       "      <td>-0.005673</td>\n",
       "      <td>0.259018</td>\n",
       "    </tr>\n",
       "    <tr>\n",
       "      <th>Race_Asian</th>\n",
       "      <td>-0.017137</td>\n",
       "      <td>-0.032427</td>\n",
       "      <td>-0.035999</td>\n",
       "      <td>0.005591</td>\n",
       "      <td>-0.059623</td>\n",
       "      <td>0.029586</td>\n",
       "      <td>-0.009812</td>\n",
       "      <td>1.000000</td>\n",
       "      <td>-0.582131</td>\n",
       "      <td>0.025425</td>\n",
       "      <td>0.088595</td>\n",
       "      <td>0.053534</td>\n",
       "    </tr>\n",
       "    <tr>\n",
       "      <th>Race_Caucasian</th>\n",
       "      <td>-0.019701</td>\n",
       "      <td>-0.003081</td>\n",
       "      <td>-0.001070</td>\n",
       "      <td>-0.005631</td>\n",
       "      <td>-0.000822</td>\n",
       "      <td>-0.037725</td>\n",
       "      <td>-0.003288</td>\n",
       "      <td>-0.582131</td>\n",
       "      <td>1.000000</td>\n",
       "      <td>-0.009831</td>\n",
       "      <td>0.011418</td>\n",
       "      <td>-0.048334</td>\n",
       "    </tr>\n",
       "    <tr>\n",
       "      <th>Gender_Female</th>\n",
       "      <td>-0.010738</td>\n",
       "      <td>0.009397</td>\n",
       "      <td>0.008885</td>\n",
       "      <td>-0.022658</td>\n",
       "      <td>0.004015</td>\n",
       "      <td>-0.005049</td>\n",
       "      <td>0.021474</td>\n",
       "      <td>0.025425</td>\n",
       "      <td>-0.009831</td>\n",
       "      <td>1.000000</td>\n",
       "      <td>0.012452</td>\n",
       "      <td>0.055034</td>\n",
       "    </tr>\n",
       "    <tr>\n",
       "      <th>Married_Yes</th>\n",
       "      <td>0.035652</td>\n",
       "      <td>0.031155</td>\n",
       "      <td>0.036751</td>\n",
       "      <td>-0.009695</td>\n",
       "      <td>-0.073136</td>\n",
       "      <td>0.048911</td>\n",
       "      <td>-0.005673</td>\n",
       "      <td>0.088595</td>\n",
       "      <td>0.011418</td>\n",
       "      <td>0.012452</td>\n",
       "      <td>1.000000</td>\n",
       "      <td>-0.076974</td>\n",
       "    </tr>\n",
       "    <tr>\n",
       "      <th>Student_Yes</th>\n",
       "      <td>0.019632</td>\n",
       "      <td>-0.006015</td>\n",
       "      <td>-0.002028</td>\n",
       "      <td>-0.026164</td>\n",
       "      <td>-0.029844</td>\n",
       "      <td>0.072085</td>\n",
       "      <td>0.259018</td>\n",
       "      <td>0.053534</td>\n",
       "      <td>-0.048334</td>\n",
       "      <td>0.055034</td>\n",
       "      <td>-0.076974</td>\n",
       "      <td>1.000000</td>\n",
       "    </tr>\n",
       "  </tbody>\n",
       "</table>\n",
       "</div>"
      ],
      "text/plain": [
       "                  Income     Limit    Rating     Cards       Age  Education  \\\n",
       "Income          1.000000  0.792088  0.791378 -0.018273  0.175338  -0.027692   \n",
       "Limit           0.792088  1.000000  0.996880  0.010231  0.100888  -0.023549   \n",
       "Rating          0.791378  0.996880  1.000000  0.053239  0.103165  -0.030136   \n",
       "Cards          -0.018273  0.010231  0.053239  1.000000  0.042948  -0.051084   \n",
       "Age             0.175338  0.100888  0.103165  0.042948  1.000000   0.003619   \n",
       "Education      -0.027692 -0.023549 -0.030136 -0.051084  0.003619   1.000000   \n",
       "Balance         0.463656  0.861697  0.863625  0.086456  0.001835  -0.008062   \n",
       "Race_Asian     -0.017137 -0.032427 -0.035999  0.005591 -0.059623   0.029586   \n",
       "Race_Caucasian -0.019701 -0.003081 -0.001070 -0.005631 -0.000822  -0.037725   \n",
       "Gender_Female  -0.010738  0.009397  0.008885 -0.022658  0.004015  -0.005049   \n",
       "Married_Yes     0.035652  0.031155  0.036751 -0.009695 -0.073136   0.048911   \n",
       "Student_Yes     0.019632 -0.006015 -0.002028 -0.026164 -0.029844   0.072085   \n",
       "\n",
       "                 Balance  Race_Asian  Race_Caucasian  Gender_Female  \\\n",
       "Income          0.463656   -0.017137       -0.019701      -0.010738   \n",
       "Limit           0.861697   -0.032427       -0.003081       0.009397   \n",
       "Rating          0.863625   -0.035999       -0.001070       0.008885   \n",
       "Cards           0.086456    0.005591       -0.005631      -0.022658   \n",
       "Age             0.001835   -0.059623       -0.000822       0.004015   \n",
       "Education      -0.008062    0.029586       -0.037725      -0.005049   \n",
       "Balance         1.000000   -0.009812       -0.003288       0.021474   \n",
       "Race_Asian     -0.009812    1.000000       -0.582131       0.025425   \n",
       "Race_Caucasian -0.003288   -0.582131        1.000000      -0.009831   \n",
       "Gender_Female   0.021474    0.025425       -0.009831       1.000000   \n",
       "Married_Yes    -0.005673    0.088595        0.011418       0.012452   \n",
       "Student_Yes     0.259018    0.053534       -0.048334       0.055034   \n",
       "\n",
       "                Married_Yes  Student_Yes  \n",
       "Income             0.035652     0.019632  \n",
       "Limit              0.031155    -0.006015  \n",
       "Rating             0.036751    -0.002028  \n",
       "Cards             -0.009695    -0.026164  \n",
       "Age               -0.073136    -0.029844  \n",
       "Education          0.048911     0.072085  \n",
       "Balance           -0.005673     0.259018  \n",
       "Race_Asian         0.088595     0.053534  \n",
       "Race_Caucasian     0.011418    -0.048334  \n",
       "Gender_Female      0.012452     0.055034  \n",
       "Married_Yes        1.000000    -0.076974  \n",
       "Student_Yes       -0.076974     1.000000  "
      ]
     },
     "execution_count": 28,
     "metadata": {},
     "output_type": "execute_result"
    }
   ],
   "source": [
    "CreditDataNew.corr()"
   ]
  },
  {
   "cell_type": "code",
   "execution_count": 37,
   "metadata": {
    "collapsed": false
   },
   "outputs": [
    {
     "name": "stdout",
     "output_type": "stream",
     "text": [
      "[0.21084294953537533, 0.21228299272641885, 0.19759995619745496, 0.21989677493794879, 0.19027561650164193]\n",
      "[ 0.82910322  0.25303007]\n"
     ]
    }
   ],
   "source": [
    "kf = cross_validation.KFold(len(CreditDataNew), n_folds = 5, shuffle = True)\n",
    "scores = []\n",
    "X = CreditDataNew[[\"Rating\", \"Student_Yes\"]]\n",
    "for test_index, train_index in kf:\n",
    "    lm = linear_model.LinearRegression().fit(X.iloc[train_index], y.iloc[train_index])\n",
    "    scores.append(metrics.mean_squared_error(y.iloc[test_index], lm.predict(X.iloc[test_index])))\n",
    "print scores\n",
    "print(lm.coef_)"
   ]
  },
  {
   "cell_type": "code",
   "execution_count": null,
   "metadata": {
    "collapsed": true
   },
   "outputs": [],
   "source": []
  }
 ],
 "metadata": {
  "kernelspec": {
   "display_name": "Python 2",
   "language": "python",
   "name": "python2"
  },
  "language_info": {
   "codemirror_mode": {
    "name": "ipython",
    "version": 2
   },
   "file_extension": ".py",
   "mimetype": "text/x-python",
   "name": "python",
   "nbconvert_exporter": "python",
   "pygments_lexer": "ipython2",
   "version": "2.7.10"
  }
 },
 "nbformat": 4,
 "nbformat_minor": 0
}
