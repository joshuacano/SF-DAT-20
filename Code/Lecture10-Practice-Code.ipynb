{
 "cells": [
  {
   "cell_type": "code",
   "execution_count": 1,
   "metadata": {
    "collapsed": true
   },
   "outputs": [],
   "source": [
    "import pandas as pd\n",
    "import numpy as np\n",
    "from sklearn.linear_model import LogisticRegression\n",
    "from sklearn.cross_validation import cross_val_score\n",
    "from sklearn.metrics import confusion_matrix\n",
    "import matplotlib.pyplot as plt\n",
    "%matplotlib notebook"
   ]
  },
  {
   "cell_type": "code",
   "execution_count": 75,
   "metadata": {
    "collapsed": true
   },
   "outputs": [],
   "source": [
    "url = \"https://raw.githubusercontent.com/ga-students/SF-DAT-20/master/Data/myopia.csv\"\n",
    "MyopiaData = pd.read_csv(url)"
   ]
  },
  {
   "cell_type": "code",
   "execution_count": 3,
   "metadata": {
    "collapsed": false
   },
   "outputs": [
    {
     "data": {
      "text/html": [
       "<div>\n",
       "<table border=\"1\" class=\"dataframe\">\n",
       "  <thead>\n",
       "    <tr style=\"text-align: right;\">\n",
       "      <th></th>\n",
       "      <th>ID</th>\n",
       "      <th>STUDYYEAR</th>\n",
       "      <th>MYOPIC</th>\n",
       "      <th>AGE</th>\n",
       "      <th>GENDER</th>\n",
       "      <th>SPHEQ</th>\n",
       "      <th>AL</th>\n",
       "      <th>ACD</th>\n",
       "      <th>LT</th>\n",
       "      <th>VCD</th>\n",
       "      <th>SPORTHR</th>\n",
       "      <th>READHR</th>\n",
       "      <th>COMPHR</th>\n",
       "      <th>STUDYHR</th>\n",
       "      <th>TVHR</th>\n",
       "      <th>DIOPTERHR</th>\n",
       "      <th>MOMMY</th>\n",
       "      <th>DADMY</th>\n",
       "    </tr>\n",
       "  </thead>\n",
       "  <tbody>\n",
       "    <tr>\n",
       "      <th>0</th>\n",
       "      <td>1</td>\n",
       "      <td>1992</td>\n",
       "      <td>1</td>\n",
       "      <td>6</td>\n",
       "      <td>1</td>\n",
       "      <td>-0.052</td>\n",
       "      <td>21.89</td>\n",
       "      <td>3.690</td>\n",
       "      <td>3.498</td>\n",
       "      <td>14.70</td>\n",
       "      <td>45</td>\n",
       "      <td>8</td>\n",
       "      <td>0</td>\n",
       "      <td>0</td>\n",
       "      <td>10</td>\n",
       "      <td>34</td>\n",
       "      <td>1</td>\n",
       "      <td>1</td>\n",
       "    </tr>\n",
       "    <tr>\n",
       "      <th>1</th>\n",
       "      <td>2</td>\n",
       "      <td>1995</td>\n",
       "      <td>0</td>\n",
       "      <td>6</td>\n",
       "      <td>1</td>\n",
       "      <td>0.608</td>\n",
       "      <td>22.38</td>\n",
       "      <td>3.702</td>\n",
       "      <td>3.392</td>\n",
       "      <td>15.29</td>\n",
       "      <td>4</td>\n",
       "      <td>0</td>\n",
       "      <td>1</td>\n",
       "      <td>1</td>\n",
       "      <td>7</td>\n",
       "      <td>12</td>\n",
       "      <td>1</td>\n",
       "      <td>1</td>\n",
       "    </tr>\n",
       "    <tr>\n",
       "      <th>2</th>\n",
       "      <td>3</td>\n",
       "      <td>1991</td>\n",
       "      <td>0</td>\n",
       "      <td>6</td>\n",
       "      <td>1</td>\n",
       "      <td>1.179</td>\n",
       "      <td>22.49</td>\n",
       "      <td>3.462</td>\n",
       "      <td>3.514</td>\n",
       "      <td>15.52</td>\n",
       "      <td>14</td>\n",
       "      <td>0</td>\n",
       "      <td>2</td>\n",
       "      <td>0</td>\n",
       "      <td>10</td>\n",
       "      <td>14</td>\n",
       "      <td>0</td>\n",
       "      <td>0</td>\n",
       "    </tr>\n",
       "    <tr>\n",
       "      <th>3</th>\n",
       "      <td>4</td>\n",
       "      <td>1990</td>\n",
       "      <td>1</td>\n",
       "      <td>6</td>\n",
       "      <td>1</td>\n",
       "      <td>0.525</td>\n",
       "      <td>22.20</td>\n",
       "      <td>3.862</td>\n",
       "      <td>3.612</td>\n",
       "      <td>14.73</td>\n",
       "      <td>18</td>\n",
       "      <td>11</td>\n",
       "      <td>0</td>\n",
       "      <td>0</td>\n",
       "      <td>4</td>\n",
       "      <td>37</td>\n",
       "      <td>0</td>\n",
       "      <td>1</td>\n",
       "    </tr>\n",
       "    <tr>\n",
       "      <th>4</th>\n",
       "      <td>5</td>\n",
       "      <td>1995</td>\n",
       "      <td>0</td>\n",
       "      <td>5</td>\n",
       "      <td>0</td>\n",
       "      <td>0.697</td>\n",
       "      <td>23.29</td>\n",
       "      <td>3.676</td>\n",
       "      <td>3.454</td>\n",
       "      <td>16.16</td>\n",
       "      <td>14</td>\n",
       "      <td>0</td>\n",
       "      <td>0</td>\n",
       "      <td>0</td>\n",
       "      <td>4</td>\n",
       "      <td>4</td>\n",
       "      <td>1</td>\n",
       "      <td>0</td>\n",
       "    </tr>\n",
       "  </tbody>\n",
       "</table>\n",
       "</div>"
      ],
      "text/plain": [
       "   ID  STUDYYEAR  MYOPIC  AGE  GENDER  SPHEQ     AL    ACD     LT    VCD  \\\n",
       "0   1       1992       1    6       1 -0.052  21.89  3.690  3.498  14.70   \n",
       "1   2       1995       0    6       1  0.608  22.38  3.702  3.392  15.29   \n",
       "2   3       1991       0    6       1  1.179  22.49  3.462  3.514  15.52   \n",
       "3   4       1990       1    6       1  0.525  22.20  3.862  3.612  14.73   \n",
       "4   5       1995       0    5       0  0.697  23.29  3.676  3.454  16.16   \n",
       "\n",
       "   SPORTHR  READHR  COMPHR  STUDYHR  TVHR  DIOPTERHR  MOMMY  DADMY  \n",
       "0       45       8       0        0    10         34      1      1  \n",
       "1        4       0       1        1     7         12      1      1  \n",
       "2       14       0       2        0    10         14      0      0  \n",
       "3       18      11       0        0     4         37      0      1  \n",
       "4       14       0       0        0     4          4      1      0  "
      ]
     },
     "execution_count": 3,
     "metadata": {},
     "output_type": "execute_result"
    }
   ],
   "source": [
    "MyopiaData.head()"
   ]
  },
  {
   "cell_type": "markdown",
   "metadata": {},
   "source": [
    "Here is our dataset dictionary: https://www.umass.edu/statdata/statdata/data/myopia.pdf"
   ]
  },
  {
   "cell_type": "markdown",
   "metadata": {},
   "source": [
    "#### We are interested in finding out what contributes to Myopia the most. My grandmother always told me not to watch TV, play with computer since it will affect my eyes. (She was strangely fine with studying!). It sounds like Drs share the same point of view with my grandmother \" http://www.allaboutvision.com/conditions/myopia.htm \"\n",
    "\n",
    "#### We are DataScientist and don't trust our grandmothers or DRs unless we find the same result! Now, let's go and explore Myopia!\n",
    "\n",
    "\n"
   ]
  },
  {
   "cell_type": "code",
   "execution_count": 76,
   "metadata": {
    "collapsed": true
   },
   "outputs": [],
   "source": [
    "# Year of study and id should not affect anything so we disregard them in this study. \n",
    "# we consider two types of inputs - first all general inputs - i.e. physical and external inputs\n",
    "# second only external inputs\n",
    "X1 = MyopiaData[['SPHEQ','AL','ACD','LT','VCD','AGE','GENDER','SPORTHR','READHR','COMPHR','STUDYHR','TVHR','DIOPTERHR','MOMMY','DADMY']]\n",
    "X2 = MyopiaData[['AGE','GENDER','SPORTHR','READHR','COMPHR','STUDYHR','TVHR','DIOPTERHR','MOMMY','DADMY']]\n",
    "y = MyopiaData['MYOPIC']\n"
   ]
  },
  {
   "cell_type": "markdown",
   "metadata": {},
   "source": [
    "Run your regression line on X1 and interpret your MOMMY AND DADMY coefficients."
   ]
  },
  {
   "cell_type": "code",
   "execution_count": 77,
   "metadata": {
    "collapsed": false
   },
   "outputs": [
    {
     "name": "stdout",
     "output_type": "stream",
     "text": [
      "[[-3.39425428  0.11608585  0.77257154 -0.31202032 -0.32603761  0.00379027\n",
      "   0.53625119 -0.04739567  0.09764203  0.05015869 -0.13224771 -0.00438641\n",
      "  -0.00788606  0.63899595  0.72678877]]\n"
     ]
    }
   ],
   "source": [
    "lm = LogisticRegression()\n",
    "lm.fit(X1, y)\n",
    "print lm.coef_"
   ]
  },
  {
   "cell_type": "markdown",
   "metadata": {},
   "source": [
    "Interpretation: it seems that SPHEQ is relevant as well as Gender, Mommy and Daddy, and ACD"
   ]
  },
  {
   "cell_type": "markdown",
   "metadata": {},
   "source": [
    "#### Use confusion matrix and estimate False negative rate and False positive rate"
   ]
  },
  {
   "cell_type": "code",
   "execution_count": 94,
   "metadata": {
    "collapsed": false
   },
   "outputs": [
    {
     "name": "stdout",
     "output_type": "stream",
     "text": [
      "[[524  53]\n",
      " [ 13  28]]\n"
     ]
    }
   ],
   "source": [
    "lm.fit(X1, y)\n",
    "y_hat = lm.predict(X1)\n",
    "cm = confusion_matrix(y_hat, y)\n",
    "print cm"
   ]
  },
  {
   "cell_type": "code",
   "execution_count": 91,
   "metadata": {
    "collapsed": false
   },
   "outputs": [
    {
     "name": "stdout",
     "output_type": "stream",
     "text": [
      "0.654320987654\n",
      "0.024208566108\n",
      "[[524  53]\n",
      " [ 13  28]]\n"
     ]
    }
   ],
   "source": [
    "fpr = float(cm[0][1])/(cm[0][1] + cm[1][1]) \n",
    "fnr = float(cm[1][0])/(cm[0][0] + cm[1][0])\n",
    "print fpr\n",
    "print fnr\n",
    "print cm"
   ]
  },
  {
   "cell_type": "markdown",
   "metadata": {},
   "source": [
    "#### Use 10-fold cross-validation to measure accuracy of your predictions"
   ]
  },
  {
   "cell_type": "code",
   "execution_count": 10,
   "metadata": {
    "collapsed": false
   },
   "outputs": [
    {
     "name": "stdout",
     "output_type": "stream",
     "text": [
      "0.886747164933\n"
     ]
    }
   ],
   "source": [
    "print(cross_val_score(lm,X1,y,cv=10).mean()) \n",
    "\n"
   ]
  },
  {
   "cell_type": "markdown",
   "metadata": {},
   "source": [
    "#### In your dataset, what percentage of cases are myopic?"
   ]
  },
  {
   "cell_type": "code",
   "execution_count": 73,
   "metadata": {
    "collapsed": false
   },
   "outputs": [
    {
     "name": "stdout",
     "output_type": "stream",
     "text": [
      "0.0550161812298\n"
     ]
    },
    {
     "data": {
      "text/plain": [
       "0.13106796116504854"
      ]
     },
     "execution_count": 73,
     "metadata": {},
     "output_type": "execute_result"
    }
   ],
   "source": [
    "print float(len(y_hat[y_hat == 1]))/len(y_hat)\n",
    "MyopiaData[\"MYOPIC\"].mean()\n",
    "#It seems 6.634 percent are myopic in my case"
   ]
  },
  {
   "cell_type": "markdown",
   "metadata": {},
   "source": [
    "#### Based on the result you found above, is your prediction precision good or bad?"
   ]
  },
  {
   "cell_type": "markdown",
   "metadata": {},
   "source": [
    "Answer: IT seems my Prediction precision is bad. as there are 13% of cases found in my dataset"
   ]
  },
  {
   "cell_type": "markdown",
   "metadata": {},
   "source": [
    "#### Imagine you would like to decrease your False negative rate. What can you do in order to make it less than 2%? "
   ]
  },
  {
   "cell_type": "code",
   "execution_count": 83,
   "metadata": {
    "collapsed": false
   },
   "outputs": [
    {
     "name": "stdout",
     "output_type": "stream",
     "text": [
      "[[324   4]\n",
      " [213  77]]\n",
      "0.0493827160494\n",
      "0.396648044693\n"
     ]
    }
   ],
   "source": [
    "def PredictThreshold(Predictprob,Threshhold):\n",
    "    y_predict = 0\n",
    "    if (Predictprob >= Threshhold):\n",
    "        y_predict = 1\n",
    "    return y_predict\n",
    "\n",
    "def Fpr(cm):\n",
    "    return float(cm[0][1])/(cm[0][1] + cm[1][1]) \n",
    "\n",
    "def Fnr(cm):\n",
    "    return float(cm[1][0])/(cm[0][0] + cm[1][0])\n",
    "\n",
    "y_hat_prob = lm.predict_proba(X1).T[1]\n",
    "thresh = 0.06\n",
    "y_hat_list = []\n",
    "for i in range(0, len(y_hat_prob)):\n",
    "    y_hat_list.append(PredictThreshold(y_hat_prob[i], thresh))\n",
    "    \n",
    "cm = confusion_matrix(y_hat_list, y)\n",
    "print cm\n",
    "print Fpr(cm)\n",
    "print Fnr(cm)"
   ]
  },
  {
   "cell_type": "markdown",
   "metadata": {},
   "source": [
    "Answer: "
   ]
  },
  {
   "cell_type": "markdown",
   "metadata": {},
   "source": [
    "#### Now let's run a logistic regression line on X2 and see if we can confirm our Grandmothers' claims!"
   ]
  },
  {
   "cell_type": "code",
   "execution_count": 70,
   "metadata": {
    "collapsed": false
   },
   "outputs": [
    {
     "name": "stdout",
     "output_type": "stream",
     "text": [
      "[[  3.62008409e-02   2.79789935e-01  -4.46768607e-02   7.27860411e-02\n",
      "    1.29525220e-02  -8.53623896e-02  -5.81167570e-05   5.76482063e-03\n",
      "    7.68034486e-01   8.95136625e-01]]\n",
      "['AGE' 'GENDER' 'SPORTHR' 'READHR' 'COMPHR' 'STUDYHR' 'TVHR' 'DIOPTERHR'\n",
      " 'MOMMY' 'DADMY']\n"
     ]
    },
    {
     "data": {
      "text/plain": [
       "array([537,  81])"
      ]
     },
     "execution_count": 70,
     "metadata": {},
     "output_type": "execute_result"
    }
   ],
   "source": [
    "lm.fit(X2, y)\n",
    "print lm.coef_\n",
    "print X2.columns.values\n",
    "\n"
   ]
  },
  {
   "cell_type": "markdown",
   "metadata": {},
   "source": [
    "Interpret your results specifically on StudyHr, TVH, and COMPHR, Gender: "
   ]
  },
  {
   "cell_type": "markdown",
   "metadata": {},
   "source": [
    "for each additional StudyHR the odds of Myopia go down, TVhr as well, and Computer hour is a very small indicator "
   ]
  },
  {
   "cell_type": "markdown",
   "metadata": {},
   "source": [
    "#### Now it's time for regularization and choosing the best predictors:"
   ]
  },
  {
   "cell_type": "code",
   "execution_count": 43,
   "metadata": {
    "collapsed": true
   },
   "outputs": [],
   "source": [
    "#Let's first standardize our data - use X1\n",
    "def Standardize(X):\n",
    "    X_Max = X.max()\n",
    "    X_Min = X.min()\n",
    "    X_Standardized = (X-X_Min)/(X_Max - X_Min)\n",
    "    return X_Standardized\n",
    "\n",
    "for i in X1.columns.values:\n",
    "    MyopiaData[i] = Standardize(MyopiaData[i])\n",
    "\n"
   ]
  },
  {
   "cell_type": "code",
   "execution_count": 57,
   "metadata": {
    "collapsed": false
   },
   "outputs": [
    {
     "data": {
      "application/javascript": [
       "/* Put everything inside the global mpl namespace */\n",
       "window.mpl = {};\n",
       "\n",
       "mpl.get_websocket_type = function() {\n",
       "    if (typeof(WebSocket) !== 'undefined') {\n",
       "        return WebSocket;\n",
       "    } else if (typeof(MozWebSocket) !== 'undefined') {\n",
       "        return MozWebSocket;\n",
       "    } else {\n",
       "        alert('Your browser does not have WebSocket support.' +\n",
       "              'Please try Chrome, Safari or Firefox ≥ 6. ' +\n",
       "              'Firefox 4 and 5 are also supported but you ' +\n",
       "              'have to enable WebSockets in about:config.');\n",
       "    };\n",
       "}\n",
       "\n",
       "mpl.figure = function(figure_id, websocket, ondownload, parent_element) {\n",
       "    this.id = figure_id;\n",
       "\n",
       "    this.ws = websocket;\n",
       "\n",
       "    this.supports_binary = (this.ws.binaryType != undefined);\n",
       "\n",
       "    if (!this.supports_binary) {\n",
       "        var warnings = document.getElementById(\"mpl-warnings\");\n",
       "        if (warnings) {\n",
       "            warnings.style.display = 'block';\n",
       "            warnings.textContent = (\n",
       "                \"This browser does not support binary websocket messages. \" +\n",
       "                    \"Performance may be slow.\");\n",
       "        }\n",
       "    }\n",
       "\n",
       "    this.imageObj = new Image();\n",
       "\n",
       "    this.context = undefined;\n",
       "    this.message = undefined;\n",
       "    this.canvas = undefined;\n",
       "    this.rubberband_canvas = undefined;\n",
       "    this.rubberband_context = undefined;\n",
       "    this.format_dropdown = undefined;\n",
       "\n",
       "    this.image_mode = 'full';\n",
       "\n",
       "    this.root = $('<div/>');\n",
       "    this._root_extra_style(this.root)\n",
       "    this.root.attr('style', 'display: inline-block');\n",
       "\n",
       "    $(parent_element).append(this.root);\n",
       "\n",
       "    this._init_header(this);\n",
       "    this._init_canvas(this);\n",
       "    this._init_toolbar(this);\n",
       "\n",
       "    var fig = this;\n",
       "\n",
       "    this.waiting = false;\n",
       "\n",
       "    this.ws.onopen =  function () {\n",
       "            fig.send_message(\"supports_binary\", {value: fig.supports_binary});\n",
       "            fig.send_message(\"send_image_mode\", {});\n",
       "            fig.send_message(\"refresh\", {});\n",
       "        }\n",
       "\n",
       "    this.imageObj.onload = function() {\n",
       "            if (fig.image_mode == 'full') {\n",
       "                // Full images could contain transparency (where diff images\n",
       "                // almost always do), so we need to clear the canvas so that\n",
       "                // there is no ghosting.\n",
       "                fig.context.clearRect(0, 0, fig.canvas.width, fig.canvas.height);\n",
       "            }\n",
       "            fig.context.drawImage(fig.imageObj, 0, 0);\n",
       "        };\n",
       "\n",
       "    this.imageObj.onunload = function() {\n",
       "        this.ws.close();\n",
       "    }\n",
       "\n",
       "    this.ws.onmessage = this._make_on_message_function(this);\n",
       "\n",
       "    this.ondownload = ondownload;\n",
       "}\n",
       "\n",
       "mpl.figure.prototype._init_header = function() {\n",
       "    var titlebar = $(\n",
       "        '<div class=\"ui-dialog-titlebar ui-widget-header ui-corner-all ' +\n",
       "        'ui-helper-clearfix\"/>');\n",
       "    var titletext = $(\n",
       "        '<div class=\"ui-dialog-title\" style=\"width: 100%; ' +\n",
       "        'text-align: center; padding: 3px;\"/>');\n",
       "    titlebar.append(titletext)\n",
       "    this.root.append(titlebar);\n",
       "    this.header = titletext[0];\n",
       "}\n",
       "\n",
       "\n",
       "\n",
       "mpl.figure.prototype._canvas_extra_style = function(canvas_div) {\n",
       "\n",
       "}\n",
       "\n",
       "\n",
       "mpl.figure.prototype._root_extra_style = function(canvas_div) {\n",
       "\n",
       "}\n",
       "\n",
       "mpl.figure.prototype._init_canvas = function() {\n",
       "    var fig = this;\n",
       "\n",
       "    var canvas_div = $('<div/>');\n",
       "\n",
       "    canvas_div.attr('style', 'position: relative; clear: both; outline: 0');\n",
       "\n",
       "    function canvas_keyboard_event(event) {\n",
       "        return fig.key_event(event, event['data']);\n",
       "    }\n",
       "\n",
       "    canvas_div.keydown('key_press', canvas_keyboard_event);\n",
       "    canvas_div.keyup('key_release', canvas_keyboard_event);\n",
       "    this.canvas_div = canvas_div\n",
       "    this._canvas_extra_style(canvas_div)\n",
       "    this.root.append(canvas_div);\n",
       "\n",
       "    var canvas = $('<canvas/>');\n",
       "    canvas.addClass('mpl-canvas');\n",
       "    canvas.attr('style', \"left: 0; top: 0; z-index: 0; outline: 0\")\n",
       "\n",
       "    this.canvas = canvas[0];\n",
       "    this.context = canvas[0].getContext(\"2d\");\n",
       "\n",
       "    var rubberband = $('<canvas/>');\n",
       "    rubberband.attr('style', \"position: absolute; left: 0; top: 0; z-index: 1;\")\n",
       "\n",
       "    var pass_mouse_events = true;\n",
       "\n",
       "    canvas_div.resizable({\n",
       "        start: function(event, ui) {\n",
       "            pass_mouse_events = false;\n",
       "        },\n",
       "        resize: function(event, ui) {\n",
       "            fig.request_resize(ui.size.width, ui.size.height);\n",
       "        },\n",
       "        stop: function(event, ui) {\n",
       "            pass_mouse_events = true;\n",
       "            fig.request_resize(ui.size.width, ui.size.height);\n",
       "        },\n",
       "    });\n",
       "\n",
       "    function mouse_event_fn(event) {\n",
       "        if (pass_mouse_events)\n",
       "            return fig.mouse_event(event, event['data']);\n",
       "    }\n",
       "\n",
       "    rubberband.mousedown('button_press', mouse_event_fn);\n",
       "    rubberband.mouseup('button_release', mouse_event_fn);\n",
       "    // Throttle sequential mouse events to 1 every 20ms.\n",
       "    rubberband.mousemove('motion_notify', mouse_event_fn);\n",
       "\n",
       "    rubberband.mouseenter('figure_enter', mouse_event_fn);\n",
       "    rubberband.mouseleave('figure_leave', mouse_event_fn);\n",
       "\n",
       "    canvas_div.on(\"wheel\", function (event) {\n",
       "        event = event.originalEvent;\n",
       "        event['data'] = 'scroll'\n",
       "        if (event.deltaY < 0) {\n",
       "            event.step = 1;\n",
       "        } else {\n",
       "            event.step = -1;\n",
       "        }\n",
       "        mouse_event_fn(event);\n",
       "    });\n",
       "\n",
       "    canvas_div.append(canvas);\n",
       "    canvas_div.append(rubberband);\n",
       "\n",
       "    this.rubberband = rubberband;\n",
       "    this.rubberband_canvas = rubberband[0];\n",
       "    this.rubberband_context = rubberband[0].getContext(\"2d\");\n",
       "    this.rubberband_context.strokeStyle = \"#000000\";\n",
       "\n",
       "    this._resize_canvas = function(width, height) {\n",
       "        // Keep the size of the canvas, canvas container, and rubber band\n",
       "        // canvas in synch.\n",
       "        canvas_div.css('width', width)\n",
       "        canvas_div.css('height', height)\n",
       "\n",
       "        canvas.attr('width', width);\n",
       "        canvas.attr('height', height);\n",
       "\n",
       "        rubberband.attr('width', width);\n",
       "        rubberband.attr('height', height);\n",
       "    }\n",
       "\n",
       "    // Set the figure to an initial 600x600px, this will subsequently be updated\n",
       "    // upon first draw.\n",
       "    this._resize_canvas(600, 600);\n",
       "\n",
       "    // Disable right mouse context menu.\n",
       "    $(this.rubberband_canvas).bind(\"contextmenu\",function(e){\n",
       "        return false;\n",
       "    });\n",
       "\n",
       "    function set_focus () {\n",
       "        canvas.focus();\n",
       "        canvas_div.focus();\n",
       "    }\n",
       "\n",
       "    window.setTimeout(set_focus, 100);\n",
       "}\n",
       "\n",
       "mpl.figure.prototype._init_toolbar = function() {\n",
       "    var fig = this;\n",
       "\n",
       "    var nav_element = $('<div/>')\n",
       "    nav_element.attr('style', 'width: 100%');\n",
       "    this.root.append(nav_element);\n",
       "\n",
       "    // Define a callback function for later on.\n",
       "    function toolbar_event(event) {\n",
       "        return fig.toolbar_button_onclick(event['data']);\n",
       "    }\n",
       "    function toolbar_mouse_event(event) {\n",
       "        return fig.toolbar_button_onmouseover(event['data']);\n",
       "    }\n",
       "\n",
       "    for(var toolbar_ind in mpl.toolbar_items) {\n",
       "        var name = mpl.toolbar_items[toolbar_ind][0];\n",
       "        var tooltip = mpl.toolbar_items[toolbar_ind][1];\n",
       "        var image = mpl.toolbar_items[toolbar_ind][2];\n",
       "        var method_name = mpl.toolbar_items[toolbar_ind][3];\n",
       "\n",
       "        if (!name) {\n",
       "            // put a spacer in here.\n",
       "            continue;\n",
       "        }\n",
       "        var button = $('<button/>');\n",
       "        button.addClass('ui-button ui-widget ui-state-default ui-corner-all ' +\n",
       "                        'ui-button-icon-only');\n",
       "        button.attr('role', 'button');\n",
       "        button.attr('aria-disabled', 'false');\n",
       "        button.click(method_name, toolbar_event);\n",
       "        button.mouseover(tooltip, toolbar_mouse_event);\n",
       "\n",
       "        var icon_img = $('<span/>');\n",
       "        icon_img.addClass('ui-button-icon-primary ui-icon');\n",
       "        icon_img.addClass(image);\n",
       "        icon_img.addClass('ui-corner-all');\n",
       "\n",
       "        var tooltip_span = $('<span/>');\n",
       "        tooltip_span.addClass('ui-button-text');\n",
       "        tooltip_span.html(tooltip);\n",
       "\n",
       "        button.append(icon_img);\n",
       "        button.append(tooltip_span);\n",
       "\n",
       "        nav_element.append(button);\n",
       "    }\n",
       "\n",
       "    var fmt_picker_span = $('<span/>');\n",
       "\n",
       "    var fmt_picker = $('<select/>');\n",
       "    fmt_picker.addClass('mpl-toolbar-option ui-widget ui-widget-content');\n",
       "    fmt_picker_span.append(fmt_picker);\n",
       "    nav_element.append(fmt_picker_span);\n",
       "    this.format_dropdown = fmt_picker[0];\n",
       "\n",
       "    for (var ind in mpl.extensions) {\n",
       "        var fmt = mpl.extensions[ind];\n",
       "        var option = $(\n",
       "            '<option/>', {selected: fmt === mpl.default_extension}).html(fmt);\n",
       "        fmt_picker.append(option)\n",
       "    }\n",
       "\n",
       "    // Add hover states to the ui-buttons\n",
       "    $( \".ui-button\" ).hover(\n",
       "        function() { $(this).addClass(\"ui-state-hover\");},\n",
       "        function() { $(this).removeClass(\"ui-state-hover\");}\n",
       "    );\n",
       "\n",
       "    var status_bar = $('<span class=\"mpl-message\"/>');\n",
       "    nav_element.append(status_bar);\n",
       "    this.message = status_bar[0];\n",
       "}\n",
       "\n",
       "mpl.figure.prototype.request_resize = function(x_pixels, y_pixels) {\n",
       "    // Request matplotlib to resize the figure. Matplotlib will then trigger a resize in the client,\n",
       "    // which will in turn request a refresh of the image.\n",
       "    this.send_message('resize', {'width': x_pixels, 'height': y_pixels});\n",
       "}\n",
       "\n",
       "mpl.figure.prototype.send_message = function(type, properties) {\n",
       "    properties['type'] = type;\n",
       "    properties['figure_id'] = this.id;\n",
       "    this.ws.send(JSON.stringify(properties));\n",
       "}\n",
       "\n",
       "mpl.figure.prototype.send_draw_message = function() {\n",
       "    if (!this.waiting) {\n",
       "        this.waiting = true;\n",
       "        this.ws.send(JSON.stringify({type: \"draw\", figure_id: this.id}));\n",
       "    }\n",
       "}\n",
       "\n",
       "\n",
       "mpl.figure.prototype.handle_save = function(fig, msg) {\n",
       "    var format_dropdown = fig.format_dropdown;\n",
       "    var format = format_dropdown.options[format_dropdown.selectedIndex].value;\n",
       "    fig.ondownload(fig, format);\n",
       "}\n",
       "\n",
       "\n",
       "mpl.figure.prototype.handle_resize = function(fig, msg) {\n",
       "    var size = msg['size'];\n",
       "    if (size[0] != fig.canvas.width || size[1] != fig.canvas.height) {\n",
       "        fig._resize_canvas(size[0], size[1]);\n",
       "        fig.send_message(\"refresh\", {});\n",
       "    };\n",
       "}\n",
       "\n",
       "mpl.figure.prototype.handle_rubberband = function(fig, msg) {\n",
       "    var x0 = msg['x0'];\n",
       "    var y0 = fig.canvas.height - msg['y0'];\n",
       "    var x1 = msg['x1'];\n",
       "    var y1 = fig.canvas.height - msg['y1'];\n",
       "    x0 = Math.floor(x0) + 0.5;\n",
       "    y0 = Math.floor(y0) + 0.5;\n",
       "    x1 = Math.floor(x1) + 0.5;\n",
       "    y1 = Math.floor(y1) + 0.5;\n",
       "    var min_x = Math.min(x0, x1);\n",
       "    var min_y = Math.min(y0, y1);\n",
       "    var width = Math.abs(x1 - x0);\n",
       "    var height = Math.abs(y1 - y0);\n",
       "\n",
       "    fig.rubberband_context.clearRect(\n",
       "        0, 0, fig.canvas.width, fig.canvas.height);\n",
       "\n",
       "    fig.rubberband_context.strokeRect(min_x, min_y, width, height);\n",
       "}\n",
       "\n",
       "mpl.figure.prototype.handle_figure_label = function(fig, msg) {\n",
       "    // Updates the figure title.\n",
       "    fig.header.textContent = msg['label'];\n",
       "}\n",
       "\n",
       "mpl.figure.prototype.handle_cursor = function(fig, msg) {\n",
       "    var cursor = msg['cursor'];\n",
       "    switch(cursor)\n",
       "    {\n",
       "    case 0:\n",
       "        cursor = 'pointer';\n",
       "        break;\n",
       "    case 1:\n",
       "        cursor = 'default';\n",
       "        break;\n",
       "    case 2:\n",
       "        cursor = 'crosshair';\n",
       "        break;\n",
       "    case 3:\n",
       "        cursor = 'move';\n",
       "        break;\n",
       "    }\n",
       "    fig.rubberband_canvas.style.cursor = cursor;\n",
       "}\n",
       "\n",
       "mpl.figure.prototype.handle_message = function(fig, msg) {\n",
       "    fig.message.textContent = msg['message'];\n",
       "}\n",
       "\n",
       "mpl.figure.prototype.handle_draw = function(fig, msg) {\n",
       "    // Request the server to send over a new figure.\n",
       "    fig.send_draw_message();\n",
       "}\n",
       "\n",
       "mpl.figure.prototype.handle_image_mode = function(fig, msg) {\n",
       "    fig.image_mode = msg['mode'];\n",
       "}\n",
       "\n",
       "mpl.figure.prototype.updated_canvas_event = function() {\n",
       "    // Called whenever the canvas gets updated.\n",
       "    this.send_message(\"ack\", {});\n",
       "}\n",
       "\n",
       "// A function to construct a web socket function for onmessage handling.\n",
       "// Called in the figure constructor.\n",
       "mpl.figure.prototype._make_on_message_function = function(fig) {\n",
       "    return function socket_on_message(evt) {\n",
       "        if (evt.data instanceof Blob) {\n",
       "            /* FIXME: We get \"Resource interpreted as Image but\n",
       "             * transferred with MIME type text/plain:\" errors on\n",
       "             * Chrome.  But how to set the MIME type?  It doesn't seem\n",
       "             * to be part of the websocket stream */\n",
       "            evt.data.type = \"image/png\";\n",
       "\n",
       "            /* Free the memory for the previous frames */\n",
       "            if (fig.imageObj.src) {\n",
       "                (window.URL || window.webkitURL).revokeObjectURL(\n",
       "                    fig.imageObj.src);\n",
       "            }\n",
       "\n",
       "            fig.imageObj.src = (window.URL || window.webkitURL).createObjectURL(\n",
       "                evt.data);\n",
       "            fig.updated_canvas_event();\n",
       "            fig.waiting = false;\n",
       "            return;\n",
       "        }\n",
       "        else if (typeof evt.data === 'string' && evt.data.slice(0, 21) == \"data:image/png;base64\") {\n",
       "            fig.imageObj.src = evt.data;\n",
       "            fig.updated_canvas_event();\n",
       "            fig.waiting = false;\n",
       "            return;\n",
       "        }\n",
       "\n",
       "        var msg = JSON.parse(evt.data);\n",
       "        var msg_type = msg['type'];\n",
       "\n",
       "        // Call the  \"handle_{type}\" callback, which takes\n",
       "        // the figure and JSON message as its only arguments.\n",
       "        try {\n",
       "            var callback = fig[\"handle_\" + msg_type];\n",
       "        } catch (e) {\n",
       "            console.log(\"No handler for the '\" + msg_type + \"' message type: \", msg);\n",
       "            return;\n",
       "        }\n",
       "\n",
       "        if (callback) {\n",
       "            try {\n",
       "                // console.log(\"Handling '\" + msg_type + \"' message: \", msg);\n",
       "                callback(fig, msg);\n",
       "            } catch (e) {\n",
       "                console.log(\"Exception inside the 'handler_\" + msg_type + \"' callback:\", e, e.stack, msg);\n",
       "            }\n",
       "        }\n",
       "    };\n",
       "}\n",
       "\n",
       "// from http://stackoverflow.com/questions/1114465/getting-mouse-location-in-canvas\n",
       "mpl.findpos = function(e) {\n",
       "    //this section is from http://www.quirksmode.org/js/events_properties.html\n",
       "    var targ;\n",
       "    if (!e)\n",
       "        e = window.event;\n",
       "    if (e.target)\n",
       "        targ = e.target;\n",
       "    else if (e.srcElement)\n",
       "        targ = e.srcElement;\n",
       "    if (targ.nodeType == 3) // defeat Safari bug\n",
       "        targ = targ.parentNode;\n",
       "\n",
       "    // jQuery normalizes the pageX and pageY\n",
       "    // pageX,Y are the mouse positions relative to the document\n",
       "    // offset() returns the position of the element relative to the document\n",
       "    var x = e.pageX - $(targ).offset().left;\n",
       "    var y = e.pageY - $(targ).offset().top;\n",
       "\n",
       "    return {\"x\": x, \"y\": y};\n",
       "};\n",
       "\n",
       "/*\n",
       " * return a copy of an object with only non-object keys\n",
       " * we need this to avoid circular references\n",
       " * http://stackoverflow.com/a/24161582/3208463\n",
       " */\n",
       "function simpleKeys (original) {\n",
       "  return Object.keys(original).reduce(function (obj, key) {\n",
       "    if (typeof original[key] !== 'object')\n",
       "        obj[key] = original[key]\n",
       "    return obj;\n",
       "  }, {});\n",
       "}\n",
       "\n",
       "mpl.figure.prototype.mouse_event = function(event, name) {\n",
       "    var canvas_pos = mpl.findpos(event)\n",
       "\n",
       "    if (name === 'button_press')\n",
       "    {\n",
       "        this.canvas.focus();\n",
       "        this.canvas_div.focus();\n",
       "    }\n",
       "\n",
       "    var x = canvas_pos.x;\n",
       "    var y = canvas_pos.y;\n",
       "\n",
       "    this.send_message(name, {x: x, y: y, button: event.button,\n",
       "                             step: event.step,\n",
       "                             guiEvent: simpleKeys(event)});\n",
       "\n",
       "    /* This prevents the web browser from automatically changing to\n",
       "     * the text insertion cursor when the button is pressed.  We want\n",
       "     * to control all of the cursor setting manually through the\n",
       "     * 'cursor' event from matplotlib */\n",
       "    event.preventDefault();\n",
       "    return false;\n",
       "}\n",
       "\n",
       "mpl.figure.prototype._key_event_extra = function(event, name) {\n",
       "    // Handle any extra behaviour associated with a key event\n",
       "}\n",
       "\n",
       "mpl.figure.prototype.key_event = function(event, name) {\n",
       "\n",
       "    // Prevent repeat events\n",
       "    if (name == 'key_press')\n",
       "    {\n",
       "        if (event.which === this._key)\n",
       "            return;\n",
       "        else\n",
       "            this._key = event.which;\n",
       "    }\n",
       "    if (name == 'key_release')\n",
       "        this._key = null;\n",
       "\n",
       "    var value = '';\n",
       "    if (event.ctrlKey && event.which != 17)\n",
       "        value += \"ctrl+\";\n",
       "    if (event.altKey && event.which != 18)\n",
       "        value += \"alt+\";\n",
       "    if (event.shiftKey && event.which != 16)\n",
       "        value += \"shift+\";\n",
       "\n",
       "    value += 'k';\n",
       "    value += event.which.toString();\n",
       "\n",
       "    this._key_event_extra(event, name);\n",
       "\n",
       "    this.send_message(name, {key: value,\n",
       "                             guiEvent: simpleKeys(event)});\n",
       "    return false;\n",
       "}\n",
       "\n",
       "mpl.figure.prototype.toolbar_button_onclick = function(name) {\n",
       "    if (name == 'download') {\n",
       "        this.handle_save(this, null);\n",
       "    } else {\n",
       "        this.send_message(\"toolbar_button\", {name: name});\n",
       "    }\n",
       "};\n",
       "\n",
       "mpl.figure.prototype.toolbar_button_onmouseover = function(tooltip) {\n",
       "    this.message.textContent = tooltip;\n",
       "};\n",
       "mpl.toolbar_items = [[\"Home\", \"Reset original view\", \"fa fa-home icon-home\", \"home\"], [\"Back\", \"Back to  previous view\", \"fa fa-arrow-left icon-arrow-left\", \"back\"], [\"Forward\", \"Forward to next view\", \"fa fa-arrow-right icon-arrow-right\", \"forward\"], [\"\", \"\", \"\", \"\"], [\"Pan\", \"Pan axes with left mouse, zoom with right\", \"fa fa-arrows icon-move\", \"pan\"], [\"Zoom\", \"Zoom to rectangle\", \"fa fa-square-o icon-check-empty\", \"zoom\"], [\"\", \"\", \"\", \"\"], [\"Download\", \"Download plot\", \"fa fa-floppy-o icon-save\", \"download\"]];\n",
       "\n",
       "mpl.extensions = [\"eps\", \"jpeg\", \"pdf\", \"png\", \"ps\", \"raw\", \"svg\", \"tif\"];\n",
       "\n",
       "mpl.default_extension = \"png\";var comm_websocket_adapter = function(comm) {\n",
       "    // Create a \"websocket\"-like object which calls the given IPython comm\n",
       "    // object with the appropriate methods. Currently this is a non binary\n",
       "    // socket, so there is still some room for performance tuning.\n",
       "    var ws = {};\n",
       "\n",
       "    ws.close = function() {\n",
       "        comm.close()\n",
       "    };\n",
       "    ws.send = function(m) {\n",
       "        //console.log('sending', m);\n",
       "        comm.send(m);\n",
       "    };\n",
       "    // Register the callback with on_msg.\n",
       "    comm.on_msg(function(msg) {\n",
       "        //console.log('receiving', msg['content']['data'], msg);\n",
       "        // Pass the mpl event to the overriden (by mpl) onmessage function.\n",
       "        ws.onmessage(msg['content']['data'])\n",
       "    });\n",
       "    return ws;\n",
       "}\n",
       "\n",
       "mpl.mpl_figure_comm = function(comm, msg) {\n",
       "    // This is the function which gets called when the mpl process\n",
       "    // starts-up an IPython Comm through the \"matplotlib\" channel.\n",
       "\n",
       "    var id = msg.content.data.id;\n",
       "    // Get hold of the div created by the display call when the Comm\n",
       "    // socket was opened in Python.\n",
       "    var element = $(\"#\" + id);\n",
       "    var ws_proxy = comm_websocket_adapter(comm)\n",
       "\n",
       "    function ondownload(figure, format) {\n",
       "        window.open(figure.imageObj.src);\n",
       "    }\n",
       "\n",
       "    var fig = new mpl.figure(id, ws_proxy,\n",
       "                           ondownload,\n",
       "                           element.get(0));\n",
       "\n",
       "    // Call onopen now - mpl needs it, as it is assuming we've passed it a real\n",
       "    // web socket which is closed, not our websocket->open comm proxy.\n",
       "    ws_proxy.onopen();\n",
       "\n",
       "    fig.parent_element = element.get(0);\n",
       "    fig.cell_info = mpl.find_output_cell(\"<div id='\" + id + \"'></div>\");\n",
       "    if (!fig.cell_info) {\n",
       "        console.error(\"Failed to find cell for figure\", id, fig);\n",
       "        return;\n",
       "    }\n",
       "\n",
       "    var output_index = fig.cell_info[2]\n",
       "    var cell = fig.cell_info[0];\n",
       "\n",
       "};\n",
       "\n",
       "mpl.figure.prototype.handle_close = function(fig, msg) {\n",
       "    fig.root.unbind('remove')\n",
       "\n",
       "    // Update the output cell to use the data from the current canvas.\n",
       "    fig.push_to_output();\n",
       "    var dataURL = fig.canvas.toDataURL();\n",
       "    // Re-enable the keyboard manager in IPython - without this line, in FF,\n",
       "    // the notebook keyboard shortcuts fail.\n",
       "    IPython.keyboard_manager.enable()\n",
       "    $(fig.parent_element).html('<img src=\"' + dataURL + '\">');\n",
       "    fig.close_ws(fig, msg);\n",
       "}\n",
       "\n",
       "mpl.figure.prototype.close_ws = function(fig, msg){\n",
       "    fig.send_message('closing', msg);\n",
       "    // fig.ws.close()\n",
       "}\n",
       "\n",
       "mpl.figure.prototype.push_to_output = function(remove_interactive) {\n",
       "    // Turn the data on the canvas into data in the output cell.\n",
       "    var dataURL = this.canvas.toDataURL();\n",
       "    this.cell_info[1]['text/html'] = '<img src=\"' + dataURL + '\">';\n",
       "}\n",
       "\n",
       "mpl.figure.prototype.updated_canvas_event = function() {\n",
       "    // Tell IPython that the notebook contents must change.\n",
       "    IPython.notebook.set_dirty(true);\n",
       "    this.send_message(\"ack\", {});\n",
       "    var fig = this;\n",
       "    // Wait a second, then push the new image to the DOM so\n",
       "    // that it is saved nicely (might be nice to debounce this).\n",
       "    setTimeout(function () { fig.push_to_output() }, 1000);\n",
       "}\n",
       "\n",
       "mpl.figure.prototype._init_toolbar = function() {\n",
       "    var fig = this;\n",
       "\n",
       "    var nav_element = $('<div/>')\n",
       "    nav_element.attr('style', 'width: 100%');\n",
       "    this.root.append(nav_element);\n",
       "\n",
       "    // Define a callback function for later on.\n",
       "    function toolbar_event(event) {\n",
       "        return fig.toolbar_button_onclick(event['data']);\n",
       "    }\n",
       "    function toolbar_mouse_event(event) {\n",
       "        return fig.toolbar_button_onmouseover(event['data']);\n",
       "    }\n",
       "\n",
       "    for(var toolbar_ind in mpl.toolbar_items){\n",
       "        var name = mpl.toolbar_items[toolbar_ind][0];\n",
       "        var tooltip = mpl.toolbar_items[toolbar_ind][1];\n",
       "        var image = mpl.toolbar_items[toolbar_ind][2];\n",
       "        var method_name = mpl.toolbar_items[toolbar_ind][3];\n",
       "\n",
       "        if (!name) { continue; };\n",
       "\n",
       "        var button = $('<button class=\"btn btn-default\" href=\"#\" title=\"' + name + '\"><i class=\"fa ' + image + ' fa-lg\"></i></button>');\n",
       "        button.click(method_name, toolbar_event);\n",
       "        button.mouseover(tooltip, toolbar_mouse_event);\n",
       "        nav_element.append(button);\n",
       "    }\n",
       "\n",
       "    // Add the status bar.\n",
       "    var status_bar = $('<span class=\"mpl-message\" style=\"text-align:right; float: right;\"/>');\n",
       "    nav_element.append(status_bar);\n",
       "    this.message = status_bar[0];\n",
       "\n",
       "    // Add the close button to the window.\n",
       "    var buttongrp = $('<div class=\"btn-group inline pull-right\"></div>');\n",
       "    var button = $('<button class=\"btn btn-mini btn-primary\" href=\"#\" title=\"Stop Interaction\"><i class=\"fa fa-power-off icon-remove icon-large\"></i></button>');\n",
       "    button.click(function (evt) { fig.handle_close(fig, {}); } );\n",
       "    button.mouseover('Stop Interaction', toolbar_mouse_event);\n",
       "    buttongrp.append(button);\n",
       "    var titlebar = this.root.find($('.ui-dialog-titlebar'));\n",
       "    titlebar.prepend(buttongrp);\n",
       "}\n",
       "\n",
       "mpl.figure.prototype._root_extra_style = function(el){\n",
       "    var fig = this\n",
       "    el.on(\"remove\", function(){\n",
       "\tfig.close_ws(fig, {});\n",
       "    });\n",
       "}\n",
       "\n",
       "mpl.figure.prototype._canvas_extra_style = function(el){\n",
       "    // this is important to make the div 'focusable\n",
       "    el.attr('tabindex', 0)\n",
       "    // reach out to IPython and tell the keyboard manager to turn it's self\n",
       "    // off when our div gets focus\n",
       "\n",
       "    // location in version 3\n",
       "    if (IPython.notebook.keyboard_manager) {\n",
       "        IPython.notebook.keyboard_manager.register_events(el);\n",
       "    }\n",
       "    else {\n",
       "        // location in version 2\n",
       "        IPython.keyboard_manager.register_events(el);\n",
       "    }\n",
       "\n",
       "}\n",
       "\n",
       "mpl.figure.prototype._key_event_extra = function(event, name) {\n",
       "    var manager = IPython.notebook.keyboard_manager;\n",
       "    if (!manager)\n",
       "        manager = IPython.keyboard_manager;\n",
       "\n",
       "    // Check for shift+enter\n",
       "    if (event.shiftKey && event.which == 13) {\n",
       "        this.canvas_div.blur();\n",
       "        event.shiftKey = false;\n",
       "        // Send a \"J\" for go to next cell\n",
       "        event.which = 74;\n",
       "        event.keyCode = 74;\n",
       "        manager.command_mode();\n",
       "        manager.handle_keydown(event);\n",
       "    }\n",
       "}\n",
       "\n",
       "mpl.figure.prototype.handle_save = function(fig, msg) {\n",
       "    fig.ondownload(fig, null);\n",
       "}\n",
       "\n",
       "\n",
       "mpl.find_output_cell = function(html_output) {\n",
       "    // Return the cell and output element which can be found *uniquely* in the notebook.\n",
       "    // Note - this is a bit hacky, but it is done because the \"notebook_saving.Notebook\"\n",
       "    // IPython event is triggered only after the cells have been serialised, which for\n",
       "    // our purposes (turning an active figure into a static one), is too late.\n",
       "    var cells = IPython.notebook.get_cells();\n",
       "    var ncells = cells.length;\n",
       "    for (var i=0; i<ncells; i++) {\n",
       "        var cell = cells[i];\n",
       "        if (cell.cell_type === 'code'){\n",
       "            for (var j=0; j<cell.output_area.outputs.length; j++) {\n",
       "                var data = cell.output_area.outputs[j];\n",
       "                if (data.data) {\n",
       "                    // IPython >= 3 moved mimebundle to data attribute of output\n",
       "                    data = data.data;\n",
       "                }\n",
       "                if (data['text/html'] == html_output) {\n",
       "                    return [cell, data, j];\n",
       "                }\n",
       "            }\n",
       "        }\n",
       "    }\n",
       "}\n",
       "\n",
       "// Register the function which deals with the matplotlib target/channel.\n",
       "// The kernel may be null if the page has been refreshed.\n",
       "if (IPython.notebook.kernel != null) {\n",
       "    IPython.notebook.kernel.comm_manager.register_target('matplotlib', mpl.mpl_figure_comm);\n",
       "}\n"
      ],
      "text/plain": [
       "<IPython.core.display.Javascript object>"
      ]
     },
     "metadata": {},
     "output_type": "display_data"
    },
    {
     "data": {
      "text/html": [
       "<img src=\"data:image/png;base64,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\">"
      ],
      "text/plain": [
       "<IPython.core.display.HTML object>"
      ]
     },
     "metadata": {},
     "output_type": "display_data"
    },
    {
     "data": {
      "text/plain": [
       "<matplotlib.axes._subplots.AxesSubplot at 0x116867610>"
      ]
     },
     "execution_count": 57,
     "metadata": {},
     "output_type": "execute_result"
    }
   ],
   "source": [
    "# Try testing and plot using different C as input and l1 penalty\n",
    "c_list = np.logspace(-10, 10, 21)\n",
    "c_index = np.linspace(-10, 10, 21)\n",
    "X1 = MyopiaData[['SPHEQ','AL','ACD','LT','VCD','AGE','GENDER','SPORTHR','READHR','COMPHR','STUDYHR','TVHR','DIOPTERHR','MOMMY','DADMY']]\n",
    "cv_scores = []\n",
    "for c_score in c_list:\n",
    "    lm = LogisticRegression(C = c_score, penalty = \"l1\")\n",
    "    cv_scores.append(cross_val_score(lm, X1, y, cv=10).mean())\n",
    "\n",
    "C_choice_df = pd.DataFrame({\"cv_scores\" : cv_scores, 'Log_C' : c_index})\n",
    "C_choice_df.plot(x = \"Log_C\" , y =\"cv_scores\")"
   ]
  },
  {
   "cell_type": "code",
   "execution_count": 58,
   "metadata": {
    "collapsed": false
   },
   "outputs": [
    {
     "data": {
      "text/plain": [
       "LogisticRegression(C=1.25892541179, class_weight=None, dual=False,\n",
       "          fit_intercept=True, intercept_scaling=1, max_iter=100,\n",
       "          multi_class='ovr', n_jobs=1, penalty='l1', random_state=None,\n",
       "          solver='liblinear', tol=0.0001, verbose=0, warm_start=False)"
      ]
     },
     "execution_count": 58,
     "metadata": {},
     "output_type": "execute_result"
    }
   ],
   "source": [
    "# localize your search around the maximum value you found earlier\n",
    "lm = LogisticRegression(C = 10**(0.1), penalty=\"l1\")\n",
    "lm.fit(X1, y)"
   ]
  },
  {
   "cell_type": "code",
   "execution_count": 59,
   "metadata": {
    "collapsed": false
   },
   "outputs": [
    {
     "data": {
      "text/plain": [
       "[(-15.399677724952987, 'SPHEQ'),\n",
       " (-1.409801983768399, 'SPORTHR'),\n",
       " (-0.88927048964279942, 'STUDYHR'),\n",
       " (-0.06212310853328433, 'VCD'),\n",
       " (0.0, 'AGE'),\n",
       " (0.0, 'AL'),\n",
       " (0.0, 'COMPHR'),\n",
       " (0.0, 'DIOPTERHR'),\n",
       " (0.0, 'LT'),\n",
       " (0.0, 'TVHR'),\n",
       " (0.57082504199992523, 'GENDER'),\n",
       " (0.66565232623694526, 'MOMMY'),\n",
       " (0.71476102981457801, 'READHR'),\n",
       " (0.80999678446493883, 'DADMY'),\n",
       " (1.3173945855155949, 'ACD')]"
      ]
     },
     "execution_count": 59,
     "metadata": {},
     "output_type": "execute_result"
    }
   ],
   "source": [
    "# List your variables from the smallest to the largets\n",
    "sorted(zip(lm.coef_[0], X1.columns.values))"
   ]
  },
  {
   "cell_type": "markdown",
   "metadata": {},
   "source": [
    "#### What is your conclusions about your Grandmothers' and some other Drs' claims?"
   ]
  },
  {
   "cell_type": "markdown",
   "metadata": {},
   "source": [
    "Answer: ACD, DADMY, READINGHOUR! MOMY, GENDER are by far the highest predictors of Myopia, the next variable, a good ways away is actually Reading :("
   ]
  },
  {
   "cell_type": "markdown",
   "metadata": {},
   "source": [
    "#### Draw ROC curve for your best tuned model. "
   ]
  },
  {
   "cell_type": "code",
   "execution_count": 65,
   "metadata": {
    "collapsed": false
   },
   "outputs": [
    {
     "name": "stdout",
     "output_type": "stream",
     "text": [
      "0.893142055774\n"
     ]
    }
   ],
   "source": [
    "from sklearn.metrics import roc_curve, auc,roc_auc_score\n",
    "y_hat_probability = lm.predict_proba(X1).T[1]\n",
    "print(roc_auc_score(y, lm.predict_proba(X1).T[1]))\n",
    "vals = roc_curve(y, y_hat_probability)  #an excellent value!"
   ]
  },
  {
   "cell_type": "code",
   "execution_count": 66,
   "metadata": {
    "collapsed": false
   },
   "outputs": [
    {
     "data": {
      "text/plain": [
       "<matplotlib.axes._subplots.AxesSubplot at 0x1168f1110>"
      ]
     },
     "execution_count": 66,
     "metadata": {},
     "output_type": "execute_result"
    },
    {
     "data": {
      "image/png": "[encoded data removed]",
      "text/plain": [
       "<matplotlib.figure.Figure at 0x1168ebbd0>"
      ]
     },
     "metadata": {},
     "output_type": "display_data"
    }
   ],
   "source": [
    "import matplotlib.pyplot as plt\n",
    "%matplotlib inline\n",
    "Roc_DataFrame = pd.DataFrame({'False_Positive_Rate':vals[0],'True_Positive_Rate':vals[1]})\n",
    "Roc_DataFrame.plot(x = 'False_Positive_Rate' , y = 'True_Positive_Rate' ) #beautiful Graph"
   ]
  },
  {
   "cell_type": "code",
   "execution_count": null,
   "metadata": {
    "collapsed": true
   },
   "outputs": [],
   "source": []
  }
 ],
 "metadata": {
  "kernelspec": {
   "display_name": "Python 2",
   "language": "python",
   "name": "python2"
  },
  "language_info": {
   "codemirror_mode": {
    "name": "ipython",
    "version": 2
   },
   "file_extension": ".py",
   "mimetype": "text/x-python",
   "name": "python",
   "nbconvert_exporter": "python",
   "pygments_lexer": "ipython2",
   "version": "2.7.11"
  }
 },
 "nbformat": 4,
 "nbformat_minor": 0
}
