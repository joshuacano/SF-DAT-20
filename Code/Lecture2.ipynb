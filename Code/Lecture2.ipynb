{
 "cells": [
  {
   "cell_type": "markdown",
   "metadata": {},
   "source": [
    "# Introduction to Numpy\n",
    "\n",
    "* Overview\n",
    "* ndarray\n",
    "* Indexing and Slicing\n",
    "\n",
    "More info: [http://wiki.scipy.org/Tentative_NumPy_Tutorial](http://wiki.scipy.org/Tentative_NumPy_Tutorial)"
   ]
  },
  {
   "cell_type": "markdown",
   "metadata": {},
   "source": [
    "## Numpy Overview\n",
    "\n",
    "* Why Python for Data? Numpy brings decades of C math into Python!\n",
    "   * Numpy provides wrapper for extensive C/C++/Fortran codebases for data analysis and analytical functionality\n",
    "* NDAarray allows easy vectorized math and broadcasting (i.e. functions on vector elements of different shapes)"
   ]
  },
  {
   "cell_type": "code",
   "execution_count": 43,
   "metadata": {
    "collapsed": false
   },
   "outputs": [],
   "source": [
    "import pandas as pd\n",
    "import datetime\n",
    "import pandas.io.data as web\n",
    "import matplotlib.pyplot as plt\n",
    "from matplotlib import style\n",
    "style.use('ggplot')\n",
    "import numpy as np\n",
    "%matplotlib inline"
   ]
  },
  {
   "cell_type": "markdown",
   "metadata": {},
   "source": [
    "## Convert Dictionaries to DataFrame"
   ]
  },
  {
   "cell_type": "code",
   "execution_count": 2,
   "metadata": {
    "collapsed": false
   },
   "outputs": [
    {
     "name": "stdout",
     "output_type": "stream",
     "text": [
      "   Class  Graduated  Registered\n",
      "0      1         19          20\n",
      "1      2         28          30\n",
      "2      3         35          40\n",
      "3      4         20          35\n",
      "4      5         10          10\n"
     ]
    }
   ],
   "source": [
    "GA_DAT = {'Class':[1,2,3,4,5],\n",
    "             'Registered':[20,30,40,35,10],\n",
    "             'Graduated':[19,28,35,20,10]}\n",
    "df = pd.DataFrame(GA_DAT)   #Convert a dictionary to a dataframe\n",
    "print(df)  # look up index do you like it? (I don't!)"
   ]
  },
  {
   "cell_type": "markdown",
   "metadata": {},
   "source": [
    "## Let's change index to Class #"
   ]
  },
  {
   "cell_type": "code",
   "execution_count": 3,
   "metadata": {
    "collapsed": false
   },
   "outputs": [
    {
     "name": "stdout",
     "output_type": "stream",
     "text": [
      "       Graduated  Registered\n",
      "Class                       \n",
      "1             19          20\n",
      "2             28          30\n",
      "3             35          40\n",
      "4             20          35\n",
      "5             10          10\n"
     ]
    }
   ],
   "source": [
    "df = df.set_index('Class')\n",
    "print(df)"
   ]
  },
  {
   "cell_type": "code",
<<<<<<< HEAD
   "execution_count": 6,
=======
   "execution_count": 5,
>>>>>>> upstream/master
   "metadata": {
    "collapsed": false
   },
   "outputs": [
    {
     "data": {
      "text/html": [
       "<div>\n",
       "<table border=\"1\" class=\"dataframe\">\n",
       "  <thead>\n",
       "    <tr style=\"text-align: right;\">\n",
       "      <th></th>\n",
       "      <th>Graduated</th>\n",
       "      <th>Registered</th>\n",
       "    </tr>\n",
       "    <tr>\n",
       "      <th>Class</th>\n",
       "      <th></th>\n",
       "      <th></th>\n",
       "    </tr>\n",
       "  </thead>\n",
       "  <tbody>\n",
       "    <tr>\n",
       "      <th>1</th>\n",
       "      <td>19</td>\n",
       "      <td>20</td>\n",
       "    </tr>\n",
       "    <tr>\n",
       "      <th>2</th>\n",
       "      <td>28</td>\n",
       "      <td>30</td>\n",
       "    </tr>\n",
<<<<<<< HEAD
       "    <tr>\n",
       "      <th>3</th>\n",
       "      <td>35</td>\n",
       "      <td>40</td>\n",
       "    </tr>\n",
=======
>>>>>>> upstream/master
       "  </tbody>\n",
       "</table>\n",
       "</div>"
      ],
      "text/plain": [
       "       Graduated  Registered\n",
       "Class                       \n",
       "1             19          20\n",
<<<<<<< HEAD
       "2             28          30\n",
       "3             35          40"
      ]
     },
     "execution_count": 6,
=======
       "2             28          30"
      ]
     },
     "execution_count": 5,
>>>>>>> upstream/master
     "metadata": {},
     "output_type": "execute_result"
    }
   ],
   "source": [
<<<<<<< HEAD
    "df.head(3)\n"
=======
    "df.head(2)\n"
>>>>>>> upstream/master
   ]
  },
  {
   "cell_type": "code",
<<<<<<< HEAD
   "execution_count": 7,
=======
   "execution_count": 6,
>>>>>>> upstream/master
   "metadata": {
    "collapsed": false
   },
   "outputs": [
    {
     "name": "stdout",
     "output_type": "stream",
     "text": [
      "Class\n",
      "1    19\n",
      "2    28\n",
      "3    35\n",
      "4    20\n",
      "5    10\n",
      "Name: Graduated, dtype: int64\n",
      "Class\n",
      "1    19\n",
      "2    28\n",
      "3    35\n",
      "4    20\n",
      "5    10\n",
      "Name: Graduated, dtype: int64\n"
     ]
    }
   ],
   "source": [
    "print(df.Graduated)\n",
    "print(df['Graduated'])"
   ]
  },
  {
   "cell_type": "code",
<<<<<<< HEAD
   "execution_count": 10,
=======
   "execution_count": 7,
>>>>>>> upstream/master
   "metadata": {
    "collapsed": false
   },
   "outputs": [
    {
     "name": "stdout",
     "output_type": "stream",
     "text": [
      "       Graduated  Registered\n",
      "Class                       \n",
      "1             19          20\n",
      "2             28          30\n",
      "3             35          40\n",
      "4             20          35\n",
      "5             10          10\n"
     ]
    }
   ],
   "source": [
    "print(df[['Graduated','Registered' ]])"
   ]
  },
  {
   "cell_type": "code",
<<<<<<< HEAD
   "execution_count": 11,
=======
   "execution_count": 8,
>>>>>>> upstream/master
   "metadata": {
    "collapsed": false
   },
   "outputs": [
    {
     "data": {
      "text/html": [
       "<div>\n",
       "<table border=\"1\" class=\"dataframe\">\n",
       "  <thead>\n",
       "    <tr style=\"text-align: right;\">\n",
       "      <th></th>\n",
       "      <th>Graduated</th>\n",
       "      <th>Registered</th>\n",
       "    </tr>\n",
       "  </thead>\n",
       "  <tbody>\n",
       "    <tr>\n",
       "      <th>count</th>\n",
       "      <td>5.000000</td>\n",
       "      <td>5.000000</td>\n",
       "    </tr>\n",
       "    <tr>\n",
       "      <th>mean</th>\n",
       "      <td>22.400000</td>\n",
       "      <td>27.000000</td>\n",
       "    </tr>\n",
       "    <tr>\n",
       "      <th>std</th>\n",
       "      <td>9.502631</td>\n",
       "      <td>12.041595</td>\n",
       "    </tr>\n",
       "    <tr>\n",
       "      <th>min</th>\n",
       "      <td>10.000000</td>\n",
       "      <td>10.000000</td>\n",
       "    </tr>\n",
       "    <tr>\n",
       "      <th>25%</th>\n",
       "      <td>19.000000</td>\n",
       "      <td>20.000000</td>\n",
       "    </tr>\n",
       "    <tr>\n",
       "      <th>50%</th>\n",
       "      <td>20.000000</td>\n",
       "      <td>30.000000</td>\n",
       "    </tr>\n",
       "    <tr>\n",
       "      <th>75%</th>\n",
       "      <td>28.000000</td>\n",
       "      <td>35.000000</td>\n",
       "    </tr>\n",
       "    <tr>\n",
       "      <th>max</th>\n",
       "      <td>35.000000</td>\n",
       "      <td>40.000000</td>\n",
       "    </tr>\n",
       "  </tbody>\n",
       "</table>\n",
       "</div>"
      ],
      "text/plain": [
       "       Graduated  Registered\n",
       "count   5.000000    5.000000\n",
       "mean   22.400000   27.000000\n",
       "std     9.502631   12.041595\n",
       "min    10.000000   10.000000\n",
       "25%    19.000000   20.000000\n",
       "50%    20.000000   30.000000\n",
       "75%    28.000000   35.000000\n",
       "max    35.000000   40.000000"
      ]
     },
<<<<<<< HEAD
     "execution_count": 11,
=======
     "execution_count": 8,
>>>>>>> upstream/master
     "metadata": {},
     "output_type": "execute_result"
    }
   ],
   "source": [
    "df.describe()  #Summary of your data frame"
   ]
  },
  {
   "cell_type": "code",
<<<<<<< HEAD
   "execution_count": 24,
=======
   "execution_count": 10,
>>>>>>> upstream/master
   "metadata": {
    "collapsed": false
   },
   "outputs": [
    {
     "data": {
      "text/html": [
       "<div>\n",
       "<table border=\"1\" class=\"dataframe\">\n",
       "  <thead>\n",
       "    <tr style=\"text-align: right;\">\n",
       "      <th></th>\n",
       "      <th>Graduated</th>\n",
       "      <th>Registered</th>\n",
       "    </tr>\n",
       "  </thead>\n",
       "  <tbody>\n",
       "    <tr>\n",
       "      <th>count</th>\n",
       "      <td>5.000000</td>\n",
       "      <td>5.000000</td>\n",
       "    </tr>\n",
       "    <tr>\n",
       "      <th>mean</th>\n",
       "      <td>22.400000</td>\n",
       "      <td>27.000000</td>\n",
       "    </tr>\n",
       "    <tr>\n",
       "      <th>std</th>\n",
       "      <td>9.502631</td>\n",
       "      <td>12.041595</td>\n",
       "    </tr>\n",
       "    <tr>\n",
       "      <th>min</th>\n",
       "      <td>10.000000</td>\n",
       "      <td>10.000000</td>\n",
       "    </tr>\n",
       "    <tr>\n",
       "      <th>25%</th>\n",
       "      <td>19.000000</td>\n",
       "      <td>20.000000</td>\n",
       "    </tr>\n",
       "    <tr>\n",
       "      <th>50%</th>\n",
       "      <td>20.000000</td>\n",
       "      <td>30.000000</td>\n",
       "    </tr>\n",
       "    <tr>\n",
       "      <th>75%</th>\n",
       "      <td>28.000000</td>\n",
       "      <td>35.000000</td>\n",
       "    </tr>\n",
       "    <tr>\n",
       "      <th>max</th>\n",
       "      <td>35.000000</td>\n",
       "      <td>40.000000</td>\n",
       "    </tr>\n",
       "  </tbody>\n",
       "</table>\n",
       "</div>"
      ],
      "text/plain": [
       "       Graduated  Registered\n",
       "count   5.000000    5.000000\n",
       "mean   22.400000   27.000000\n",
       "std     9.502631   12.041595\n",
       "min    10.000000   10.000000\n",
       "25%    19.000000   20.000000\n",
       "50%    20.000000   30.000000\n",
       "75%    28.000000   35.000000\n",
       "max    35.000000   40.000000"
      ]
     },
<<<<<<< HEAD
     "execution_count": 24,
=======
     "execution_count": 10,
>>>>>>> upstream/master
     "metadata": {},
     "output_type": "execute_result"
    }
   ],
   "source": [
<<<<<<< HEAD
    "df.describe()"
=======
    "df.describe()['Graduated']['25%']\n",
    "df['Graduated'].describe()['25%']"
>>>>>>> upstream/master
   ]
  },
  {
   "cell_type": "markdown",
   "metadata": {},
   "source": [
    "# Now let's change DataFrames to Arrays"
   ]
  },
  {
   "cell_type": "code",
<<<<<<< HEAD
   "execution_count": 14,
=======
   "execution_count": 11,
>>>>>>> upstream/master
   "metadata": {
    "collapsed": false
   },
   "outputs": [
    {
     "name": "stdout",
     "output_type": "stream",
     "text": [
      "[[19 20]\n",
      " [28 30]\n",
      " [35 40]\n",
      " [20 35]\n",
      " [10 10]]\n"
     ]
    }
   ],
   "source": [
    "MyArray = np.array(df[['Graduated','Registered']])\n",
    "print(MyArray)"
   ]
  },
  {
   "cell_type": "markdown",
   "metadata": {},
   "source": [
    "## Grouping"
   ]
  },
  {
   "cell_type": "code",
<<<<<<< HEAD
   "execution_count": 25,
=======
   "execution_count": 12,
>>>>>>> upstream/master
   "metadata": {
    "collapsed": false
   },
   "outputs": [
    {
     "data": {
      "text/html": [
       "<div>\n",
       "<table border=\"1\" class=\"dataframe\">\n",
       "  <thead>\n",
       "    <tr style=\"text-align: right;\">\n",
       "      <th></th>\n",
       "      <th>A</th>\n",
       "      <th>B</th>\n",
       "      <th>C</th>\n",
       "      <th>D</th>\n",
       "    </tr>\n",
       "  </thead>\n",
       "  <tbody>\n",
       "    <tr>\n",
       "      <th>0</th>\n",
       "      <td>foo</td>\n",
       "      <td>one</td>\n",
<<<<<<< HEAD
       "      <td>0.478151</td>\n",
       "      <td>-1.052599</td>\n",
=======
       "      <td>-0.118269</td>\n",
       "      <td>-0.607888</td>\n",
>>>>>>> upstream/master
       "    </tr>\n",
       "    <tr>\n",
       "      <th>1</th>\n",
       "      <td>bar</td>\n",
       "      <td>one</td>\n",
<<<<<<< HEAD
       "      <td>0.858160</td>\n",
       "      <td>-0.322398</td>\n",
=======
       "      <td>0.918319</td>\n",
       "      <td>0.266215</td>\n",
>>>>>>> upstream/master
       "    </tr>\n",
       "    <tr>\n",
       "      <th>2</th>\n",
       "      <td>foo</td>\n",
       "      <td>two</td>\n",
<<<<<<< HEAD
       "      <td>-0.093055</td>\n",
       "      <td>1.212986</td>\n",
=======
       "      <td>2.029827</td>\n",
       "      <td>-0.157792</td>\n",
>>>>>>> upstream/master
       "    </tr>\n",
       "    <tr>\n",
       "      <th>3</th>\n",
       "      <td>bar</td>\n",
       "      <td>three</td>\n",
<<<<<<< HEAD
       "      <td>-0.393705</td>\n",
       "      <td>-0.937157</td>\n",
=======
       "      <td>-0.365732</td>\n",
       "      <td>-0.256242</td>\n",
>>>>>>> upstream/master
       "    </tr>\n",
       "    <tr>\n",
       "      <th>4</th>\n",
       "      <td>foo</td>\n",
       "      <td>two</td>\n",
<<<<<<< HEAD
       "      <td>0.211181</td>\n",
       "      <td>0.252089</td>\n",
=======
       "      <td>-0.254317</td>\n",
       "      <td>0.242466</td>\n",
>>>>>>> upstream/master
       "    </tr>\n",
       "    <tr>\n",
       "      <th>5</th>\n",
       "      <td>bar</td>\n",
       "      <td>two</td>\n",
<<<<<<< HEAD
       "      <td>0.323180</td>\n",
       "      <td>0.126442</td>\n",
=======
       "      <td>0.387844</td>\n",
       "      <td>0.696149</td>\n",
>>>>>>> upstream/master
       "    </tr>\n",
       "    <tr>\n",
       "      <th>6</th>\n",
       "      <td>foo</td>\n",
       "      <td>one</td>\n",
<<<<<<< HEAD
       "      <td>-1.677218</td>\n",
       "      <td>0.464924</td>\n",
=======
       "      <td>-1.185172</td>\n",
       "      <td>-0.318026</td>\n",
>>>>>>> upstream/master
       "    </tr>\n",
       "    <tr>\n",
       "      <th>7</th>\n",
       "      <td>foo</td>\n",
       "      <td>three</td>\n",
<<<<<<< HEAD
       "      <td>-0.635269</td>\n",
       "      <td>0.516057</td>\n",
=======
       "      <td>-0.052217</td>\n",
       "      <td>-1.473594</td>\n",
>>>>>>> upstream/master
       "    </tr>\n",
       "  </tbody>\n",
       "</table>\n",
       "</div>"
      ],
      "text/plain": [
       "     A      B         C         D\n",
<<<<<<< HEAD
       "0  foo    one  0.478151 -1.052599\n",
       "1  bar    one  0.858160 -0.322398\n",
       "2  foo    two -0.093055  1.212986\n",
       "3  bar  three -0.393705 -0.937157\n",
       "4  foo    two  0.211181  0.252089\n",
       "5  bar    two  0.323180  0.126442\n",
       "6  foo    one -1.677218  0.464924\n",
       "7  foo  three -0.635269  0.516057"
      ]
     },
     "execution_count": 25,
=======
       "0  foo    one -0.118269 -0.607888\n",
       "1  bar    one  0.918319  0.266215\n",
       "2  foo    two  2.029827 -0.157792\n",
       "3  bar  three -0.365732 -0.256242\n",
       "4  foo    two -0.254317  0.242466\n",
       "5  bar    two  0.387844  0.696149\n",
       "6  foo    one -1.185172 -0.318026\n",
       "7  foo  three -0.052217 -1.473594"
      ]
     },
     "execution_count": 12,
>>>>>>> upstream/master
     "metadata": {},
     "output_type": "execute_result"
    }
   ],
   "source": [
    "df = pd.DataFrame({'A' : ['foo', 'bar', 'foo', 'bar',\n",
    "                       'foo', 'bar', 'foo', 'foo'],\n",
    "                       'B' : ['one', 'one', 'two', 'three',\n",
    "                             'two', 'two', 'one', 'three'],\n",
    "                       'C' : np.random.randn(8),\n",
    "                       'D' : np.random.randn(8)})\n",
    "\n",
    "df"
   ]
  },
  {
   "cell_type": "code",
<<<<<<< HEAD
   "execution_count": 32,
=======
   "execution_count": 13,
>>>>>>> upstream/master
   "metadata": {
    "collapsed": false
   },
   "outputs": [
    {
     "data": {
      "text/html": [
       "<div>\n",
       "<table border=\"1\" class=\"dataframe\">\n",
       "  <thead>\n",
       "    <tr style=\"text-align: right;\">\n",
       "      <th></th>\n",
       "      <th></th>\n",
       "      <th>C</th>\n",
       "      <th>D</th>\n",
       "    </tr>\n",
       "    <tr>\n",
       "      <th>A</th>\n",
       "      <th>B</th>\n",
       "      <th></th>\n",
       "      <th></th>\n",
       "    </tr>\n",
       "  </thead>\n",
       "  <tbody>\n",
       "    <tr>\n",
       "      <th rowspan=\"3\" valign=\"top\">bar</th>\n",
       "      <th>one</th>\n",
<<<<<<< HEAD
       "      <td>0.858160</td>\n",
       "      <td>-0.322398</td>\n",
       "    </tr>\n",
       "    <tr>\n",
       "      <th>three</th>\n",
       "      <td>-0.393705</td>\n",
       "      <td>-0.937157</td>\n",
       "    </tr>\n",
       "    <tr>\n",
       "      <th>two</th>\n",
       "      <td>0.323180</td>\n",
       "      <td>0.126442</td>\n",
=======
       "      <td>0.918319</td>\n",
       "      <td>0.266215</td>\n",
       "    </tr>\n",
       "    <tr>\n",
       "      <th>three</th>\n",
       "      <td>-0.365732</td>\n",
       "      <td>-0.256242</td>\n",
       "    </tr>\n",
       "    <tr>\n",
       "      <th>two</th>\n",
       "      <td>0.387844</td>\n",
       "      <td>0.696149</td>\n",
>>>>>>> upstream/master
       "    </tr>\n",
       "    <tr>\n",
       "      <th rowspan=\"3\" valign=\"top\">foo</th>\n",
       "      <th>one</th>\n",
<<<<<<< HEAD
       "      <td>-0.599533</td>\n",
       "      <td>-0.293838</td>\n",
       "    </tr>\n",
       "    <tr>\n",
       "      <th>three</th>\n",
       "      <td>-0.635269</td>\n",
       "      <td>0.516057</td>\n",
       "    </tr>\n",
       "    <tr>\n",
       "      <th>two</th>\n",
       "      <td>0.059063</td>\n",
       "      <td>0.732538</td>\n",
=======
       "      <td>-0.651721</td>\n",
       "      <td>-0.462957</td>\n",
       "    </tr>\n",
       "    <tr>\n",
       "      <th>three</th>\n",
       "      <td>-0.052217</td>\n",
       "      <td>-1.473594</td>\n",
       "    </tr>\n",
       "    <tr>\n",
       "      <th>two</th>\n",
       "      <td>0.887755</td>\n",
       "      <td>0.042337</td>\n",
>>>>>>> upstream/master
       "    </tr>\n",
       "  </tbody>\n",
       "</table>\n",
       "</div>"
      ],
      "text/plain": [
       "                  C         D\n",
       "A   B                        \n",
<<<<<<< HEAD
       "bar one    0.858160 -0.322398\n",
       "    three -0.393705 -0.937157\n",
       "    two    0.323180  0.126442\n",
       "foo one   -0.599533 -0.293838\n",
       "    three -0.635269  0.516057\n",
       "    two    0.059063  0.732538"
      ]
     },
     "execution_count": 32,
=======
       "bar one    0.918319  0.266215\n",
       "    three -0.365732 -0.256242\n",
       "    two    0.387844  0.696149\n",
       "foo one   -0.651721 -0.462957\n",
       "    three -0.052217 -1.473594\n",
       "    two    0.887755  0.042337"
      ]
     },
     "execution_count": 13,
>>>>>>> upstream/master
     "metadata": {},
     "output_type": "execute_result"
    }
   ],
   "source": [
    "df.groupby(['A','B']).mean()"
   ]
  },
  {
   "cell_type": "markdown",
   "metadata": {},
   "source": [
    "# Now Let's Play with Web Data"
   ]
  },
  {
   "cell_type": "code",
<<<<<<< HEAD
   "execution_count": 39,
=======
   "execution_count": 14,
>>>>>>> upstream/master
   "metadata": {
    "collapsed": false
   },
   "outputs": [
    {
     "name": "stdout",
     "output_type": "stream",
     "text": [
      "                 Open   High        Low      Close    Volume  Adj Close\n",
      "Date                                                                   \n",
      "2010-06-29  19.000000  25.00  17.540001  23.889999  18766300  23.889999\n",
      "2010-06-30  25.790001  30.42  23.299999  23.830000  17187100  23.830000\n",
      "2010-07-01  25.000000  25.92  20.270000  21.959999   8218800  21.959999\n",
      "2010-07-02  23.000000  23.10  18.709999  19.200001   5139800  19.200001\n",
      "2010-07-06  20.000000  20.00  15.830000  16.110001   6866900  16.110001\n",
      "                  Open        High         Low       Close   Volume  \\\n",
      "Date                                                                  \n",
      "2016-01-26  196.699997  197.820007  188.880005  193.559998  4946800   \n",
      "2016-01-27  192.380005  193.259995  185.770004  188.070007  3565400   \n",
      "2016-01-28  190.789993  191.279999  182.410004  189.699997  4581700   \n",
      "2016-01-29  189.949997  193.740005  188.080002  191.199997  2841000   \n",
      "2016-02-01  188.759995  199.520004  182.750000  196.940002  5293800   \n",
      "\n",
      "             Adj Close  \n",
      "Date                    \n",
      "2016-01-26  193.559998  \n",
      "2016-01-27  188.070007  \n",
      "2016-01-28  189.699997  \n",
      "2016-01-29  191.199997  \n",
      "2016-02-01  196.940002  \n"
     ]
    },
    {
     "data": {
      "text/plain": [
       "count    1408.000000\n",
       "mean      115.215810\n",
       "std        93.731751\n",
       "min        15.800000\n",
       "25%        28.567500\n",
       "50%        45.520001\n",
       "75%       211.070000\n",
       "max       286.040009\n",
       "Name: Adj Close, dtype: float64"
      ]
     },
<<<<<<< HEAD
     "execution_count": 39,
=======
     "execution_count": 14,
>>>>>>> upstream/master
     "metadata": {},
     "output_type": "execute_result"
    }
   ],
   "source": [
    "start = datetime.datetime(2010,1,1)\n",
    "end = datetime.datetime(2016,2,1)\n",
    "\n",
    "df = web.DataReader(\"TSLA\",\"yahoo\",start,end)\n",
    "print(df.head())\n",
    "print(df.tail())\n",
    "\n",
    "df[\"Adj Close\"].max()"
   ]
  },
  {
   "cell_type": "code",
<<<<<<< HEAD
   "execution_count": 45,
=======
   "execution_count": 15,
>>>>>>> upstream/master
   "metadata": {
    "collapsed": false
   },
   "outputs": [
    {
     "data": {
      "image/png": "iVBORw0KGgoAAAANSUhEUgAAAXgAAAEMCAYAAADOLq1xAAAABHNCSVQICAgIfAhkiAAAAAlwSFlz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\nSUVORK5CYII=\n",
      "text/plain": [
       "<matplotlib.figure.Figure at 0x10b6c9b50>"
      ]
     },
     "metadata": {},
     "output_type": "display_data"
    }
   ],
   "source": [
    "df['Close'].plot()\n",
    "plt.show()"
   ]
  },
  {
   "cell_type": "markdown",
   "metadata": {
    "collapsed": true
   },
   "source": [
    "# Input/output almost any type of Data using Pandas\n",
    "Using pandas I/O API you can read from, convert to, or write in almost any type of dataset. Please refer to <http://pandas.pydata.org/pandas-docs/stable/io.html> for more info.\n",
    "\n",
    "## Let's read csv"
   ]
  },
  {
   "cell_type": "markdown",
   "metadata": {
    "collapsed": true
   },
   "source": [
    "You can read any file from your local computer by refering to the complete address of your data."
   ]
  },
  {
   "cell_type": "code",
<<<<<<< HEAD
   "execution_count": 46,
=======
   "execution_count": 16,
>>>>>>> upstream/master
   "metadata": {
    "collapsed": false
   },
   "outputs": [
    {
     "name": "stdout",
     "output_type": "stream",
     "text": [
      "       Date    Value\n",
      "0  12/31/15  1138500\n",
      "1  11/30/15  1126750\n",
      "2  10/31/15  1093250\n",
      "3   9/30/15  1080750\n",
      "4   8/31/15  1138750\n"
     ]
    }
   ],
   "source": [
<<<<<<< HEAD
    "df1 = pd.read_csv('/Users/jcano/src/repos/SF-DAT-20/Data/SF-Median-Prices.csv') \n",
    "print(df1)"
=======
    "df1 = pd.read_csv('/Users/hamed/Desktop/SF-DAT-20/Data/SF-Median-Prices.csv') \n",
    "print(df1.head())"
>>>>>>> upstream/master
   ]
  },
  {
   "cell_type": "code",
<<<<<<< HEAD
   "execution_count": 47,
=======
   "execution_count": 17,
>>>>>>> upstream/master
   "metadata": {
    "collapsed": false
   },
   "outputs": [
    {
     "data": {
      "text/plain": [
<<<<<<< HEAD
       "'/Users/jcano/src/repos/SF-DAT-20/Code'"
      ]
     },
     "execution_count": 47,
=======
       "'/Users/hamed/Desktop/SF-DAT-20/Code'"
      ]
     },
     "execution_count": 17,
>>>>>>> upstream/master
     "metadata": {},
     "output_type": "execute_result"
    }
   ],
   "source": [
    "import os\n",
    "from os import getcwd\n",
    "getcwd()"
   ]
  },
  {
   "cell_type": "code",
<<<<<<< HEAD
   "execution_count": 48,
=======
   "execution_count": 18,
>>>>>>> upstream/master
   "metadata": {
    "collapsed": true
   },
   "outputs": [],
   "source": [
    "os.chdir('/Users/jcano/src/repos/SF-DAT-20/Data') #PLEASE SET THIS WORKING DIRECTORY TO YOURS\n"
   ]
  },
  {
   "cell_type": "code",
<<<<<<< HEAD
   "execution_count": 53,
=======
   "execution_count": 19,
>>>>>>> upstream/master
   "metadata": {
    "collapsed": false
   },
   "outputs": [
    {
     "data": {
      "text/html": [
       "<div>\n",
       "<table border=\"1\" class=\"dataframe\">\n",
       "  <thead>\n",
       "    <tr style=\"text-align: right;\">\n",
       "      <th></th>\n",
       "      <th>Date</th>\n",
       "      <th>Value</th>\n",
       "    </tr>\n",
       "  </thead>\n",
       "  <tbody>\n",
       "    <tr>\n",
       "      <th>232</th>\n",
       "      <td>8/31/96</td>\n",
       "      <td>268650</td>\n",
       "    </tr>\n",
       "    <tr>\n",
       "      <th>233</th>\n",
       "      <td>7/31/96</td>\n",
       "      <td>273000</td>\n",
       "    </tr>\n",
       "    <tr>\n",
       "      <th>234</th>\n",
       "      <td>6/30/96</td>\n",
       "      <td>274250</td>\n",
       "    </tr>\n",
       "    <tr>\n",
       "      <th>235</th>\n",
       "      <td>5/31/96</td>\n",
       "      <td>265700</td>\n",
       "    </tr>\n",
       "    <tr>\n",
       "      <th>236</th>\n",
       "      <td>4/30/96</td>\n",
       "      <td>259300</td>\n",
       "    </tr>\n",
       "  </tbody>\n",
       "</table>\n",
       "</div>"
      ],
      "text/plain": [
       "        Date   Value\n",
       "232  8/31/96  268650\n",
       "233  7/31/96  273000\n",
       "234  6/30/96  274250\n",
       "235  5/31/96  265700\n",
       "236  4/30/96  259300"
      ]
     },
<<<<<<< HEAD
     "execution_count": 53,
=======
     "execution_count": 19,
>>>>>>> upstream/master
     "metadata": {},
     "output_type": "execute_result"
    }
   ],
   "source": [
    "df2 = pd.read_csv('SF-Median-Prices.csv')\n",
    "df2.tail()"
   ]
  },
  {
   "cell_type": "code",
<<<<<<< HEAD
   "execution_count": 54,
=======
   "execution_count": 20,
>>>>>>> upstream/master
   "metadata": {
    "collapsed": false
   },
   "outputs": [
    {
     "data": {
      "image/png": "iVBORw0KGgoAAAANSUhEUgAAAZEAAAEECAYAAADpigmnAAAABHNCSVQICAgIfAhkiAAAAAlwSFlz\nAAALEgAACxIB0t1+/AAAIABJREFUeJzt3Xd8V9X9+PHXuYEww4wEE/beKiiIoyCKe9Z6tFrBir8O\nrUJt+63UVnCPDkdbRy0qWBXfdVet4op1Aw4E2WiAhCUrgMpI7vn9cW/gk+TzST6Zn+TzeT8fDx/c\nz7nn3M+5p2neOeOea5xzKKWUUtXhJboCSimlGi8NIkoppapNg4hSSqlq0yCilFKq2jSIKKWUqjYN\nIkoppaqtSWUZrLUzgNOBjSIyLEy7AzgD2AOsAn4sIjvCc1OBS4EiYLKIzAnThwOPAM2Bl0VkSpie\nDswCRgCbgfNFZE14biJwLeCAm0VkVpjeA5gNdAA+Bi4WkaIatoVSSqkqiqcn8jBwUpm0OcBgETkU\nWAFMBbDWDgIsMBA4BbjXWmvCMvcBk0SkH9DPWltyzUnAVhHpC9wF3BFeqz1wHXAEMAqYZq1tG5a5\nHfhzeK3t4TXiYq0dG2/eVKNtE5u2TWzaNrGlQttUGkRE5F1gW5m010XEDz9+CHQJj88EZotIkYjk\nEQSYkdbazkCGiMwL880Czg6PzwJmhsdPAePC45OAOSJSKCLbCQLXyeG5ccDT4fFM4Jw47rXE2Crk\nTTVjE12BBmxsoivQgI1NdAUasLGJrkBdq405kUuBl8PjHGBtxLmCMC0HyI9Izw/TSpURkWKg0Frb\nIda1rLUdgW0RQSwfyK6F+1BKKVVFNQoi1tprgX0i8kQt1QfAVJ4lrjxKKaXqWKUT67FYay8BTuXA\n8BMEvYWuEZ+7hGmx0iPLrLPWpgFtRGSrtbaA0l3BLsBbIrLFWtvWWuuFvZHIa0Wr59jI64jINGBa\n3DeaQkQEtG2i0raJTdsmtmRrG2vt9REfc0UkN94gYoj4699aezLwG+B7IrInIt8LwGPW2jsJhqP6\nAHNFxFlrC621I4F5wATgnogyE4GPgPOAN8P0V4Gbw8l0DxgPXBOeeyvM+2RY9vlYFReRXCA3Imna\nunXr4rzt1JKRkcHOnTsTXY0GSdsmNm2b2JKpbbKzsxGR6WXTKx3OstY+DrxPsKJqjbX2x8BfgdbA\na9baT6y19wKIyGJAgMUE8ySXi0jJNsFXADOA5cAKEXklTJ8BZFprVwBTCAOFiGwDbgTmEwSY68MJ\ndsI8V1trlxMs851RlcaoCv+NF3FF++rq8kop1aiZFNwK3sXbE3HO4V/+A7yb7sd0PKiOq5V4yfRX\nU23TtolN2ya2ZGqb7OxsiDIfrU+sV+S7b6FoH+zdU3lepZRKQRpEKrIjfDxGg4hSSkWlQaQiO8Ip\nmH0aRJRSKhoNIhUpCSLaE1FKqag0iJThiosPHBdqEFFKqYpoEIngCtbgX3/VgYSwJ+L2aBBRSqlo\nNIhEcF8uhfVrcTt3BAk7t4Mx2hNRSqkYNIhEWr0y/HcFAG7HdmjXEfbuTWCllFKq4dIgArhtW4J/\nV6+C3gNweUEQoXAbZHbSnohSSsWQ8kHE7d2DP/UyXMEaWLcac+yJuLywR7JjOyYzS4OIUkrFkJJB\nxO0sPPBh+xYoLsZ//D7o0AnTfyjkrcA5F0ysaxBRSqmYUjOIvCQHPmzbAp2yYeUSTPfe0LETFBfD\nurXQpAm0bqNBRCmlYkjNILJw/oHjbZsxPfpiRh8H/YdijMEMPgz30pPQph2kN9Mn1pVSKoaUDCJs\n34r77tvgeNsWaN8RM+FKzDHjATDnXoJb9DG0aR8EEV2dpZRSUaVmEMnpDvl5wfG2zdA+E+N5GBPs\ncmzad8Rc8BNMr36Y9HScDmcppVRUKRlETNdeuDVfAsHyXtO+Y7k83lHj8M67NOyJaBBRSqloUjKI\n0LUnrF0VHG/bAu0zY+fVIKKUUjGlZBAx3Xrh1n4VfNi2GaL0RPZLbwa6d5ZSSkWVkkGEnB6wIR+3\n+zv4Zhe0aRs7r/ZElFIqppQMIqZZM8jKwc19G9q2x3hpsTNrEFFKqZhSMogAmBPPwT3zaMVDWaBB\nRCmlKpC6QWTksdCmHaaiSXXQIKKUUhVokugKJIrx0vAu+jl8s7PijE3TobgI5/sYL2VjrlJKRZWy\nQQTA9B9SeR5jgkCyby80a14PtVJKqcZD/7SOR3q6DmkppVQUGkTiofMiSikVlQaReGgQUUqpqDSI\nxEODiFJKRaVBJB669YlSSkWlQSQe2hNRSqmoNIjEQ4OIUkpFpUEkDia9mb6YSimlotAgEo/0ZsHD\nhkoppUrRIBKPpvqwoVJKRaNBJB5l5kTchgL8p2cmsEJKKdUwaBCJR7PmsPu7/R/d/Hdw899NYIWU\nUqphqHQDRmvtDOB0YKOIDAvT2gNPAt2BPMCKSGF4bipwKVAETBaROWH6cOARoDnwsohMCdPTgVnA\nCGAzcL6IrAnPTQSuBRxws4jMCtN7ALOBDsDHwMUiUlSzpqhA2/bw5dL9H92iT2DbZpxfXPELrZRS\nKsnF0xN5GDipTNo1wOsi0h94E5gKYK0dBFhgIHAKcK+11oRl7gMmiUg/oJ+1tuSak4CtItIXuAu4\nI7xWe+A64AhgFDDNWlvyHtvbgT+H19oeXqPOmA6ZuG1bAHC7dkDBamjZGrZvrcuvVUqpBq/SICIi\n7wLbyiSfBZRMCswEzg6PzwRmi0iRiOQBK4CR1trOQIaIzAvzzYooE3mtp4Bx4fFJwBwRKRSR7cAc\n4OTw3Djg6YjvP6ey+6iR9plQEkS++BT6D4VOB8PmTXX6tUop1dBVd06kk4hsBBCRDUCnMD0HWBuR\nryBMywHyI9Lzw7RSZUSkGCi01naIdS1rbUdgm4j4EdfKruZ9xKd9R9i2OThe/Blm8HBMx064rRpE\nlFKprbZeSuVq6ToApvIsceUBwFo7Fhhb8llEyMjIqFKFXOvWFDpH6zSPXevX0OKU77Pvmx2YnYU0\nr+K1GrL09PQqt02q0LaJTdsmtmRrG2vt9IiPuSKSW90gstFamyUiG8OhqpI/yQuArhH5uoRpsdIj\ny6yz1qYBbURkq7W2gIhf/mGZt0Rki7W2rbXWC3sjkdcqR0RygdyIpGk7d1byStxo2meyc81X+OvW\n8m2bDriMdrB6Jfuqc60GKiMjg2q1TQrQtolN2ya2ZGqbjIwMRGR62fR4h7MMpf/6fwG4JDyeCDwf\nkX6BtTbdWtsT6APMDYe8Cq21I8OJ9gllykwMj88jmKgHeBUYHwaM9sD4MA3grTBv2e+vO+074lYt\ngRYtMS1bBcNZmzeWyuIWzMOtWhrjAkoplXwqDSLW2seB9wlWVK2x1v4YuI3gF/wy4PjwMyKyGBBg\nMfAycLmIlAx1XQHMAJYDK0TklTB9BpBprV0BTCFY+YWIbANuBOYDHwHXhxPshHmuttYuJ1jmO6P6\nTRAf0z4Tt/gzODjsUGV2gi2l50T8/zyBe/2Fuq6KUko1GMa52pzOaBTcunXrqlzIf+5fuLdexhw5\nFu+HP8Ht3YM/+UK8v/8b43m4bVvwr7scvDS8vzyKSWt8z48kU9e7tmnbxKZtE1sytU12djZEmY/W\nJ9bj1SETvt0FB3cBgp19adkKdgSrn92CuZhDRkJmFuiQllIqRWgQiZNpnxn8e3C3A4nZ3SBvBQBu\nwUdwyCjM0BG4hfMTUUWllKp3GkTi1b5j8G/YEwEww0fjPn4fV7gNVi3DDBmOGXo47vN5MS6ilFLJ\nRYNIvDKzoM8gyGi7P8kcNhr3+TzcnGcxo8ZgWrSEnv1g93e4/K8SWFmllKofGkTiZJq3JO23t2HM\ngXkl064D5HTHvfEfzInBLi7G8zCjxuA+yE1QTZVSqv5oEKkhc/R4zOhxmIM6H0g7cixu7ts4vziB\nNVNKqbqnQaSGvKOPx0z4Rak0k90N2nbAzdN3jiilkltt7Z2V0iKHuEp4F1+Of9d0fOdg9SrM2T/C\nNGuWgNoppVTd0Z5IHTHd+2DOvwz35ou4uW/D+jWJrpJSStU6DSJ1yDtyLGm/+xP0HgBl9tlSSqlk\noEGkHpjMrHKbNSqlVDLQIFIfMrO0J6KUSkoaROqB9kSUUslKg0h9yMzS97ErpZKSBpH60DELtmzC\n+X7leZVSqhHRIFIPTLNw2/jCbYmuilJK1SoNIvVFJ9eVUklIg0g90cl1pVQy0iBSXzKz4OsNia6F\nUkrVKg0i9aVLT9yaVYmuhVJK1SoNIvXE9BkIq5boCi2lVFLRIFJPTPuO0LwlbCxIdFWUUqrWaBCp\nR6bPINyKxQC4gtUU3319gmuklFI1o0GkPvUdCCvDILJiMSz+FLdnd4IrpZRS1adBpB5F9kRYswp8\nH/JWJLZSSilVAxpE6tPBXWHfXtym9bg1X0Kv/riVSxJdK6WUqjYNIvXIGIMZPBz3+VxYvxYz5hTc\nqqXl8rnVKymefCHFV12AW7YoATVVSqn4aBCpb0OG4954ETpkYgYdCquWllr26/xi/EfvxfzgEsyx\nJ+JWaBBRSjVcGkTqmRl0KGz5GtO1F6Zdh2BjxvVr9593b7wIzZpjjhkPPfoGw15KKdVAaRCpZ6ZV\nBvTqB916BZ8PHYWb/y4AbuVi3H+fwpv4i2Doq2tP0CCilGrANIgkgHfRzzFHHQ+AGT0O98FbuB3b\n8R/4I96PJ2M6ZQcZO2XDrp24b3clsLZKKRWbBpEEMF17Ytq0Cz507QnNW+D/6VrMqDGYoYcfyOd5\n0KU7rP0qQTVVSqmKaRBJMGMM5pgToGk65uyLyp/v1kvnRRoI5/v4c57FFRcnuipKNRgaRBoAc/yZ\neFPvwDRpWv5k116wVoNIffPfewO3bGHpxE/ex/37YSibrlQKa5LoCqigN0K0AELQE/Hf+E891yi1\n+S/ODuap9u6BXgMwxrDv1B/gvyQw8BDc3P8Fq+yUUjULItbaXwKTAB9YCPwYaAU8CXQH8gArIoVh\n/qnApUARMFlE5oTpw4FHgObAyyIyJUxPB2YBI4DNwPkisiY8NxG4FnDAzSIyqyb30mBld4NN63H7\n9mKapie6NknPfb0B98aLeNP/Cp6HWzAXiov59q83QkZbvEuuwr9hCm7fPkzT6IFfqVRS7eEsa202\ncCUwXESGEQSkHwLXAK+LSH/gTWBqmH8QYIGBwCnAvdZaE17uPmCSiPQD+llrTwrTJwFbRaQvcBdw\nR3it9sB1wBHAKGCatbZtde+lITNN06HTwVCwOtFVSQlu1VLoNwTTtj0moy3eMePxxpxMxh8fwrvi\n95gOB0F2V1j8aaKrqlSDUNM5kTSglbW2CdACKADOAmaG52cCZ4fHZwKzRaRIRPKAFcBIa21nIENE\n5oX5ZkWUibzWU8C48PgkYI6IFIrIdmAOcHIN76XBMt164XSFVv34cimmd/9yyV5GW0zHgwCCrWuW\nf1HfNVOqQap2EBGRdcCfgTUEwaNQRF4HskRkY5hnA9ApLJIDrI24REGYlgPkR6Tnh2mlyohIMVBo\nre1QwbWSU7de+tBhPXGrlmF6Dagwj+naE5efVz8VUqqBq8lwVjuCnkJ3IJugR3IRwRxFpLKfa8JU\nniX5mK69cLpCq1b4/34Y/8PcqOfcnt2wIR+69674Il16QL72DJWCmk2snwB8KSJbAay1zwJHARut\ntVkisjEcqtoU5i8AukaU7xKmxUqPLLPOWpsGtBGRrdbaAmBsmTJvRauktXZsZF4RISMjo8o3m0j+\nwGHs+GserVu1xHhpdfY96enpja5tqqI4P4+db75IWq9+ZIw/o9z5orWr+K5bLzI6dCx3LrJtXOvW\n7CguolXxPrx2Heq83g1dsv/c1ESytY21dnrEx1wRya1JEFkDHGmtbQ7sAY4H5gG7gEuA24GJwPNh\n/heAx6y1dxIMPfUB5oqIs9YWWmtHhuUnAPdElJkIfAScRzBRD/AqcHM4me4B4wkm9MsRkVwgNyJp\n2s6dO2tw2wmS0Zadq5ZjOnepu6/IyKBRtk2civ/1AOaMCyh+7Tl25H25f46jhL9gPvToG7UNyraN\ny+nBrmVf6FJfkv/npiaSqW0yMjIQkell02syJzKXYLL7U2ABwVDTPwiCx3hr7TKCwHJbmH8xIMBi\n4GXgchEpGeq6ApgBLAdWiMgrYfoMINNauwKYQhgoRGQbcCMwnyDAXB9OsCevrj3LPbnuNq2j+N5b\ncJ99iHO1OWqYfNzXG2DVEsz4szCHjd6/6eX+887hPnobM+KouK5nuvSo9ryI25HcP6oqtZgU/OXj\n1q1bl+g6VJn/4mzYvRvvB5fsTyu+/zZMWhPc8i/w/t+vMP2G1Og7kumvprL8lwQKt+Jd+DPckgX4\nTz1C2h/u3H/efbUc/59/xrvp/uDhzzLKto3/zhxY8QXepb+Muw5uy9f4j98Pn8/D+82tmH6Da3ZT\nDUQy/9zUVDK1TXZ2NkSZl9ZtTxoJ07V3qWW+7qsVsGopZsKVmKEjcOvWVlA6te3vZYwcEyT0HwI7\nC3ERk+Pu/Tcwo4+LGkCiMV16VGnZtdu7B//emzFdemB+PBl/9j9wftX34HJfLgsCmFINhAaRxqJb\nsIdWSc/R/++/Maeeh2nWDLJyYGPj613VB//hu3H/uhf27oHewdJd46VhjhqHe+8NgOCd9/PfxYwe\nV9GlSuvaE7ZsimtoyjmH+9d9mKwczNk/Cr6neQvci09WaRjSFe0L7ueZWbiiovjrqlQd0iDSWLTr\nAM7B9q24b3bC0s8xo8YCYLKycRsLKi6fgtyWTbjP50F6c8xptlQvwxx9Au6jt3Hr1uDffxvm9B9i\nOnaq4GqlmSZNYcAw3KJPon93wWqK//IH/H/8Effo33Eb8jETwpeNGYN32a9xn3yAk4fiv5/XXoCD\nOgc7GCz5LO5yStUlDSKNhDFm/0OHbv57mEGHYVq2Ck5qTyQq99lHmEOOwDt/Et6xJ5Y6Zw7qjBky\nHP/vN2P6DcGMO63K1zdDD4eF88t/75IFwfthho+G7K647VvxpkzHNG9xoGyHTLz/uw33/uu47Vsr\nv5dvduJefQbvgsswo8bgPnwb9/H7wbCmUgmku/g2IqZrL/z334Atm/BOP//AiYOyYOvXuKIiTBP9\nn7SE+/RDvBPOjHm+KpPi0Zihh+M/9XCpdnf5X+E/+Ce8n19T6UIH07IVZtgRuE8/wBxXcRBzc57D\nDB8dvPXy8Jb4MiPYqr5zDmm/vrlG96FUTehvnEbEjDsNXn0Wt+c7GDL8QHqTptC+I2zeCJ2Td/eX\nqnC7dsCaVVCHz3GYdh2gUzb+n36H6d4HM/AQ/H/di3fhT+NeKWdGHIX/2gtQJoi4PXtwuS/hvlwW\nJCxbhBeuJjNt2uH9/i9wUDb+1Mtwm9ZjOh1cq/emVLw0iDQipsNBmB/+JPrJrOxgSEuDCEAwUT7o\nMEx6szr9Hu+q6yA/D7dsIb7MwPvhTzAjjo7/AoOHw8N34wq3Ydq2x337DaxcjP/MLMjKwQw/CpOW\nBmNPLTVnY7r0DP4dNQb33huYc35U27emVFw0iCQJk5WD21iA4Yhg4t0YTMvWia5WQjjncG+/infe\nJXX+XSajLQw8BDPwEDi76r/ITdN0zIijca88DSedg3/T1dC5C+bEszGjx1W65NgcfTz+X2/EnX1R\n3MuTlapNGkSSRVY2bt47+M2a4154HFq2wrv6Jkz78vtAJb28lbD7WxhwSKJrEhdzzgT866/ELVuI\n+d5JeGdeGH/hnB5Q7AdDmQd1rrM6KhWLrs5KEmbUGEzfIbjP5+H99LeYo07Av/M6nO8numpBz6g+\nv+/d1zDHjMd4jePH22S0wbvwZ9CuI+a08ysvEFnWGEzfQbgVi+uodkpVTHsiScK0bF16XLzvINwH\nb8JXy/c/ZFff3PYt+I/dD4s+xrvpgXIbHtbJdzoXBNJf3VTn31WbzPDRpA0fXb3CfQbBysVwVBUe\nllSqljSOP9VUlRljMIcfjZv/XsLq4P79MKZdR8yYU4Ix//qwbi2kpQULDVKE9kRUImkQSWLm8GNw\nH7+XkCEtt2MbbtHHwTYfp56Hm/s//Hnv4L5aHruMc/gP3YVbtqj637v4U8zgw1JrkrlLdyjchttZ\nmOiaqBSkQSSJmexu0LIVrFpa79/t3nkNM+JoTKvWmDbtMOdcjHtnDv6Dfyqfd9N63MoluDdfwn32\nIf6cZ6v/vV98ghl8WE2q3ugYLw36DMQt/DjRVVEpSINIkjOjx+H+92qNruEWzMNt2xJ/fudw78zB\njDllf5o39hS8ydOhcGvwGtrI/C8L/j3X456dhffrW2DVUtyWr6tezz17YOVSGDCsymUbO+/Es3Ev\nPI7btzfRVVEpRoNIkjPHnID7fG61hjpccTH+o/fi33cr7vXnKy9QYn24LX23XqXrkpYW7PNVZtt6\ntzYPb/J0vNtnYLr1Ch6ge+053L69+C8J/lsvx1ffd16FgcNS8vkYM2BY8OKy119IdFVUitEgkuRM\nqwzMYUfiqvgOCucc7rH7cF+vx/vNLbh578Y9t+IWfYwZMjzqvITJ6Y4ryDuQt7gYNqyFLj0wrYJ3\nUZvxZ+HyVuBPvhC3fBHuP0+Ue6tjue/cuyfYoPCMC+K/ySTjnfdj3JzncKtXJboqKoVoEEkB5qjj\ncR+/X6Uy7r3XcXkr8C6fiuk9AFq0hC+jz624Dfn4T8/c/24Mt+gTTMTeXqXkdIeC1Qc+byiAdpmY\nZs0P1Dczi7Rr7sC75QG8Kddjzr0E/5G7K3yJk/vgLejeB9Otd5XuM5mYTtmYC3+Gf/9tVRp+VKom\nNIikgm69YcPaKr3IyC2Yhzn5XEzzlgCYI47Fzf1f+Xyb1uP/5bqgp7NicTDf8eXymPMSJqcHLiKI\nuPyvoGuP6HnbdQyWKh81DtKbVbxcOW9FsDV7ivOOOAYz9hT8m6+u0So3peKlQSQFmOYtoP1BEOeL\nq5xzsGoJps/AA9cYenjUX0ruv08FT4ef/SP8Oc/iXnseevXbH3zKyelWuiey9qv9mwnGrL8xeKef\nj3tJYg6puc0bMQdlVX5zKcA76ft4l07Bf+B23CJdsaXqlgaRFGG69sStrXheYb+v10OTppgOEU+Y\nd86BzRvK/RJ3a78Knss4ahx8uQw39394l1wV+9rtM2Hfvv0T/S7/K0zXioMIEOx2m94s9rDc1xsg\nU4NICTPoMLwrrsV/6C78Zx/F7d2T6CqpJKVBJFV06QFr8+LK6lYuDeZBIphmzaFVG9i2+UC+4mJY\nvwZyumPSm+FNuR7vt7eXDj5lGGOgZ19YtjAISGu+hEp6IiXlvO9PwD0zs9wyVldUBIVboYLvTUWm\n9wC86+7GrVmF+/fDia6OSlIaRFKE6dYr/p7IqiUQMZS1X1Z2MBFeYmNBsGlg+NpX060XplXly2vN\n6HH477wGC+ZCx07QITOuapmBh0CXHuWXsW7bDG3aBy/nUqWYdh3wJl2Nm/8ubn0+btuWKs2NKVUZ\nDSKpomvP4OVJ4QqqiriVS8r1RABMVjYuYl7F5ecFPZwqMiOOgjUr8Z+ZiXfyuVXaosQ79xLcnGdL\nP7Co26BXyLRugznlXPw/TsX//U/x//J7XOG2RFdLJQkNIqmibYfg3+1bK8zm1ufDN7uga6/yJ7Ny\ngrcnlsivfFI8GtM0HTNqLPgODhtVtbKdc6DPINwHb+FWLcX/MBf39QZMZqfKC6cwM+50vIlX4d35\nGGbAMPybf4VLwHY4KvnoVvApwhgDvfrjVi7GHHFszHzugzeDd5OkpZW/RlY2/hefHMi7Ng9vzEnV\nq88ZF2DGnBzs+1RF3vFn4M/8azBZ7Bxm9HGQqT2RipgmTeGQI4LjMy/Ede+D/9cb8a67GxPncKJS\n0WhPJIWYAUNh6cKY553v4z7MDX4pRxOlJ0JOj+rVpVUG5uCu1SpL/6HBXMxZF0JWDu79N3U4q4rM\nISMxQ4bjPp+X6KqoRk6DSAox/Yfhln4e9ZzbtJ7vZv0NMtpgYs1zdOwE27fi9u3Fbf0aiooSsqzW\nGIP3f7fife/kYGnxrh0YXd5bdcOOwC2cn+haqEZOg0gqyekO3+7Ebd1cKtnt2oF/xzWYtKZ4P7sm\nZnHTpAlkdoL1a3HLF0G/wQl7b0fJ95rDj4EWraDTwQmpR2NmBg+H5Yv0GRJVIxpEUojxPOg/FLes\n9JCWe3IG5vBjaHHxzzGVDAuZISNwn34Ey7/A9BtSl9WNi2nREu+OhzAZbRNdlUbHtGodrNpbFnuI\nU6nKaBBJMab/MIgY0nJrvsQtW4g5+0cVlIoof8SxuHnv4BpIEAH2P6eiqs4cMqrKm3MqFUmDSIox\nA4J5kf077s5/F3PkmPh/EffsB8VFsHN7MDymGjUzagzu0w9wu79LdFVUI6VBJNV0zgmCwOaNwTtD\nPn4fM+LouIsbY4Ilwn0HB8NjqlEz7TpA38HaG1HVps+JpBhjzP5VWqakV1HFd3CYMy7A6F+uScM7\n+gT8Oc/B0ccnuiqqEdI/JVPRgKGwZAHujf9gho+u8gor0zRdJ7KTydARsGaVDmmpatEgkoLMgGHB\n5PiGfMzJ5ya6OirBTJOmwfxWJa8gViqaGg1nWWvbAv8EhgA+cCmwHHgS6A7kAVZECsP8U8M8RcBk\nEZkTpg8HHgGaAy+LyJQwPR2YBYwANgPni8ia8NxE4FrAATeLyKya3EtKyczCu+J3MGSE7nyrADA9\n+uBWr8T0G5zoqqhGpqY9kbsJfukPBA4BlgLXAK+LSH/gTWAqgLV2EGCBgcApwL3W2pJxlPuASSLS\nD+hnrS3ZkGkSsFVE+gJ3AXeE12oPXAccAYwCpoUBTcXBGIM59EgNIOqA7n0hb0Wia6EaoWoHEWtt\nG+BYEXkYQESKwh7HWcDMMNtM4Ozw+ExgdpgvD1gBjLTWdgYyRKRkE59ZEWUir/UUMC48PgmYIyKF\nIrIdmAOcXN17USrVmR59cHkrE10N1QjVZDirJ7DZWvswQS9kPjAFyBKRjQAissFaW7JHdw7wQUT5\ngjCtCMiPSM8P00vKrA2vVWytLbTWdohML3MtpVR1dO4ChVtx3+7CtKz8xWJKlajJcFYTYDjwdxEZ\nDnxDMJSGgw6YAAAUYElEQVRV9q1Hlb8FKX6J2ahJqSRn0tKCLVBWr0p0VVQjU5OeSD6wVkRKtgF9\nmiCIbLTWZonIxnCoalN4vgCI3Pu7S5gWKz2yzDprbRrQRkS2WmsLgLFlyrwVrZLW2rGReUWEjIyM\nqt1pikhPT9e2iSEV2ua7foMx61bTfOQxVSqXCm1TXcnWNtba6REfc0Ukt9pBJAwSa621/URkOXA8\n8EX43yXA7cBE4PmwyAvAY9baOwmGnvoAc0XEhcNUI4F5wATgnogyE4GPgPMIJuoBXgVuDifTPWA8\nQQCLVs9cIDciadrOnTure9tJLSMjA22b6FKhbVy33vjvv8m+48+sUrlUaJvqSqa2ycjIQESml02v\n6eqsqwgCw2cE8yK3EASP8dbaZQSB5TYAEVkMCLAYeBm4XERKhrquAGYQLA9eISKvhOkzgExr7QqC\n+ZZrwmttA24kmIf5CLg+nGBXSlVX7wGwaun+fdUAXN4K/H/8Eff1hgRWTDVkJvIHJkW4devWVZ4r\nBSXTX021LVXapviay/AmT8cc3AV/3ru4Jx7AjDgKt2Ae3tU3YDp3KVcmVdqmOpKpbbKzsyHKvLQ+\nsa6U2s/0HohbtQS3dw/uqYfwLv8d3kU/x5xxAf7d1+N2FpbK7777NkE1VQ2FBhGl1AF9BuA+n4d7\n4Qno3gfTZyAA3rEnYkZ+D/+eG3Cb1gPgNuTj/3oiRcu/SGSNVYLpLr5Kqf3M4OG4ue/gvv0G7+Ir\nSp876yJo2Rr/1l9jjjkRt2QBHNyVvW+9DBf+LEE1VommcyJqv2Qav61t2jYHuC2bcK88Dbt3Y86d\ngJt+Jea2GVV+w6Tzi3Ef/Q/31kt451+G6T2gjmqcOMn0c6NzIkqpWmE6dsK76Od4k36JadeRtAHD\ncPPfjZrXLVmA/+Q/cXv3lE53DvfEP4LXERx2JP79t+O2b62P6qtapkFEKVUjzU+3uBeewH37Tal0\nV7QP/1/34VavxL9jaqlJeDfnOdzKpXi/ugnvlB9gRh+He/6x+q66qgUaRJRSNdJk4CGYIcNxz8ws\nle7efAk6HYz3m1sx3XrhnnggSN+Qj3vlKbwrf49p0RIAc8wJuIXzqenwuisuxn/xSfyXBLdjW42u\npeKjQUQpVWPmB5fgFn2C/9HbuMJt+A/fjZvzHJ6dFLx64PzLcKuW4c9+EH/m3zCnWUyHgw6U75QN\nzVvC2pq9GMvNeQ636GPcsoW4N16s6W2pOGgQUUrVmGnZGu8X1+JmP4g//ReQ0QbvxnsxBwcPJ5pm\nzfGmTIdmzTEHZWGOO738NYaOwC38uNp1cBsKcHOewbvsV3jjTset1q3t64Mu8VVK1QrTpWcYKFpg\nOpd/M4M5qDPmnItjlx86Av+FJ+A0W63vdy88jjnxHExmFi6tCaxehXMOY3Tz77qkPRGlVK0x3ftE\nDSBx6TsENq3H5edVuajbuA63ZAHmuFODhHYdwPNg6+bq1UXFTYOIUqpBME2bYk49D//pR6pc1r3y\nNGbsqZjm4US9MdC9D+iQVp3TIKKUajDM2FNg4zrc0s/jLuNWLMYtnI85vvQ8i+nWC6cv2apzGkSU\nUg2GadIUc+xJuE8/jCu/2/0d/sN34f3o55jWbUpfq3sf3JqgJ+I2b8Qt/qzW66s0iCilGhjTbzAu\nzk0d3evPY3r0xRx6ZPmTfQbB2jz8V5/B/8sf8B/Qp+LrggYRpVTD0r0PfL0B982uCrO5b3cF26ac\ndVHU8yajDd5vbsG99TLmqOODHs6zj0a/1tbNFN/2f/iP/h2nk/FVokFEKdWgmCZNoFc/WLk4Zh63\nZhXusfsxh4zEZGXHvlZWNt4t/8A7/XzMaTbYy+t/rx64TlERbsFc/D/9DjNkBDRrjn/XNFzRvlq9\np2Smz4kopRoc028IbvkizCEjcfPfxX9yBmRm4f14Mqz9Ev/xBzAjv4c55dzKr+UFfyubFi3xrr4R\n/65p+Lt2YMadjv/n30NaGuacCXhHHBNsDLlxHe6/T2POuKCubzMpaBBRSjU4pv9Q/EfuwZ1q8Z96\nBO+in+G+3oB/1zTY/R3elddhevat+nU75+D99vagt/H2K5jBh2EuvmL/A4nGGLyLfoY/7Re4E8/G\nNGte27eWdDSIKKUanj4DMb0H4N9wFWR3wxw6CgP4AOnNqhVASpj2HfH+71bce29gjj+j3BPtpsNB\n0LETbCyAbr1rdBupQIOIUqrBMcbAhCvgsftLPf/hjT+rdq7fKgNz4tmxM2Tl4DYUYDSIVEqDiFKq\nQTJNmmImXpmY7+7cBTYUJOS7GxtdnaWUUmV1zoEN+YmuRaOgQUQppcownXNwG7UnEg8NIkopVVZW\nTrCHl+8nuiYNngYRpZQqw7RsBc1bwPYtia5Kg6dBRCmlosnK0cn1OGgQUUqpKEznLrj1axNdjQZP\ng4hSSkXTZ2DcuwmnMg0iSikVhRk4DJYtxPnFia5Kg6ZBRCmlojDtOkKbdrD2q0RXpUHTIKKUUjGY\ngYfgFi9IdDUaNA0iSikVQxBEPk10NRo0DSJKKRXLgGGwaR1uifZGYtEgopRSMZjmLfAu/kXwbpNK\nXtebqjSIKKVUBcyQ4ZhRY/Bvvhq3emWiq9Pg1HgreGutB8wH8kXkTGtte+BJoDuQB1gRKQzzTgUu\nBYqAySIyJ0wfDjwCNAdeFpEpYXo6MAsYAWwGzheRNeG5icC1gANuFpFZNb0XpZSKxvv+BPyuPfHv\nuQHvD3cGK7cUUDs9kcnA4ojP1wCvi0h/4E1gKoC1dhBggYHAKcC91tqSV4rdB0wSkX5AP2vtSWH6\nJGCriPQF7gLuCK/VHrgOOAIYBUyz1rathXtRSqmovCOOxYw5Gf+hu3Rjxgg1CiLW2i7AqcA/I5LP\nAmaGxzOBkteHnQnMFpEiEckDVgAjrbWdgQwRmRfmmxVRJvJaTwHjwuOTgDkiUigi24E5wMk1uRel\nlKqMOe182LkDvvgk0VVpMGraE7kT+A3BkFKJLBHZCCAiG4BOYXoOELkRTUGYlgNEvv0lP0wrVUZE\nioFCa22HCq6llFJ1xqSlYY4/HT/3v4muSoNR7TkRa+1pwEYR+cxaO7aCrK6Cc1VlKs9SWli3sSWf\nRYSMjIxarFLySE9P17aJQdsmtlRrGzfuVHY8M5OW331DWqfOFeZNtrax1k6P+JgrIrk1mVg/GjjT\nWnsq0ALIsNY+Cmyw1maJyMZwqGpTmL8A6BpRvkuYFis9ssw6a20a0EZEtlprC4gIDGGZt6JVUkRy\ngdyIpGk7d+6s4q2mhoyMDLRtotO2iS0l22bUcex6UfDO+3GF2ZKpbTIyMhCR6WXTqz2cJSK/E5Fu\nItILuAB4U0QuBv4DXBJmmwg8Hx6/AFxgrU231vYE+gBzwyGvQmvtyHCifUKZMhPD4/MIJuoBXgXG\nW2vbhpPs48M0pZSqc+aEM3DvvY7btSPRVUm4unhO5DaCX/DLgOPDz4jIYkAIVnK9DFwuIiVDXVcA\nM4DlwAoReSVMnwFkWmtXAFMIVn4hItuAGwmWFn8EXB9OsCulVJ0zHTthDjsS99+n8T98C/+ph/Gf\n/Rdu+9ZEV63eGedqc8qiUXDr1q1LdB0apGTqetc2bZvYUrVt3Kb1+DdMgf5DMH0GwvatuI/exvvV\nTZiuPYHkapvs7GyIMi9d44cNlVIqFZlOB+Pd8wTGOzCg47dug3tnDubCnyawZvVLtz1RSqlqigwg\nAObIsbh57+CK9iWoRvVPg4hSStUSc1BnyO4KCz9OdFXqjQYRpZSqRebo8fgvzsbt/i7RVakXGkSU\nUqoWmdHHYbr1xn/g9pR4P7sGEaWUqkXGGMyPLoc9u9n7+n8SXZ06p0FEKaVqmUlLw7vocnY/NRO3\nY1uiq1OnNIgopVQdMDndSB9zEu7p5H7VkT4nopRSdaT5ORez55cX41avwnTvDYBbuQT/8fshoy2m\nSw/IzMIccyI0aQJF+zBN0xNb6SrSIKKUUnXEtGyFOfOH+PJPvF/fAks/x3/wT5gf/hTTtClufT7u\n83m4994Igkj+arzJ06BFC9i7F9Orf6JvoVIaRJRSqg6ZY8bj3nwJPvkA/79P4V34U8zhxwTnDh2F\nO/n7uHdfg6ZNMa3b4v/tRjAetG6Dd+O9GFPlN2DUKw0iSilVh4yXhmcn4d93K2RmwfCjSp83BnPs\nifs/e9P/Bi1b499wFaxeCT361neVq0SDiFJK1TEz6FDMyDGYEaPLbZVSLm/7jsG/o8bgPszFNPAg\noquzlFKqHngXX44ZdFjc+c2ocB+u4gMPLPoz/oL/+AOl0hJNg4hSSjVAJisbsrLh0w8AcLt24BbM\nxW3Ix7+/4TwNr0FEKaUaKO+EM/FffwEA98n7mMHD8a6aBru/xT3TMJ4/0SCilFIN1aGjgpddLfoY\n99HbmFHfwzRpgvfT/8N9+iH+y/8m0S8W1CCilFINlPHSMN+fgP/Y/bA+HwaPCNJbt8H7zS24j97G\nPXQXbtP6xNUx0VEsAfT1uDEk06s8a5u2TWzaNrHVZts43y+3sst9uws35znc2//Fm3Al5rAja+W7\notHX4yqlVCMWbWmwadkac/aPcIcdiX/PDXh+MWbE0fVaLw0iSinVyJnuffCmXI9/93TM1s3Qtj2m\ncw506Vnpcyk1pUFEKaWSgOnaE++XN+A//xjGS8NftwZ2bMcMGIa5+HJMq4w6+V4NIkoplSRMTnfS\nLv/d/s9u+xbcf2bjP3w33hXXxr0Pl9uzGzbkQ053TJOmFebV1VlKKZWkTLuOmB/+BHZsx836G27L\npgqXBLuiffjPP4b/qwn4f78F99j9lX6HBhGllEpipklTvCuvg5at8G+YjH/Fefj/ujfobURw332L\nf+c0XN5KvJvux7vh77gVi/E/eKvC62sQUUqpJGcy2uCddylpdz+Bd8dDsGc3/h1TcXv3AOCKi/Hv\nmobp3AXvyj9g2nXANG+B97Pf4v79EG7B3JjX1iCilFIpxLRug7n0l5isbNzsBwFwH7wJTZpifvTz\nUqu5TJceeFdehz/rbzGvp0FEKaVSjDEGM+GK4FW9sx/E/Wc23jkXR514Nz374l2vQUQppVQE07wl\n3m9vx329Abr1xvQZGDtv6zYxz+kSX6WUSlGmVWvSrvwDzverfQ3tiSilVIqryVPtGkSUUkpVmwYR\npZRS1aZBRCmlVLVpEFFKKVVt1V6dZa3tAswCsgAfeFBE7rHWtgeeBLoDeYAVkcKwzFTgUqAImCwi\nc8L04cAjQHPgZRGZEqanh98xAtgMnC8ia8JzE4FrAQfcLCIN44XDSimVQmrSEykCrhaRwcBo4Apr\n7QDgGuB1EekPvAlMBbDWDgIsMBA4BbjXWlvyZMt9wCQR6Qf0s9aeFKZPAraKSF/gLuCO8FrtgeuA\nI4BRwDRrbdsa3ItSSqlqqHYQEZENIvJZeLwLWAJ0Ac4CZobZZgJnh8dnArNFpEhE8oAVwEhrbWcg\nQ0TmhflmRZSJvNZTwLjw+CRgjogUish2YA5wcnXvRSmlVPXUypyItbYHcCjwIZAlIhshCDRApzBb\nDrA2olhBmJYD5Eek54dppcqISDFQaK3tUMG1lFJK1aMaBxFrbWuCXsLksEdSdrP62JvXV118b1RR\nSilVL2q07Ym1tglBAHlURJ4Pkzdaa7NEZGM4VLUpTC8AukYU7xKmxUqPLLPOWpsGtBGRrdbaAmBs\nmTJRN7231o6NzCsiZGdnV/FOU0dGRt28QjMZaNvEpm0TWzK1jbV2esTHXBHJreneWQ8Bi0Xk7oi0\nF4BLgNuBicDzEemPWWvvJBh66gPMFRFnrS201o4E5gETgHsiykwEPgLOI5ioB3gVuDmcTPeA8QQT\n+uWISC6QW/LZWouITK/2HScxa+10bZvotG1i07aJLdnaRkTKpdVkie/RwEXAQmvtpwTDVr8jCB5i\nrb0UWE2wIgsRWWytFWAxsA+4XERKhrquoPQS31fC9BnAo9baFcAW4ILwWtustTcC88PvvT6cYFdK\nKVWPqh1EROQ9IC3G6RNilLkVuDVK+sfA0CjpewiDUJRzjxAEHqWUUgmSik+s5ya6Ag1YbqIr0IDl\nJroCDVhuoivQgOUmugJ1zThXm4unlFJKpZJU7IkopZSqJRpElFJKVVvKvB7XWnsywf5bHjBDRG5P\ncJUSylqbBxQSbJ65T0RGVrR5ZjKz1s4ATgc2isiwMK3KG4kmoxhtMw34fxx4Bux3JSsqU6xtam0T\n2sYsJXoi1loP+BvBnluDgR+Gm0WmMh8YKyKHicjIMC3q5pkp4GGCn41I1dlINBlFaxuAv4jI8PC/\nkgAykNRqm9rchLbRSokgAowEVojIahHZB8wm2NwxlRnK/+8fa/PMpCYi7wLbyiRXaSPR+qhnIsRo\nG4i+BdFZpFbb1MomtPVa6TqQKkGk7IaNkZs8pioHvGatnWetvSxMi7V5ZirqVMWNRFPNL6y1n1lr\n/xnxGoaUbZsabkLbqKVKEFHlHS0iw4FTCbrhx1K3m2c2dtoWB9wL9BKRQ4ENwJ8TXJ+EqudNaBuc\nVAkiBUC3iM+RmzymJBFZH/77NfAcQbd6o7U2C6DM5pmpKFZbVLRhaEoQka8jtix6kANDMinXNhVt\nQhueT/qfnVQJIvOAPtba7uErdy8g2NwxJVlrW4Z/PWGtbQWcCCzkwOaZUHrzzFRgKD3OH6stXgAu\nsNamW2t7Em4kWl+VTJBSbRP+YizxfWBReJyKbVPRJrSQAj87KfPEerjE924OLPG9LcFVSpjwB/hZ\ngm52E+AxEbktfOGXEPy1tJpgaWLSb2xprX2c4HUBHYGNwDSC3tm/idIW4TLNSQQbiSbFMs1YYrTN\ncQTj/z7BEtaflswBpFjbHA38j+APMMeBTWjnEuP/R8nYPikTRJRSStW+VBnOUkopVQc0iCillKo2\nDSJKKaWqTYOIUkqpatMgopRSqto0iCillKo2DSJKKaWqTYOIUkqpavv/LB+/szJo4BUAAAAASUVO\nRK5CYII=\n",
      "text/plain": [
       "<matplotlib.figure.Figure at 0x10b955ed0>"
      ]
     },
     "metadata": {},
     "output_type": "display_data"
    }
   ],
   "source": [
    "df2['Value'].plot()\n",
    "plt.show()\n",
    "#How do you like this graph? What is going wrong? "
   ]
  },
  {
   "cell_type": "code",
<<<<<<< HEAD
   "execution_count": 55,
=======
   "execution_count": 21,
>>>>>>> upstream/master
   "metadata": {
    "collapsed": false
   },
   "outputs": [],
   "source": [
    "df2 = df2.set_index('Date')\n"
   ]
  },
  {
   "cell_type": "code",
   "execution_count": 56,
   "metadata": {
    "collapsed": false
   },
   "outputs": [
    {
     "data": {
      "text/html": [
       "<div>\n",
       "<table border=\"1\" class=\"dataframe\">\n",
       "  <thead>\n",
       "    <tr style=\"text-align: right;\">\n",
       "      <th></th>\n",
       "      <th>Value</th>\n",
       "    </tr>\n",
       "    <tr>\n",
       "      <th>Date</th>\n",
       "      <th></th>\n",
       "    </tr>\n",
       "  </thead>\n",
       "  <tbody>\n",
       "    <tr>\n",
       "      <th>12/31/15</th>\n",
       "      <td>1138500</td>\n",
       "    </tr>\n",
       "    <tr>\n",
       "      <th>11/30/15</th>\n",
       "      <td>1126750</td>\n",
       "    </tr>\n",
       "    <tr>\n",
       "      <th>10/31/15</th>\n",
       "      <td>1093250</td>\n",
       "    </tr>\n",
       "    <tr>\n",
       "      <th>9/30/15</th>\n",
       "      <td>1080750</td>\n",
       "    </tr>\n",
       "    <tr>\n",
       "      <th>8/31/15</th>\n",
       "      <td>1138750</td>\n",
       "    </tr>\n",
       "  </tbody>\n",
       "</table>\n",
       "</div>"
      ],
      "text/plain": [
       "            Value\n",
       "Date             \n",
       "12/31/15  1138500\n",
       "11/30/15  1126750\n",
       "10/31/15  1093250\n",
       "9/30/15   1080750\n",
       "8/31/15   1138750"
      ]
     },
     "execution_count": 56,
     "metadata": {},
     "output_type": "execute_result"
    }
   ],
   "source": [
    "df2.head()"
   ]
  },
  {
   "cell_type": "code",
<<<<<<< HEAD
   "execution_count": 57,
=======
   "execution_count": 22,
>>>>>>> upstream/master
   "metadata": {
    "collapsed": false
   },
   "outputs": [
    {
     "data": {
      "image/png": "iVBORw0KGgoAAAANSUhEUgAAAZEAAAEWCAYAAACnlKo3AAAABHNCSVQICAgIfAhkiAAAAAlwSFlz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\ngg==\n",
      "text/plain": [
       "<matplotlib.figure.Figure at 0x10b378790>"
      ]
     },
     "metadata": {},
     "output_type": "display_data"
    }
   ],
   "source": [
    "df2['Value'].plot()\n",
    "plt.show() #the graph looks better - at least has correct labels"
   ]
  },
  {
   "cell_type": "markdown",
   "metadata": {},
   "source": [
    "## Bonus Question: Can you fix the plot such that it shows ealier dates before later dates?"
   ]
  },
  {
   "cell_type": "code",
   "execution_count": 72,
   "metadata": {
    "collapsed": false
   },
   "outputs": [
    {
     "data": {
      "image/png": "iVBORw0KGgoAAAANSUhEUgAAAZEAAAEWCAYAAACnlKo3AAAABHNCSVQICAgIfAhkiAAAAAlwSFlz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\ng4hSSqmYaRBRSikVs/8PmtVI6Dmd1fkAAAAASUVORK5CYII=\n",
      "text/plain": [
       "<matplotlib.figure.Figure at 0x10e638890>"
      ]
     },
     "metadata": {},
     "output_type": "display_data"
    }
   ],
   "source": [
    "df3 = df2.reindex(index=df2.index[::-1])\n",
    "df3[\"Value\"].plot()\n",
    "plt.show()"
   ]
  },
  {
   "cell_type": "markdown",
   "metadata": {},
   "source": [
    "Now let's save our dataframe into \"html\" format"
   ]
  },
  {
   "cell_type": "code",
<<<<<<< HEAD
   "execution_count": 73,
=======
   "execution_count": 23,
>>>>>>> upstream/master
   "metadata": {
    "collapsed": true
   },
   "outputs": [],
   "source": [
    "df2.to_html('SFData.html') #check your working directory"
   ]
  },
  {
   "cell_type": "markdown",
   "metadata": {},
   "source": [
    "## Now let's rename columns in our DataFrame"
   ]
  },
  {
   "cell_type": "code",
<<<<<<< HEAD
   "execution_count": 74,
=======
   "execution_count": 24,
>>>>>>> upstream/master
   "metadata": {
    "collapsed": false
   },
   "outputs": [],
   "source": [
    "df2 = df2.rename(columns = {'Value':'SFHomeValue'},)"
   ]
  },
  {
   "cell_type": "code",
<<<<<<< HEAD
   "execution_count": 75,
=======
   "execution_count": 25,
>>>>>>> upstream/master
   "metadata": {
    "collapsed": false
   },
   "outputs": [
    {
     "data": {
      "text/html": [
       "<div>\n",
       "<table border=\"1\" class=\"dataframe\">\n",
       "  <thead>\n",
       "    <tr style=\"text-align: right;\">\n",
       "      <th></th>\n",
       "      <th>SFHomeValue</th>\n",
       "    </tr>\n",
       "    <tr>\n",
       "      <th>Date</th>\n",
       "      <th></th>\n",
       "    </tr>\n",
       "  </thead>\n",
       "  <tbody>\n",
       "    <tr>\n",
       "      <th>12/31/15</th>\n",
       "      <td>1138500</td>\n",
       "    </tr>\n",
       "    <tr>\n",
       "      <th>11/30/15</th>\n",
       "      <td>1126750</td>\n",
       "    </tr>\n",
       "    <tr>\n",
       "      <th>10/31/15</th>\n",
       "      <td>1093250</td>\n",
       "    </tr>\n",
       "    <tr>\n",
       "      <th>9/30/15</th>\n",
       "      <td>1080750</td>\n",
       "    </tr>\n",
       "    <tr>\n",
       "      <th>8/31/15</th>\n",
       "      <td>1138750</td>\n",
       "    </tr>\n",
       "  </tbody>\n",
       "</table>\n",
       "</div>"
      ],
      "text/plain": [
       "          SFHomeValue\n",
       "Date                 \n",
       "12/31/15      1138500\n",
       "11/30/15      1126750\n",
       "10/31/15      1093250\n",
       "9/30/15       1080750\n",
       "8/31/15       1138750"
      ]
     },
<<<<<<< HEAD
     "execution_count": 75,
=======
     "execution_count": 25,
>>>>>>> upstream/master
     "metadata": {},
     "output_type": "execute_result"
    }
   ],
   "source": [
    "df2.head()"
   ]
  },
  {
   "cell_type": "code",
<<<<<<< HEAD
   "execution_count": 76,
=======
   "execution_count": 26,
>>>>>>> upstream/master
   "metadata": {
    "collapsed": false
   },
   "outputs": [
    {
     "data": {
      "text/html": [
       "<div>\n",
       "<table border=\"1\" class=\"dataframe\">\n",
       "  <thead>\n",
       "    <tr style=\"text-align: right;\">\n",
       "      <th></th>\n",
       "      <th>SFHomeValue</th>\n",
       "    </tr>\n",
       "    <tr>\n",
       "      <th>Date</th>\n",
       "      <th></th>\n",
       "    </tr>\n",
       "  </thead>\n",
       "  <tbody>\n",
       "    <tr>\n",
       "      <th>12/31/15</th>\n",
       "      <td>1138500</td>\n",
       "    </tr>\n",
       "    <tr>\n",
       "      <th>11/30/15</th>\n",
       "      <td>1126750</td>\n",
       "    </tr>\n",
       "    <tr>\n",
       "      <th>10/31/15</th>\n",
       "      <td>1093250</td>\n",
       "    </tr>\n",
       "  </tbody>\n",
       "</table>\n",
       "</div>"
      ],
      "text/plain": [
       "          SFHomeValue\n",
       "Date                 \n",
       "12/31/15      1138500\n",
       "11/30/15      1126750\n",
       "10/31/15      1093250"
      ]
     },
<<<<<<< HEAD
     "execution_count": 76,
=======
     "execution_count": 26,
>>>>>>> upstream/master
     "metadata": {},
     "output_type": "execute_result"
    }
   ],
   "source": [
    "df2.loc['12/31/15':'10/31/15',['SFHomeValue']]  #Access to a portion of DataFrame using index"
   ]
  },
  {
   "cell_type": "code",
<<<<<<< HEAD
   "execution_count": 77,
=======
   "execution_count": 27,
>>>>>>> upstream/master
   "metadata": {
    "collapsed": false
   },
   "outputs": [
    {
     "data": {
      "text/plain": [
       "SFHomeValue    237\n",
       "dtype: int64"
      ]
     },
<<<<<<< HEAD
     "execution_count": 77,
=======
     "execution_count": 27,
>>>>>>> upstream/master
     "metadata": {},
     "output_type": "execute_result"
    }
   ],
   "source": [
    "df2.count()"
   ]
  },
  {
   "cell_type": "code",
<<<<<<< HEAD
   "execution_count": 93,
=======
   "execution_count": 28,
>>>>>>> upstream/master
   "metadata": {
    "collapsed": false
   },
   "outputs": [
    {
     "data": {
      "text/html": [
       "<div>\n",
       "<table border=\"1\" class=\"dataframe\">\n",
       "  <thead>\n",
       "    <tr style=\"text-align: right;\">\n",
       "      <th></th>\n",
       "      <th>SFHomeValue</th>\n",
       "    </tr>\n",
       "  </thead>\n",
       "  <tbody>\n",
       "    <tr>\n",
       "      <th>count</th>\n",
       "      <td>12.000000</td>\n",
       "    </tr>\n",
       "    <tr>\n",
       "      <th>mean</th>\n",
       "      <td>761270.833333</td>\n",
       "    </tr>\n",
       "    <tr>\n",
       "      <th>std</th>\n",
       "      <td>29693.590205</td>\n",
       "    </tr>\n",
       "    <tr>\n",
       "      <th>min</th>\n",
       "      <td>701850.000000</td>\n",
       "    </tr>\n",
       "    <tr>\n",
       "      <th>25%</th>\n",
       "      <td>749750.000000</td>\n",
       "    </tr>\n",
       "    <tr>\n",
       "      <th>50%</th>\n",
       "      <td>769100.000000</td>\n",
       "    </tr>\n",
       "    <tr>\n",
       "      <th>75%</th>\n",
       "      <td>776962.500000</td>\n",
       "    </tr>\n",
       "    <tr>\n",
       "      <th>max</th>\n",
       "      <td>801400.000000</td>\n",
       "    </tr>\n",
       "  </tbody>\n",
       "</table>\n",
       "</div>"
      ],
      "text/plain": [
       "         SFHomeValue\n",
       "count      12.000000\n",
       "mean   761270.833333\n",
       "std     29693.590205\n",
       "min    701850.000000\n",
       "25%    749750.000000\n",
       "50%    769100.000000\n",
       "75%    776962.500000\n",
       "max    801400.000000"
      ]
     },
<<<<<<< HEAD
     "execution_count": 93,
=======
     "execution_count": 28,
>>>>>>> upstream/master
     "metadata": {},
     "output_type": "execute_result"
    }
   ],
   "source": [
    "df2.loc['12/31/08':'1/31/08'].describe()"
   ]
  },
  {
   "cell_type": "code",
   "execution_count": 95,
   "metadata": {
    "collapsed": false
   },
   "outputs": [
    {
     "data": {
      "text/html": [
       "<div>\n",
       "<table border=\"1\" class=\"dataframe\">\n",
       "  <thead>\n",
       "    <tr style=\"text-align: right;\">\n",
       "      <th></th>\n",
       "      <th>SFHomeValue</th>\n",
       "    </tr>\n",
       "    <tr>\n",
       "      <th>Date</th>\n",
       "      <th></th>\n",
       "    </tr>\n",
       "  </thead>\n",
       "  <tbody>\n",
       "    <tr>\n",
       "      <th>10/31/96</th>\n",
       "      <td>250400</td>\n",
       "    </tr>\n",
       "    <tr>\n",
       "      <th>11/30/96</th>\n",
       "      <td>255350</td>\n",
       "    </tr>\n",
       "    <tr>\n",
       "      <th>4/30/96</th>\n",
       "      <td>259300</td>\n",
       "    </tr>\n",
       "    <tr>\n",
       "      <th>9/30/96</th>\n",
       "      <td>262600</td>\n",
       "    </tr>\n",
       "    <tr>\n",
       "      <th>12/31/96</th>\n",
       "      <td>263750</td>\n",
       "    </tr>\n",
       "    <tr>\n",
       "      <th>5/31/96</th>\n",
       "      <td>265700</td>\n",
       "    </tr>\n",
       "    <tr>\n",
       "      <th>1/31/97</th>\n",
       "      <td>268250</td>\n",
       "    </tr>\n",
       "    <tr>\n",
       "      <th>8/31/96</th>\n",
       "      <td>268650</td>\n",
       "    </tr>\n",
       "    <tr>\n",
       "      <th>2/28/97</th>\n",
       "      <td>268800</td>\n",
       "    </tr>\n",
       "    <tr>\n",
       "      <th>3/31/97</th>\n",
       "      <td>271850</td>\n",
       "    </tr>\n",
       "    <tr>\n",
       "      <th>7/31/96</th>\n",
       "      <td>273000</td>\n",
       "    </tr>\n",
       "    <tr>\n",
       "      <th>6/30/96</th>\n",
       "      <td>274250</td>\n",
       "    </tr>\n",
       "    <tr>\n",
       "      <th>4/30/97</th>\n",
       "      <td>280350</td>\n",
       "    </tr>\n",
       "    <tr>\n",
       "      <th>5/31/97</th>\n",
       "      <td>281875</td>\n",
       "    </tr>\n",
       "    <tr>\n",
       "      <th>7/31/97</th>\n",
       "      <td>283250</td>\n",
       "    </tr>\n",
       "    <tr>\n",
       "      <th>6/30/97</th>\n",
       "      <td>283625</td>\n",
       "    </tr>\n",
       "    <tr>\n",
       "      <th>8/31/97</th>\n",
       "      <td>289300</td>\n",
       "    </tr>\n",
       "    <tr>\n",
       "      <th>9/30/97</th>\n",
       "      <td>295700</td>\n",
       "    </tr>\n",
       "    <tr>\n",
       "      <th>10/31/97</th>\n",
       "      <td>298750</td>\n",
       "    </tr>\n",
       "    <tr>\n",
       "      <th>2/28/98</th>\n",
       "      <td>299700</td>\n",
       "    </tr>\n",
       "    <tr>\n",
       "      <th>3/31/98</th>\n",
       "      <td>301000</td>\n",
       "    </tr>\n",
       "    <tr>\n",
       "      <th>11/30/97</th>\n",
       "      <td>304650</td>\n",
       "    </tr>\n",
       "    <tr>\n",
       "      <th>12/31/97</th>\n",
       "      <td>312350</td>\n",
       "    </tr>\n",
       "    <tr>\n",
       "      <th>4/30/98</th>\n",
       "      <td>315500</td>\n",
       "    </tr>\n",
       "    <tr>\n",
       "      <th>1/31/98</th>\n",
       "      <td>317800</td>\n",
       "    </tr>\n",
       "    <tr>\n",
       "      <th>1/31/99</th>\n",
       "      <td>322850</td>\n",
       "    </tr>\n",
       "    <tr>\n",
       "      <th>6/30/98</th>\n",
       "      <td>330125</td>\n",
       "    </tr>\n",
       "    <tr>\n",
       "      <th>8/31/98</th>\n",
       "      <td>332975</td>\n",
       "    </tr>\n",
       "    <tr>\n",
       "      <th>5/31/98</th>\n",
       "      <td>333250</td>\n",
       "    </tr>\n",
       "    <tr>\n",
       "      <th>2/28/99</th>\n",
       "      <td>333850</td>\n",
       "    </tr>\n",
       "    <tr>\n",
       "      <th>...</th>\n",
       "      <td>...</td>\n",
       "    </tr>\n",
       "    <tr>\n",
       "      <th>12/31/13</th>\n",
       "      <td>844650</td>\n",
       "    </tr>\n",
       "    <tr>\n",
       "      <th>7/31/13</th>\n",
       "      <td>849500</td>\n",
       "    </tr>\n",
       "    <tr>\n",
       "      <th>10/31/13</th>\n",
       "      <td>849750</td>\n",
       "    </tr>\n",
       "    <tr>\n",
       "      <th>5/31/13</th>\n",
       "      <td>859675</td>\n",
       "    </tr>\n",
       "    <tr>\n",
       "      <th>6/30/13</th>\n",
       "      <td>859825</td>\n",
       "    </tr>\n",
       "    <tr>\n",
       "      <th>1/31/14</th>\n",
       "      <td>867000</td>\n",
       "    </tr>\n",
       "    <tr>\n",
       "      <th>11/30/13</th>\n",
       "      <td>877750</td>\n",
       "    </tr>\n",
       "    <tr>\n",
       "      <th>2/28/14</th>\n",
       "      <td>894100</td>\n",
       "    </tr>\n",
       "    <tr>\n",
       "      <th>4/30/14</th>\n",
       "      <td>941000</td>\n",
       "    </tr>\n",
       "    <tr>\n",
       "      <th>3/31/14</th>\n",
       "      <td>943500</td>\n",
       "    </tr>\n",
       "    <tr>\n",
       "      <th>5/31/14</th>\n",
       "      <td>949000</td>\n",
       "    </tr>\n",
       "    <tr>\n",
       "      <th>9/30/14</th>\n",
       "      <td>954000</td>\n",
       "    </tr>\n",
       "    <tr>\n",
       "      <th>1/31/15</th>\n",
       "      <td>963250</td>\n",
       "    </tr>\n",
       "    <tr>\n",
       "      <th>6/30/14</th>\n",
       "      <td>966550</td>\n",
       "    </tr>\n",
       "    <tr>\n",
       "      <th>8/31/14</th>\n",
       "      <td>967750</td>\n",
       "    </tr>\n",
       "    <tr>\n",
       "      <th>10/31/14</th>\n",
       "      <td>973250</td>\n",
       "    </tr>\n",
       "    <tr>\n",
       "      <th>7/31/14</th>\n",
       "      <td>988450</td>\n",
       "    </tr>\n",
       "    <tr>\n",
       "      <th>12/31/14</th>\n",
       "      <td>1002675</td>\n",
       "    </tr>\n",
       "    <tr>\n",
       "      <th>2/28/15</th>\n",
       "      <td>1020875</td>\n",
       "    </tr>\n",
       "    <tr>\n",
       "      <th>11/30/14</th>\n",
       "      <td>1024825</td>\n",
       "    </tr>\n",
       "    <tr>\n",
       "      <th>9/30/15</th>\n",
       "      <td>1080750</td>\n",
       "    </tr>\n",
       "    <tr>\n",
       "      <th>10/31/15</th>\n",
       "      <td>1093250</td>\n",
       "    </tr>\n",
       "    <tr>\n",
       "      <th>4/30/15</th>\n",
       "      <td>1115500</td>\n",
       "    </tr>\n",
       "    <tr>\n",
       "      <th>7/31/15</th>\n",
       "      <td>1124000</td>\n",
       "    </tr>\n",
       "    <tr>\n",
       "      <th>5/31/15</th>\n",
       "      <td>1125350</td>\n",
       "    </tr>\n",
       "    <tr>\n",
       "      <th>11/30/15</th>\n",
       "      <td>1126750</td>\n",
       "    </tr>\n",
       "    <tr>\n",
       "      <th>12/31/15</th>\n",
       "      <td>1138500</td>\n",
       "    </tr>\n",
       "    <tr>\n",
       "      <th>8/31/15</th>\n",
       "      <td>1138750</td>\n",
       "    </tr>\n",
       "    <tr>\n",
       "      <th>6/30/15</th>\n",
       "      <td>1156000</td>\n",
       "    </tr>\n",
       "    <tr>\n",
       "      <th>3/31/15</th>\n",
       "      <td>1185250</td>\n",
       "    </tr>\n",
       "  </tbody>\n",
       "</table>\n",
       "<p>237 rows × 1 columns</p>\n",
       "</div>"
      ],
      "text/plain": [
       "          SFHomeValue\n",
       "Date                 \n",
       "10/31/96       250400\n",
       "11/30/96       255350\n",
       "4/30/96        259300\n",
       "9/30/96        262600\n",
       "12/31/96       263750\n",
       "5/31/96        265700\n",
       "1/31/97        268250\n",
       "8/31/96        268650\n",
       "2/28/97        268800\n",
       "3/31/97        271850\n",
       "7/31/96        273000\n",
       "6/30/96        274250\n",
       "4/30/97        280350\n",
       "5/31/97        281875\n",
       "7/31/97        283250\n",
       "6/30/97        283625\n",
       "8/31/97        289300\n",
       "9/30/97        295700\n",
       "10/31/97       298750\n",
       "2/28/98        299700\n",
       "3/31/98        301000\n",
       "11/30/97       304650\n",
       "12/31/97       312350\n",
       "4/30/98        315500\n",
       "1/31/98        317800\n",
       "1/31/99        322850\n",
       "6/30/98        330125\n",
       "8/31/98        332975\n",
       "5/31/98        333250\n",
       "2/28/99        333850\n",
       "...               ...\n",
       "12/31/13       844650\n",
       "7/31/13        849500\n",
       "10/31/13       849750\n",
       "5/31/13        859675\n",
       "6/30/13        859825\n",
       "1/31/14        867000\n",
       "11/30/13       877750\n",
       "2/28/14        894100\n",
       "4/30/14        941000\n",
       "3/31/14        943500\n",
       "5/31/14        949000\n",
       "9/30/14        954000\n",
       "1/31/15        963250\n",
       "6/30/14        966550\n",
       "8/31/14        967750\n",
       "10/31/14       973250\n",
       "7/31/14        988450\n",
       "12/31/14      1002675\n",
       "2/28/15       1020875\n",
       "11/30/14      1024825\n",
       "9/30/15       1080750\n",
       "10/31/15      1093250\n",
       "4/30/15       1115500\n",
       "7/31/15       1124000\n",
       "5/31/15       1125350\n",
       "11/30/15      1126750\n",
       "12/31/15      1138500\n",
       "8/31/15       1138750\n",
       "6/30/15       1156000\n",
       "3/31/15       1185250\n",
       "\n",
       "[237 rows x 1 columns]"
      ]
     },
     "execution_count": 95,
     "metadata": {},
     "output_type": "execute_result"
    }
   ],
   "source": [
    "df2.sort_values(by='SFHomeValue')"
   ]
  },
  {
   "cell_type": "code",
   "execution_count": 96,
   "metadata": {
    "collapsed": false
   },
   "outputs": [],
   "source": [
<<<<<<< HEAD
    "df4 = df2[df2.SFHomeValue > 1000000]\n"
=======
    "df3 = df2[df2.SFHomeValue > 1000000]\n",
    "df"
>>>>>>> upstream/master
   ]
  },
  {
   "cell_type": "code",
   "execution_count": 98,
   "metadata": {
    "collapsed": false
   },
   "outputs": [
    {
     "data": {
      "text/html": [
       "<div>\n",
       "<table border=\"1\" class=\"dataframe\">\n",
       "  <thead>\n",
       "    <tr style=\"text-align: right;\">\n",
       "      <th></th>\n",
       "      <th>SFHomeValue</th>\n",
       "    </tr>\n",
       "    <tr>\n",
       "      <th>Date</th>\n",
       "      <th></th>\n",
       "    </tr>\n",
       "  </thead>\n",
       "  <tbody>\n",
       "    <tr>\n",
       "      <th>12/31/15</th>\n",
       "      <td>1138500</td>\n",
       "    </tr>\n",
       "    <tr>\n",
       "      <th>11/30/15</th>\n",
       "      <td>1126750</td>\n",
       "    </tr>\n",
       "    <tr>\n",
       "      <th>10/31/15</th>\n",
       "      <td>1093250</td>\n",
       "    </tr>\n",
       "    <tr>\n",
       "      <th>9/30/15</th>\n",
       "      <td>1080750</td>\n",
       "    </tr>\n",
       "    <tr>\n",
       "      <th>8/31/15</th>\n",
       "      <td>1138750</td>\n",
       "    </tr>\n",
       "    <tr>\n",
       "      <th>7/31/15</th>\n",
       "      <td>1124000</td>\n",
       "    </tr>\n",
       "    <tr>\n",
       "      <th>6/30/15</th>\n",
       "      <td>1156000</td>\n",
       "    </tr>\n",
       "    <tr>\n",
       "      <th>5/31/15</th>\n",
       "      <td>1125350</td>\n",
       "    </tr>\n",
       "    <tr>\n",
       "      <th>4/30/15</th>\n",
       "      <td>1115500</td>\n",
       "    </tr>\n",
       "    <tr>\n",
       "      <th>3/31/15</th>\n",
       "      <td>1185250</td>\n",
       "    </tr>\n",
       "    <tr>\n",
       "      <th>2/28/15</th>\n",
       "      <td>1020875</td>\n",
       "    </tr>\n",
       "    <tr>\n",
       "      <th>12/31/14</th>\n",
       "      <td>1002675</td>\n",
       "    </tr>\n",
       "    <tr>\n",
       "      <th>11/30/14</th>\n",
       "      <td>1024825</td>\n",
       "    </tr>\n",
       "  </tbody>\n",
       "</table>\n",
       "</div>"
      ],
      "text/plain": [
       "          SFHomeValue\n",
       "Date                 \n",
       "12/31/15      1138500\n",
       "11/30/15      1126750\n",
       "10/31/15      1093250\n",
       "9/30/15       1080750\n",
       "8/31/15       1138750\n",
       "7/31/15       1124000\n",
       "6/30/15       1156000\n",
       "5/31/15       1125350\n",
       "4/30/15       1115500\n",
       "3/31/15       1185250\n",
       "2/28/15       1020875\n",
       "12/31/14      1002675\n",
       "11/30/14      1024825"
      ]
     },
     "execution_count": 98,
     "metadata": {},
     "output_type": "execute_result"
    }
   ],
   "source": [
    "df4 #Looking for missing values - output is boolean - True if there is any missing value"
   ]
  },
  {
   "cell_type": "markdown",
   "metadata": {},
   "source": [
    "# Next Steps\n",
    "\n",
    "**Recommended Resources**\n",
    "\n",
    "Name | Description\n",
    "--- | ---\n",
    "[Official Pandas Tutorials](http://pandas.pydata.org/pandas-docs/stable/tutorials.html) | Wes & Company's selection of tutorials and lectures\n",
    "[Julia Evans Pandas Cookbook](https://github.com/jvns/pandas-cookbook) | Great resource with examples from weather, bikes and 311 calls\n",
    "[Learn Pandas Tutorials](https://bitbucket.org/hrojas/learn-pandas) | A great series of Pandas tutorials from Dave Rojas\n",
    "[Research Computing Python Data PYNBs](https://github.com/ResearchComputing/Meetup-Fall-2013/tree/master/python) | A super awesome set of python notebooks from a meetup-based course exclusively devoted to pandas"
   ]
  }
 ],
 "metadata": {
  "kernelspec": {
   "display_name": "Python 2",
   "language": "python",
   "name": "python2"
  },
  "language_info": {
   "codemirror_mode": {
    "name": "ipython",
    "version": 2
   },
   "file_extension": ".py",
   "mimetype": "text/x-python",
   "name": "python",
   "nbconvert_exporter": "python",
   "pygments_lexer": "ipython2",
   "version": "2.7.11"
  }
 },
 "nbformat": 4,
 "nbformat_minor": 0
}
