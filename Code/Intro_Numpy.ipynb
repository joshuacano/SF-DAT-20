{
 "cells": [
  {
   "cell_type": "markdown",
   "metadata": {},
   "source": []
  },
  {
   "cell_type": "markdown",
   "metadata": {},
   "source": [
    "# Numpy Reference Guide \n",
    "\n",
    "Sources: \n",
    "\n",
    "http://www.engr.ucsb.edu/~shell/che210d/numpy.pdf\n",
    "\n",
    "https://github.com/hallr/DAT_SF_19/blob/master/code/04_numpy.py"
   ]
  },
  {
   "cell_type": "markdown",
   "metadata": {},
   "source": [
    "This is the beginning of the Markdown"
   ]
  },
  {
   "cell_type": "code",
   "execution_count": 4,
   "metadata": {
    "collapsed": true
   },
   "outputs": [],
   "source": [
    "import numpy as np\n",
    "import matplotlib.pyplot as plt\n",
    "%matplotlib inline"
   ]
  },
  {
   "cell_type": "markdown",
   "metadata": {},
   "source": [
    "From here on, np can be used for numpy and plt for matplotlib.pyplot"
   ]
  },
  {
   "cell_type": "markdown",
   "metadata": {},
   "source": [
    "# Lists, Arrays, List of Lists"
   ]
  },
  {
   "cell_type": "code",
   "execution_count": 2,
   "metadata": {
    "collapsed": false
   },
   "outputs": [
    {
     "name": "stdout",
     "output_type": "stream",
     "text": [
      "[1, 2, 2.5, 4]\n"
     ]
    }
   ],
   "source": [
    "data1 = [1,2,2.5,4]    #This is a simple list\n",
    "print(data1)"
   ]
  },
  {
   "cell_type": "code",
   "execution_count": 3,
   "metadata": {
    "collapsed": false
   },
   "outputs": [
    {
     "data": {
      "text/plain": [
       "2.5"
      ]
     },
     "execution_count": 3,
     "metadata": {},
     "output_type": "execute_result"
    }
   ],
   "source": [
    "data1[2]  #refers to the 3rd element of data1"
   ]
  },
  {
   "cell_type": "code",
   "execution_count": null,
   "metadata": {
    "collapsed": true
   },
   "outputs": [],
   "source": [
    "np.array(data1)"
   ]
  },
  {
   "cell_type": "code",
   "execution_count": 6,
   "metadata": {
    "collapsed": false
   },
   "outputs": [
    {
     "name": "stdout",
     "output_type": "stream",
     "text": [
      "[ 1.   2.   2.5  4. ]\n"
     ]
    }
   ],
   "source": [
    "array1 = np.array(data1)      #we just created a 1d list\n",
    "print(array1)"
   ]
  },
  {
   "cell_type": "code",
   "execution_count": 7,
   "metadata": {
    "collapsed": false
   },
   "outputs": [
    {
     "data": {
      "text/plain": [
       "2.0"
      ]
     },
     "execution_count": 7,
     "metadata": {},
     "output_type": "execute_result"
    }
   ],
   "source": [
    "array1[1]       #refers to the second element of array1"
   ]
  },
  {
   "cell_type": "code",
   "execution_count": 8,
   "metadata": {
    "collapsed": false
   },
   "outputs": [
    {
     "name": "stdout",
     "output_type": "stream",
     "text": [
      "[1, 2, 2.5, 4, 1, 2, 2.5, 4]\n"
     ]
    }
   ],
   "source": [
    "data2 = 2*data1     \n",
    "print(data2)  # pay attention to output"
   ]
  },
  {
   "cell_type": "code",
   "execution_count": 9,
   "metadata": {
    "collapsed": false
   },
   "outputs": [
    {
     "name": "stdout",
     "output_type": "stream",
     "text": [
      "[ 2.  4.  5.  8.]\n"
     ]
    }
   ],
   "source": [
    "array2 = 2*array1\n",
    "print(array2)   # pay attention to output"
   ]
  },
  {
   "cell_type": "code",
   "execution_count": 10,
   "metadata": {
    "collapsed": false
   },
   "outputs": [
    {
     "name": "stdout",
     "output_type": "stream",
     "text": [
      "[2.0, 4.0, 5.0, 8.0]\n"
     ]
    }
   ],
   "source": [
    "ArrayToList = array2.tolist()  #that is how you convert arrays to list\n",
    "print(ArrayToList) # pay attention to commas"
   ]
  },
  {
   "cell_type": "code",
   "execution_count": 11,
   "metadata": {
    "collapsed": false
   },
   "outputs": [
    {
     "name": "stdout",
     "output_type": "stream",
     "text": [
      "[[1, 4, 7], [1, 2, 3]]\n"
     ]
    }
   ],
   "source": [
    "data3 = [[1,4,7],range(1,4)]  #list of lists - look at the output of range()\n",
    "print(data3)"
   ]
  },
  {
   "cell_type": "code",
   "execution_count": 12,
   "metadata": {
    "collapsed": false
   },
   "outputs": [
    {
     "data": {
      "text/plain": [
       "2.0"
      ]
     },
     "execution_count": 12,
     "metadata": {},
     "output_type": "execute_result"
    }
   ],
   "source": [
    "data3[1][2]\n",
    "float(2)"
   ]
  },
  {
   "cell_type": "code",
   "execution_count": 13,
   "metadata": {
    "collapsed": false
   },
   "outputs": [
    {
     "data": {
      "text/plain": [
       "[1, 4, 7]"
      ]
     },
     "execution_count": 13,
     "metadata": {},
     "output_type": "execute_result"
    }
   ],
   "source": [
    "data3[0]"
   ]
  },
  {
   "cell_type": "code",
   "execution_count": 14,
   "metadata": {
    "collapsed": false
   },
   "outputs": [
    {
     "data": {
      "text/plain": [
       "[[1, 2, 3]]"
      ]
     },
     "execution_count": 14,
     "metadata": {},
     "output_type": "execute_result"
    }
   ],
   "source": [
    "data3[1:]"
   ]
  },
  {
   "cell_type": "code",
   "execution_count": 15,
   "metadata": {
    "collapsed": false
   },
   "outputs": [
    {
     "name": "stdout",
     "output_type": "stream",
     "text": [
      "2\n"
     ]
    }
   ],
   "source": [
    "y = data3[1:]\n",
    "print(y[0][1])"
   ]
  },
  {
   "cell_type": "code",
   "execution_count": 16,
   "metadata": {
    "collapsed": false
   },
   "outputs": [
    {
     "name": "stdout",
     "output_type": "stream",
     "text": [
      "[[1 4 7]\n",
      " [1 2 3]]\n"
     ]
    }
   ],
   "source": [
    "array2 = np.array(data3)\n",
    "print(array2)"
   ]
  },
  {
   "cell_type": "code",
   "execution_count": 17,
   "metadata": {
    "collapsed": false
   },
   "outputs": [
    {
     "data": {
      "text/plain": [
       "3"
      ]
     },
     "execution_count": 17,
     "metadata": {},
     "output_type": "execute_result"
    }
   ],
   "source": [
    "array2[1][2]   #alternative command is array2[1,2]"
   ]
  },
  {
   "cell_type": "code",
   "execution_count": 18,
   "metadata": {
    "collapsed": false
   },
   "outputs": [
    {
     "name": "stdout",
     "output_type": "stream",
     "text": [
      "[[1, 4, 7], [1, 2, 3], [1, 4, 7], [1, 2, 3]]\n"
     ]
    }
   ],
   "source": [
    "print(2*data3)  #pay attention to output"
   ]
  },
  {
   "cell_type": "code",
   "execution_count": 19,
   "metadata": {
    "collapsed": false
   },
   "outputs": [
    {
     "name": "stdout",
     "output_type": "stream",
     "text": [
      "[[ 2  8 14]\n",
      " [ 2  4  6]]\n"
     ]
    }
   ],
   "source": [
    "print(2*array2) #look out the output of array"
   ]
  },
  {
   "cell_type": "code",
   "execution_count": 20,
   "metadata": {
    "collapsed": false
   },
   "outputs": [
    {
     "name": "stdout",
     "output_type": "stream",
     "text": [
      "3\n"
     ]
    }
   ],
   "source": [
    "print(array2[1,2])"
   ]
  },
  {
   "cell_type": "code",
   "execution_count": 21,
   "metadata": {
    "collapsed": false
   },
   "outputs": [
    {
     "name": "stdout",
     "output_type": "stream",
     "text": [
      "[1 1]\n"
     ]
    }
   ],
   "source": [
    "array3 = array2[:,0]   #First Column is returned\n",
    "print(array3)"
   ]
  },
  {
   "cell_type": "code",
   "execution_count": 22,
   "metadata": {
    "collapsed": false
   },
   "outputs": [
    {
     "name": "stdout",
     "output_type": "stream",
     "text": [
      "[1 4 7]\n"
     ]
    }
   ],
   "source": [
    "array4 = array2[0,:]   #First Row is returned\n",
    "print(array4)"
   ]
  },
  {
   "cell_type": "code",
   "execution_count": 23,
   "metadata": {
    "collapsed": false
   },
   "outputs": [
    {
     "name": "stdout",
     "output_type": "stream",
     "text": [
      "[1 4]\n"
     ]
    }
   ],
   "source": [
    "array5 = array2[0, 0:2] #the first two elements of the first row is returned\n",
    "print(array5)"
   ]
  },
  {
   "cell_type": "markdown",
   "metadata": {},
   "source": [
    "# Examining Arrays"
   ]
  },
  {
   "cell_type": "code",
   "execution_count": 24,
   "metadata": {
    "collapsed": false
   },
   "outputs": [
    {
     "name": "stdout",
     "output_type": "stream",
     "text": [
      "int64\n",
      "2\n",
      "1\n",
      "(2, 3)\n",
      "6\n",
      "2\n"
     ]
    }
   ],
   "source": [
    "print(array2.dtype)   #Returns int64 since all elements of array are integer numbers\n",
    "print(array2.ndim)    #it is a 2-dimentional array - Rows and Columns\n",
    "array1d = np.array([1,2,3])\n",
    "print(array1d.ndim)   #this was a 1-dementional array thus the output is 1\n",
    "print(array2.shape)   #returns (2,3) - there are 2 rows and 3 columns array2.shape[0] is number of rows\n",
    "print(array2.size)    #returns 6 (total number of elements in this array 2*3 = 6)\n",
    "print(len(array2))    #returns number of rows i.e. 2 - this is usually number of observations"
   ]
  },
  {
   "cell_type": "markdown",
   "metadata": {},
   "source": [
    "# Some handy short-cuts to create special arrays"
   ]
  },
  {
   "cell_type": "code",
   "execution_count": null,
   "metadata": {
    "collapsed": false
   },
   "outputs": [],
   "source": [
    "x1 = np.zeros(5) #it creates a one-dimentional array with 5 elements all equal to zero\n",
    "print(\"x1 = \")\n",
    "print(x1)\n",
    "x2 = np.zeros((2, 4)) #it creates a two-dimentional array with 2 rows and 4 columns. All elements are set to zero\n",
    "print(\"x2 = \")\n",
    "print(x2)\n",
    "x3 = np.ones(6)\n",
    "print(\"x3 = \") #it creates a one-dimentional array with 5 elements all equal to one\n",
    "print(x3)\n",
    "x4 = np.linspace(0,6,4) #it generates 4 equally distanced points from 0 to 6 (inclusive) - i.e. 0,2,4,6\n",
    "print(\"x4 = \")\n",
    "print(x4)\n",
    "x5 = np.logspace(1,3,4) #on logarithmic scale, it generates 4 equally distanced points from 10^1 to 10^3 (inclusive)\n",
    "print(\"x5 = \")\n",
    "print(x5)\n",
    "x6 =np.arange(5) #it generates a one dimentional array with 5 elements starting from 0 \n",
    "print(\"x6 = \")\n",
    "print(x6)\n",
    "x7 = x6.astype(float)  #we just change array type from Integer to Float\n",
    "print(\"x7 = \")\n",
    "print(x7)"
   ]
  },
  {
   "cell_type": "markdown",
   "metadata": {},
   "source": [
    "# Logical expressions and Boolean Arrays"
   ]
  },
  {
   "cell_type": "code",
   "execution_count": null,
   "metadata": {
    "collapsed": false
   },
   "outputs": [],
   "source": [
    "cities = np.array(['SF', 'Seattle', 'SF', 'NY'])\n",
    "Boolean1 = cities == 'SF'   # Pay attention to the difference between = and ==\n",
    "print(\"Boolean1 = \")\n",
    "print(Boolean1) #returns True and False\n",
    "print(cities[~Boolean1]) #returns all cities that are not SF - i.e. 'Seattle' and 'NY'\n",
    "Boolean2 = (cities == 'SF') | (cities == 'NY')\n",
    "print(\"Boolean2 = \")\n",
    "print(Boolean2) #returns true for elements that are either equal to 'SF' or 'NY'\n",
    "print(cities[~Boolean2]) #returns 'Seattle'\n",
    "print(cities[Boolean2])\n",
    "print(np.unique(cities)) #returns unique values in this array - i.e. 'NY' 'SF' and 'Seattle'"
   ]
  },
  {
   "cell_type": "markdown",
   "metadata": {},
   "source": [
    "# Mathematical and Statistical Operations "
   ]
  },
  {
   "cell_type": "code",
   "execution_count": null,
   "metadata": {
    "collapsed": false
   },
   "outputs": [],
   "source": [
    "ArrayTest = np.arange(10)\n",
    "print(ArrayTest*10)  # multiplies each element by 10\n",
    "print(ArrayTest*2.5)\n",
    "ArrayTest = ArrayTest ** 2.5 # Array Test to the power of 2.5\n",
    "print(ArrayTest)"
   ]
  },
  {
   "cell_type": "code",
   "execution_count": null,
   "metadata": {
    "collapsed": false
   },
   "outputs": [],
   "source": [
    "np.rint(ArrayTest)     #round into the nearest integer "
   ]
  },
  {
   "cell_type": "code",
   "execution_count": null,
   "metadata": {
    "collapsed": false
   },
   "outputs": [],
   "source": [
    "np.ceil(ArrayTest)   #round up"
   ]
  },
  {
   "cell_type": "code",
   "execution_count": null,
   "metadata": {
    "collapsed": false
   },
   "outputs": [],
   "source": [
    "np.floor(ArrayTest)  #Round down"
   ]
  },
  {
   "cell_type": "code",
   "execution_count": null,
   "metadata": {
    "collapsed": false
   },
   "outputs": [],
   "source": [
    "Boolean3 = np.isnan(ArrayTest) #Returns true when an element has value NaN - very handy in cleaning data\n",
    "print(Boolean3)  #it returns all False since all elements had values\n",
    "print (ArrayTest[np.isnan(ArrayTest)])"
   ]
  },
  {
   "cell_type": "code",
   "execution_count": null,
   "metadata": {
    "collapsed": false
   },
   "outputs": [],
   "source": [
    "np.argmax(ArrayTest) #returns the index of the maximum element in the array. Also try argmin"
   ]
  },
  {
   "cell_type": "code",
   "execution_count": null,
   "metadata": {
    "collapsed": false
   },
   "outputs": [],
   "source": [
    "np.argmin(ArrayTest)"
   ]
  },
  {
   "cell_type": "code",
   "execution_count": null,
   "metadata": {
    "collapsed": false
   },
   "outputs": [],
   "source": [
    "np.max(ArrayTest)  #return maximum value of the array. Also try min"
   ]
  },
  {
   "cell_type": "code",
   "execution_count": null,
   "metadata": {
    "collapsed": false
   },
   "outputs": [],
   "source": [
    "np.min(ArrayTest)"
   ]
  },
  {
   "cell_type": "code",
   "execution_count": 25,
   "metadata": {
    "collapsed": false
   },
   "outputs": [
    {
     "name": "stdout",
     "output_type": "stream",
     "text": [
      "[[-0.21610725  1.0949932 ]\n",
      " [ 0.85678519  0.27417904]\n",
      " [ 1.40639497 -0.45698922]\n",
      " [ 0.786475   -1.31953344]]\n"
     ]
    }
   ],
   "source": [
    "rnd = np.random.randn(4,2) \n",
    "\"\"\"returns a 2d array with 4 rows and 2 columns. Each element is a sample from a standard normal distribution. \n",
    "Standard Normal distribution has mean zero and sd 1. \"\"\"\n",
    "print(rnd)  "
   ]
  },
  {
   "cell_type": "code",
   "execution_count": 26,
   "metadata": {
    "collapsed": true
   },
   "outputs": [],
   "source": [
    "?np.random.randn()"
   ]
  },
  {
   "cell_type": "code",
   "execution_count": null,
   "metadata": {
    "collapsed": false
   },
   "outputs": [],
   "source": [
    "rnd.mean() #returns mean of all elements"
   ]
  },
  {
   "cell_type": "code",
   "execution_count": null,
   "metadata": {
    "collapsed": false
   },
   "outputs": [],
   "source": [
    "rnd.std() #returns standard deviation of all elements"
   ]
  },
  {
   "cell_type": "code",
   "execution_count": null,
   "metadata": {
    "collapsed": false
   },
   "outputs": [],
   "source": [
    "rnd.var() #returns variance of all elements"
   ]
  },
  {
   "cell_type": "code",
   "execution_count": null,
   "metadata": {
    "collapsed": false
   },
   "outputs": [],
   "source": [
    "rnd.sum() #returns sum of all elements"
   ]
  },
  {
   "cell_type": "code",
   "execution_count": null,
   "metadata": {
    "collapsed": false
   },
   "outputs": [],
   "source": [
    "rnd.sum(axis=0) #returns sum of columns"
   ]
  },
  {
   "cell_type": "code",
   "execution_count": null,
   "metadata": {
    "collapsed": false
   },
   "outputs": [],
   "source": [
    "ArrayTest.sum()"
   ]
  },
  {
   "cell_type": "code",
   "execution_count": null,
   "metadata": {
    "collapsed": false
   },
   "outputs": [],
   "source": [
    "rnd.sum(axis=1) #returns sum of rows"
   ]
  },
  {
   "cell_type": "markdown",
   "metadata": {},
   "source": [
    "# Scatter Plots"
   ]
  },
  {
   "cell_type": "code",
<<<<<<< HEAD
   "execution_count": 28,
=======
   "execution_count": 2,
>>>>>>> upstream/master
   "metadata": {
    "collapsed": false
   },
   "outputs": [
    {
     "name": "stdout",
     "output_type": "stream",
     "text": [
      "[ 0  1  2  3  4  5  6  7  8  9 10 11 12 13 14 15 16 17 18 19]\n"
     ]
<<<<<<< HEAD
    },
    {
     "data": {
      "image/png": "iVBORw0KGgoAAAANSUhEUgAAAXwAAAEACAYAAACwB81wAAAABHNCSVQICAgIfAhkiAAAAAlwSFlz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\npEYY+JLUCANfkhph4EtSI/4fHIo3j/5GvakAAAAASUVORK5CYII=\n",
      "text/plain": [
       "<matplotlib.figure.Figure at 0x109a23190>"
      ]
     },
     "metadata": {},
     "output_type": "display_data"
=======
>>>>>>> upstream/master
    }
   ],
   "source": [
    "SampleSize = 20\n",
    "x = np.arange(SampleSize)\n",
    "print(x)\n",
    "error = np.random.randn(1,SampleSize)\n",
    "y = -2 + 3*x + 10*error\n",
    "plt.scatter(x,y)\n",
    "plt.show()"
   ]
  },
  {
   "cell_type": "markdown",
   "metadata": {},
   "source": [
    "# Conditional Logic"
   ]
  },
  {
   "cell_type": "code",
   "execution_count": null,
   "metadata": {
    "collapsed": false
   },
   "outputs": [],
   "source": [
    "Logical = np.where(rnd > 0, 2, -2)   #Checks condition, if true then returns 2, if false returns -2\n",
    "print(Logical)"
   ]
  },
  {
   "cell_type": "code",
   "execution_count": null,
   "metadata": {
    "collapsed": false
   },
   "outputs": [],
   "source": [
    "Logical = np.where(rnd > 0, rnd, -2) #Checks condition, if true then returns the rnd number, if false returns -2\n",
    "print(Logical)\n",
    "print(np.where(rnd < 0, rnd, 0))"
   ]
  },
  {
   "cell_type": "code",
   "execution_count": null,
   "metadata": {
    "collapsed": false
   },
   "outputs": [],
   "source": [
    "(rnd > 1).sum()  #counts numer of elements that are more than 1\n"
   ]
  },
  {
   "cell_type": "code",
   "execution_count": null,
   "metadata": {
    "collapsed": false
   },
   "outputs": [],
   "source": [
    "(rnd > 1).any()  #Checks if any value is more than 1, if it is, then returns True, if all values are <=1 returns False"
   ]
  },
  {
   "cell_type": "code",
   "execution_count": null,
   "metadata": {
    "collapsed": false
   },
   "outputs": [],
   "source": [
    "(rnd > 1).all()  #Checks if all values are more than 1, if it is, then returns True, otherwise False"
   ]
  },
  {
   "cell_type": "markdown",
   "metadata": {},
   "source": [
    "# Random Numbers"
   ]
  },
  {
   "cell_type": "code",
   "execution_count": null,
   "metadata": {
    "collapsed": false
   },
   "outputs": [],
   "source": [
    "print(np.random.seed(213))   #Seed number is set to 213 \n",
    "print(np.random.rand(2,4))   #Give you a 2 by 4 array of random numbers. Each element is between 0 and 1\n",
    "print(np.random.randn(5)  ) # returns 5 random numbers based on standard normal distribution\n",
    "print(np.random.seed()     ) #if you do not specify seed - then the current system time is used\n",
    "print(np.random.rand(2,4)   )"
   ]
  },
  {
   "cell_type": "markdown",
   "metadata": {},
   "source": [
    "# Reshaping, Transposing, and Flattening arrays"
   ]
  },
  {
   "cell_type": "code",
   "execution_count": null,
   "metadata": {
    "collapsed": false
   },
   "outputs": [],
   "source": [
    "Initial_1D_Array = np.arange(20)\n",
    "print(\" Initial_1D_Array = \")\n",
    "print(Initial_1D_Array)\n",
    "ReShaped_2D = Initial_1D_Array.reshape(5,4) #Reshape our original array to a 5 by 4 two-Dimenational Array\n",
    "print(\"ReShaped_2D =\")\n",
    "print(ReShaped_2D)\n",
    "Flatten_Array = ReShaped_2D.flatten()   #our 2-D array is flatten now\n",
    "print(\"Flatten_Array = \")\n",
    "print(Flatten_Array)   \n",
    "Transposed_array = ReShaped_2D.T   #We just transposed our 5 by 4 array to a 4 by 5 array\n",
    "print(\"Transposed_array  = \")\n",
    "print(Transposed_array )"
   ]
  },
  {
   "cell_type": "markdown",
   "metadata": {},
   "source": [
    " Using IPython\n",
    "### Review Python Basics\n",
    "\n",
    "Test your skills by answering the following questions:"
   ]
  },
  {
   "cell_type": "markdown",
   "metadata": {},
   "source": [
    "#### Question 1. Divide 10 by 20 and put it in Variable A. "
   ]
  },
  {
   "cell_type": "code",
   "execution_count": null,
   "metadata": {
    "collapsed": false
   },
   "outputs": [],
   "source": [
    "### Insert your code here and then uncomment | print A | when you are ready to test it. \n",
<<<<<<< HEAD
    "A = 10.0/20.0\n",
    "print A\n",
=======
    "\n",
>>>>>>> upstream/master
    "#print A"
   ]
  },
  {
   "cell_type": "code",
   "execution_count": null,
   "metadata": {
    "collapsed": false
   },
   "outputs": [],
   "source": [
    "#### If you did not get a float (decimals), alter your equation to get the desired result (0.5) \n",
    "#### If you did not get a float (decimals) alter your equation to get the desired result (0.5) \n"
   ]
  },
  {
   "cell_type": "markdown",
   "metadata": {},
   "source": [
    "#### Question 2. Create a function called division that will divide any two numbers and prints the result (with decimals). \n",
    "Call your function. Confirm that the results are as expected."
   ]
  },
  {
   "cell_type": "code",
   "execution_count": null,
   "metadata": {
    "collapsed": false
   },
   "outputs": [],
   "source": [
<<<<<<< HEAD
    "# Remember functions start with def\n",
    "def division(numa, numb):\n",
    "    val = float(numa)/numb\n",
    "    return val\n",
    "division(2,3)\n"
=======
    "# Remember functions start with def\n"
>>>>>>> upstream/master
   ]
  },
  {
   "cell_type": "markdown",
   "metadata": {},
   "source": [
    "#### Question 3. Using .split() split my string into separate words in a variable named words"
   ]
  },
  {
   "cell_type": "code",
   "execution_count": null,
   "metadata": {
    "collapsed": false
   },
   "outputs": [],
   "source": [
    "my_string = \"Yo yo yo Here\"\n",
    "words = my_string.split()\n",
    "words[2:]"
   ]
  },
  {
   "cell_type": "markdown",
   "metadata": {},
   "source": [
    "#### Question 4. How many words are in my_string?\n"
   ]
  },
  {
   "cell_type": "code",
   "execution_count": null,
   "metadata": {
    "collapsed": false
   },
   "outputs": [],
   "source": [
    "len(words)"
   ]
  },
  {
   "cell_type": "markdown",
   "metadata": {},
   "source": [
    "#### Question 5. Use a list comprehension to find the length of each word\n",
    "\n",
    "result: [3, 3, 6, 4, 3, 4]"
   ]
  },
  {
   "cell_type": "code",
   "execution_count": null,
   "metadata": {
    "collapsed": false
   },
   "outputs": [],
   "source": [
    "result = [len(w) for w in words]\n",
    "result"
   ]
  },
  {
   "cell_type": "markdown",
   "metadata": {},
   "source": [
    "#### Question 6. Put the words back together in a variable called sentence using .join()\n",
    "result:\n",
    "the cow jumped over the moon"
   ]
  },
  {
   "cell_type": "code",
   "execution_count": null,
   "metadata": {
    "collapsed": false
   },
   "outputs": [],
   "source": [
    "x = \" \"\n",
    "sentence = x.join(words)\n",
    "sentence"
   ]
  },
  {
   "cell_type": "markdown",
   "metadata": {},
   "source": [
    "#### Bonus: Add a \"||\" between each word\n",
    "result: \n",
    "the||cow||jumped||over||the||moon"
   ]
  },
  {
   "cell_type": "code",
   "execution_count": null,
   "metadata": {
    "collapsed": false
   },
   "outputs": [],
   "source": [
    "x = \"||\" \n",
    "sentence = x.join(words)\n",
    "sentence"
   ]
  },
  {
   "cell_type": "code",
   "execution_count": null,
   "metadata": {
    "collapsed": true
   },
   "outputs": [],
   "source": []
  }
 ],
 "metadata": {
  "kernelspec": {
   "display_name": "Python 2",
   "language": "python",
   "name": "python2"
  },
  "language_info": {
   "codemirror_mode": {
    "name": "ipython",
    "version": 2
   },
   "file_extension": ".py",
   "mimetype": "text/x-python",
   "name": "python",
   "nbconvert_exporter": "python",
   "pygments_lexer": "ipython2",
   "version": "2.7.11"
  }
 },
 "nbformat": 4,
 "nbformat_minor": 0
}
