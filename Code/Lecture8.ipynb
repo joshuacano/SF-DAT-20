{
 "cells": [
  {
   "cell_type": "code",
   "execution_count": 1,
   "metadata": {
    "collapsed": true
   },
   "outputs": [],
   "source": [
    "import pandas as pd\n",
    "import numpy as np"
   ]
  },
  {
   "cell_type": "code",
   "execution_count": 2,
   "metadata": {
    "collapsed": false
   },
   "outputs": [
    {
     "name": "stdout",
     "output_type": "stream",
     "text": [
      "   admit  gre   gpa  prestige\n",
      "0      0  380  3.61         3\n",
      "1      1  660  3.67         3\n",
      "2      1  800  4.00         1\n",
      "3      1  640  3.19         4\n",
      "4      0  520  2.93         4\n",
      "            admit         gre        gpa    prestige\n",
      "count  400.000000  398.000000  398.00000  399.000000\n",
      "mean     0.317500  588.040201    3.39093    2.486216\n",
      "std      0.466087  115.628513    0.38063    0.945333\n",
      "min      0.000000  220.000000    2.26000    1.000000\n",
      "25%      0.000000  520.000000    3.13000    2.000000\n",
      "50%      0.000000  580.000000    3.39500    2.000000\n",
      "75%      1.000000  660.000000    3.67000    3.000000\n",
      "max      1.000000  800.000000    4.00000    4.000000\n"
     ]
    }
   ],
   "source": [
    "url = \"https://raw.githubusercontent.com/ga-students/SF-DAT-20/master/HW%20assignments/HW2/admissions.csv\"\n",
    "AdmissionData = pd.read_csv(url)\n",
    "print(AdmissionData.head(5))\n",
    "print(AdmissionData.describe())"
   ]
  },
  {
   "cell_type": "code",
   "execution_count": 4,
   "metadata": {
    "collapsed": false
   },
   "outputs": [
    {
     "data": {
      "text/html": [
       "<div>\n",
       "<table border=\"1\" class=\"dataframe\">\n",
       "  <thead>\n",
       "    <tr style=\"text-align: right;\">\n",
       "      <th></th>\n",
       "      <th>admit</th>\n",
       "      <th>gre</th>\n",
       "      <th>gpa</th>\n",
       "      <th>prestige</th>\n",
       "    </tr>\n",
       "  </thead>\n",
       "  <tbody>\n",
       "    <tr>\n",
       "      <th>count</th>\n",
       "      <td>397.000000</td>\n",
       "      <td>397.000000</td>\n",
       "      <td>397.000000</td>\n",
       "      <td>397.000000</td>\n",
       "    </tr>\n",
       "    <tr>\n",
       "      <th>mean</th>\n",
       "      <td>0.317380</td>\n",
       "      <td>587.858942</td>\n",
       "      <td>3.392242</td>\n",
       "      <td>2.488665</td>\n",
       "    </tr>\n",
       "    <tr>\n",
       "      <th>std</th>\n",
       "      <td>0.466044</td>\n",
       "      <td>115.717787</td>\n",
       "      <td>0.380208</td>\n",
       "      <td>0.947083</td>\n",
       "    </tr>\n",
       "    <tr>\n",
       "      <th>min</th>\n",
       "      <td>0.000000</td>\n",
       "      <td>220.000000</td>\n",
       "      <td>2.260000</td>\n",
       "      <td>1.000000</td>\n",
       "    </tr>\n",
       "    <tr>\n",
       "      <th>25%</th>\n",
       "      <td>0.000000</td>\n",
       "      <td>520.000000</td>\n",
       "      <td>3.130000</td>\n",
       "      <td>2.000000</td>\n",
       "    </tr>\n",
       "    <tr>\n",
       "      <th>50%</th>\n",
       "      <td>0.000000</td>\n",
       "      <td>580.000000</td>\n",
       "      <td>3.400000</td>\n",
       "      <td>2.000000</td>\n",
       "    </tr>\n",
       "    <tr>\n",
       "      <th>75%</th>\n",
       "      <td>1.000000</td>\n",
       "      <td>660.000000</td>\n",
       "      <td>3.670000</td>\n",
       "      <td>3.000000</td>\n",
       "    </tr>\n",
       "    <tr>\n",
       "      <th>max</th>\n",
       "      <td>1.000000</td>\n",
       "      <td>800.000000</td>\n",
       "      <td>4.000000</td>\n",
       "      <td>4.000000</td>\n",
       "    </tr>\n",
       "  </tbody>\n",
       "</table>\n",
       "</div>"
      ],
      "text/plain": [
       "            admit         gre         gpa    prestige\n",
       "count  397.000000  397.000000  397.000000  397.000000\n",
       "mean     0.317380  587.858942    3.392242    2.488665\n",
       "std      0.466044  115.717787    0.380208    0.947083\n",
       "min      0.000000  220.000000    2.260000    1.000000\n",
       "25%      0.000000  520.000000    3.130000    2.000000\n",
       "50%      0.000000  580.000000    3.400000    2.000000\n",
       "75%      1.000000  660.000000    3.670000    3.000000\n",
       "max      1.000000  800.000000    4.000000    4.000000"
      ]
     },
     "execution_count": 4,
     "metadata": {},
     "output_type": "execute_result"
    }
   ],
   "source": [
    "# Let's get rid of Missing values - there are only a few missing values so, let's drop them all\n",
    "AdmissionData.dropna(inplace = True)\n",
    "AdmissionData.describe() # Only 3 rows are dropped"
   ]
  },
  {
   "cell_type": "markdown",
   "metadata": {},
   "source": [
    "#### Our goal is to predict Admission based on 3 variables (gre, gpa, prestige). We do need to standardize our data first, otherwise, GRE would have more weight than GPA and prestige. This is one of the most important steps!"
   ]
  },
  {
   "cell_type": "code",
   "execution_count": 5,
   "metadata": {
    "collapsed": false
   },
   "outputs": [
    {
     "name": "stdout",
     "output_type": "stream",
     "text": [
      "220.0\n",
      "2.26\n",
      "1.0\n"
     ]
    },
    {
     "data": {
      "text/html": [
       "<div>\n",
       "<table border=\"1\" class=\"dataframe\">\n",
       "  <thead>\n",
       "    <tr style=\"text-align: right;\">\n",
       "      <th></th>\n",
       "      <th>admit</th>\n",
       "      <th>gre</th>\n",
       "      <th>gpa</th>\n",
       "      <th>prestige</th>\n",
       "    </tr>\n",
       "  </thead>\n",
       "  <tbody>\n",
       "    <tr>\n",
       "      <th>0</th>\n",
       "      <td>0</td>\n",
       "      <td>0.275862</td>\n",
       "      <td>0.775862</td>\n",
       "      <td>0.666667</td>\n",
       "    </tr>\n",
       "    <tr>\n",
       "      <th>1</th>\n",
       "      <td>1</td>\n",
       "      <td>0.758621</td>\n",
       "      <td>0.810345</td>\n",
       "      <td>0.666667</td>\n",
       "    </tr>\n",
       "    <tr>\n",
       "      <th>2</th>\n",
       "      <td>1</td>\n",
       "      <td>1.000000</td>\n",
       "      <td>1.000000</td>\n",
       "      <td>0.000000</td>\n",
       "    </tr>\n",
       "    <tr>\n",
       "      <th>3</th>\n",
       "      <td>1</td>\n",
       "      <td>0.724138</td>\n",
       "      <td>0.534483</td>\n",
       "      <td>1.000000</td>\n",
       "    </tr>\n",
       "    <tr>\n",
       "      <th>4</th>\n",
       "      <td>0</td>\n",
       "      <td>0.517241</td>\n",
       "      <td>0.385057</td>\n",
       "      <td>1.000000</td>\n",
       "    </tr>\n",
       "  </tbody>\n",
       "</table>\n",
       "</div>"
      ],
      "text/plain": [
       "   admit       gre       gpa  prestige\n",
       "0      0  0.275862  0.775862  0.666667\n",
       "1      1  0.758621  0.810345  0.666667\n",
       "2      1  1.000000  1.000000  0.000000\n",
       "3      1  0.724138  0.534483  1.000000\n",
       "4      0  0.517241  0.385057  1.000000"
      ]
     },
     "execution_count": 5,
     "metadata": {},
     "output_type": "execute_result"
    }
   ],
   "source": [
    "# Let's write our own Standardizing function\n",
    "def Standardize(X):\n",
    "    X_Max = X.max()\n",
    "    X_Min = X.min()\n",
    "    X_Standardized = (X-X_Min)/(X_Max - X_Min)\n",
    "    return X_Standardized\n",
    "\n",
    "AdmissionData['gre']= Standardize(AdmissionData['gre'])\n",
    "AdmissionData['gpa'] = Standardize(AdmissionData['gpa'])\n",
    "AdmissionData['prestige'] = Standardize(AdmissionData['prestige'])\n",
    "\n",
    "#Alternatively we could do it this way\n",
    "\"\"\"\n",
    "NameOfVariables = ['gre','gpa','prestige']\n",
    "for i in NameOfVariables:\n",
    "    AdmissionData[i] = Standardize(AdmissionData[i])\n",
    "\"\"\"\n",
    "AdmissionData.head(5)"
   ]
  },
  {
   "cell_type": "code",
   "execution_count": 6,
   "metadata": {
    "collapsed": true
   },
   "outputs": [],
   "source": [
    "from sklearn import neighbors, metrics"
   ]
  },
  {
   "cell_type": "code",
   "execution_count": 7,
   "metadata": {
    "collapsed": false
   },
   "outputs": [
    {
     "data": {
      "text/plain": [
       "KNeighborsClassifier(algorithm='auto', leaf_size=30, metric='minkowski',\n",
       "           metric_params=None, n_jobs=1, n_neighbors=5, p=2,\n",
       "           weights='uniform')"
      ]
     },
     "execution_count": 7,
     "metadata": {},
     "output_type": "execute_result"
    }
   ],
   "source": [
    "X = AdmissionData[['gre','gpa','prestige']]\n",
    "y = AdmissionData['admit']\n",
    "\n",
    "knn = neighbors.KNeighborsClassifier(n_neighbors=5, weights='uniform')\n",
    "#n_neighbors is number of neighbors you would like to search \n",
    "#weights can be set to 'uniform' or 'distance'\n",
    "knn.fit(X,y)"
   ]
  },
  {
   "cell_type": "markdown",
   "metadata": {},
   "source": [
    "#### You can measure precision of your prediction either by manually computing it or using knn.score"
   ]
  },
  {
   "cell_type": "code",
   "execution_count": 8,
   "metadata": {
    "collapsed": false
   },
   "outputs": [
    {
     "name": "stdout",
     "output_type": "stream",
     "text": [
      "0.76322418136\n",
      "0.76322418136\n"
     ]
    }
   ],
   "source": [
    "y_hat = knn.predict(X)\n",
    "Score1 = knn.score(X,y)\n",
    "Score2 = float(sum(y_hat == y))/len(AdmissionData)\n",
    "print(Score1)\n",
    "print(Score2)"
   ]
  },
  {
   "cell_type": "markdown",
   "metadata": {},
   "source": [
    "#### What is the optimal number of neighbors?"
   ]
  },
  {
   "cell_type": "markdown",
   "metadata": {},
   "source": [
    "To answer this question we do need to rely on validation or corss-validation error. "
   ]
  },
  {
   "cell_type": "code",
   "execution_count": 34,
   "metadata": {
    "collapsed": false
   },
   "outputs": [
    {
     "name": "stdout",
     "output_type": "stream",
     "text": [
      "27\n",
      "27 0.718333333333\n"
     ]
    },
    {
     "data": {
      "image/png": "[encoded data removed]",
      "text/plain": [
       "<matplotlib.figure.Figure at 0x114f8f910>"
      ]
     },
     "metadata": {},
     "output_type": "display_data"
    }
   ],
   "source": [
    "import matplotlib.pyplot as plt\n",
    "%matplotlib inline\n",
    "from sklearn import cross_validation\n",
    "\n",
    "kf = cross_validation.KFold(len(AdmissionData), n_folds = 10, shuffle = True) #10 fold CV\n",
    "Score_KNN_CV = []\n",
    "RangeOfK = range(1,50)\n",
    "scores = []\n",
    "max_score = 0\n",
    "max_index = 1\n",
    "for k in RangeOfK:\n",
    "    knn = neighbors.KNeighborsClassifier(n_neighbors=k, weights='uniform')\n",
    "    scores = []\n",
    "    for train_index, test_index in kf:        \n",
    "        knn.fit(X.iloc[train_index], y.iloc[train_index])\n",
    "        scores.append(knn.score(X.iloc[test_index],y.iloc[test_index]))\n",
    "    Score_KNN_CV.append(np.mean(scores))\n",
    "    new_max_score = np.mean(scores)\n",
    "    if new_max_score > max_score:\n",
    "        max_score = new_max_score\n",
    "        max_index = k\n",
    "\n",
    "Score_KNN_CV_df = pd.DataFrame({'Score_KNN_CV': Score_KNN_CV ,'K': RangeOfK })\n",
    "Score_KNN_CV_df.plot(x = 'K',y = 'Score_KNN_CV')\n",
    "print Score_KNN_CV.index(max(Score_KNN_CV)) +1\n",
    "print max_index, max_score"
   ]
  },
  {
   "cell_type": "markdown",
   "metadata": {},
   "source": [
    "#### How was the fit? What is the best we can do?"
   ]
  },
  {
   "cell_type": "markdown",
   "metadata": {},
   "source": [
    "The best accuracy we can get is around 71 to 72 percent. It may be tempting to conclude this is a good result. But let's compare this algorithm with an easier one! Let's use a prediction model always predicts people will not get admitted and let's compare our results with that terrible predictor!"
   ]
  },
  {
   "cell_type": "code",
   "execution_count": 35,
   "metadata": {
    "collapsed": false
   },
   "outputs": [
    {
     "data": {
      "text/plain": [
       "0.6826196473551638"
      ]
     },
     "execution_count": 35,
     "metadata": {},
     "output_type": "execute_result"
    }
   ],
   "source": [
    "sum(AdmissionData['admit'])\n",
    "float(len(AdmissionData)-sum(AdmissionData['admit']))/len(AdmissionData)"
   ]
  },
  {
   "cell_type": "markdown",
   "metadata": {},
   "source": [
    "That algorithm has accuracy of 68 percent!"
   ]
  },
  {
   "cell_type": "markdown",
   "metadata": {},
   "source": [
    "#### Now let's see how changing 'unifrom' to 'distance' would affect our results"
   ]
  },
  {
   "cell_type": "code",
   "execution_count": 36,
   "metadata": {
    "collapsed": false
   },
   "outputs": [
    {
     "data": {
      "text/plain": [
       "0.72032051282051279"
      ]
     },
     "execution_count": 36,
     "metadata": {},
     "output_type": "execute_result"
    },
    {
     "data": {
      "image/png": "[encoded data removed]",
      "text/plain": [
       "<matplotlib.figure.Figure at 0x114fff050>"
      ]
     },
     "metadata": {},
     "output_type": "display_data"
    }
   ],
   "source": [
    "import matplotlib.pyplot as plt\n",
    "%matplotlib inline\n",
    "from sklearn import cross_validation\n",
    "\n",
    "kf = cross_validation.KFold(len(AdmissionData), n_folds = 10, shuffle = True) #10 fold CV\n",
    "Score_KNN_CV = []\n",
    "RangeOfK = range(1,100)\n",
    "scores = []\n",
    "for k in RangeOfK:\n",
    "    knn = neighbors.KNeighborsClassifier(n_neighbors=k, weights='distance')\n",
    "    scores = []\n",
    "    for train_index, test_index in kf:        \n",
    "        knn.fit(X.iloc[train_index], y.iloc[train_index])\n",
    "        scores.append(knn.score(X.iloc[test_index],y.iloc[test_index]))\n",
    "    Score_KNN_CV.append(np.mean(scores))\n",
    "\n",
    "Score_KNN_CV_df = pd.DataFrame({'Score_KNN_CV': Score_KNN_CV ,'K': RangeOfK })\n",
    "Score_KNN_CV_df.plot(x = 'K',y = 'Score_KNN_CV')\n",
    "max(Score_KNN_CV)"
   ]
  },
  {
   "cell_type": "markdown",
   "metadata": {},
   "source": [
    "It doesn't show a brighter picture!"
   ]
  },
  {
   "cell_type": "markdown",
   "metadata": {},
   "source": [
    "#### What would be the result before standardizing your data?"
   ]
  },
  {
   "cell_type": "code",
   "execution_count": 37,
   "metadata": {
    "collapsed": false
   },
   "outputs": [],
   "source": [
    "url = \"https://raw.githubusercontent.com/ga-students/SF-DAT-20/master/HW%20assignments/HW2/admissions.csv\"\n",
    "AdmissionData = pd.read_csv(url)\n",
    "AdmissionData.dropna(inplace = True)\n",
    "X = AdmissionData[['gre','gpa','prestige']]\n",
    "y = AdmissionData['admit']"
   ]
  },
  {
   "cell_type": "code",
   "execution_count": 38,
   "metadata": {
    "collapsed": false
   },
   "outputs": [
    {
     "data": {
      "text/plain": [
       "<matplotlib.axes._subplots.AxesSubplot at 0x1103199d0>"
      ]
     },
     "execution_count": 38,
     "metadata": {},
     "output_type": "execute_result"
    },
    {
     "data": {
      "image/png": "[encoded data removed]",
      "text/plain": [
       "<matplotlib.figure.Figure at 0x114a32310>"
      ]
     },
     "metadata": {},
     "output_type": "display_data"
    }
   ],
   "source": [
    "\n",
    "kf = cross_validation.KFold(len(AdmissionData), n_folds = 10, shuffle = True) #10 fold CV\n",
    "Score_KNN_CV = []\n",
    "RangeOfK = range(1,100)\n",
    "scores = []\n",
    "for k in RangeOfK:\n",
    "    knn = neighbors.KNeighborsClassifier(n_neighbors=k, weights='uniform')\n",
    "    scores = []\n",
    "    for train_index, test_index in kf:        \n",
    "        knn.fit(X.iloc[train_index], y.iloc[train_index])\n",
    "        scores.append(knn.score(X.iloc[test_index],y.iloc[test_index]))\n",
    "    Score_KNN_CV.append(np.mean(scores))\n",
    "\n",
    "Score_KNN_CV_df = pd.DataFrame({'Score_KNN_CV': Score_KNN_CV ,'K': RangeOfK })\n",
    "Score_KNN_CV_df.plot(x = 'K',y = 'Score_KNN_CV')\n"
   ]
  },
  {
   "cell_type": "markdown",
   "metadata": {},
   "source": [
    "It actually, gives you a worse result!"
   ]
  },
  {
   "cell_type": "markdown",
   "metadata": {},
   "source": [
    "## KNN and Regression Models"
   ]
  },
  {
   "cell_type": "code",
   "execution_count": 39,
   "metadata": {
    "collapsed": false
   },
   "outputs": [
    {
     "data": {
      "text/plain": [
       "<matplotlib.axes._subplots.AxesSubplot at 0x110209550>"
      ]
     },
     "execution_count": 39,
     "metadata": {},
     "output_type": "execute_result"
    },
    {
     "data": {
      "image/png": "[encoded data removed]",
      "text/plain": [
       "<matplotlib.figure.Figure at 0x114a32e50>"
      ]
     },
     "metadata": {},
     "output_type": "display_data"
    }
   ],
   "source": [
    "import random\n",
    "\n",
    "#let's use the simulated model we used in Lecture 6\n",
    "#Let's generate 100 random numbers between -10 and 10\n",
    "x = np.zeros(100)\n",
    "for i in range(100):\n",
    "   x[i] = random.uniform(-10, 10)\n",
    "\n",
    "#Let's generate some error term with mean 0 and s.d. = 20\n",
    "error = np.random.normal(0,20,100)\n",
    "\n",
    "#Now let's generate y with a polynomial degree 2 relationship with x\n",
    "y = 3 + 1.5 * x + 4 * (x ** 2) + error\n",
    "df = pd.DataFrame({'X': x, 'y': y})\n",
    "\n",
    "df.plot(kind = 'scatter', x = 'X', y = 'y')\n",
    "\n",
    "\n"
   ]
  },
  {
   "cell_type": "code",
   "execution_count": 40,
   "metadata": {
    "collapsed": false
   },
   "outputs": [],
   "source": [
    "knn = neighbors.KNeighborsRegressor(n_neighbors = 20, weights='uniform')\n",
    "X = df[['X']]\n",
    "y = df['y']\n",
    "knn.fit(X,y)\n",
    "y_hat = knn.predict(X)"
   ]
  },
  {
   "cell_type": "code",
   "execution_count": 44,
   "metadata": {
    "collapsed": false
   },
   "outputs": [
    {
     "data": {
      "image/png": "[encoded data removed]",
      "text/plain": [
       "<matplotlib.figure.Figure at 0x1151f74d0>"
      ]
     },
     "metadata": {},
     "output_type": "display_data"
    }
   ],
   "source": [
    "plt.scatter(X, y, label='data')\n",
    "plt.scatter(X, y_hat, c = 'r',label='prediction')\n",
    "plt.axis('tight')\n",
    "plt.legend()\n",
    "plt.show()"
   ]
  },
  {
   "cell_type": "code",
   "execution_count": 43,
   "metadata": {
    "collapsed": false
   },
   "outputs": [],
   "source": [
    "knn.score(X,y) # in regression returns R^2\n",
    "MSE = float(sum((y-y_hat)**2))/len(y)# if you are interested to get MSE"
   ]
  },
  {
   "cell_type": "code",
   "execution_count": 50,
   "metadata": {
    "collapsed": false
   },
   "outputs": [
    {
     "data": {
      "text/plain": [
       "4"
      ]
     },
     "execution_count": 50,
     "metadata": {},
     "output_type": "execute_result"
    },
    {
     "data": {
      "image/png": "[encoded data removed]",
      "text/plain": [
       "<matplotlib.figure.Figure at 0x114d00950>"
      ]
     },
     "metadata": {},
     "output_type": "display_data"
    }
   ],
   "source": [
    "\n",
    "kf = cross_validation.KFold(len(df), n_folds = 10, shuffle = True) #10 fold CV\n",
    "Score_KNN_CV = []\n",
    "RangeOfK = range(1,50)\n",
    "scores = []\n",
    "for k in RangeOfK:\n",
    "    knn = neighbors.KNeighborsRegressor(n_neighbors=k, weights='uniform')\n",
    "    scores = []\n",
    "    for train_index, test_index in kf:        \n",
    "        knn.fit(X.iloc[train_index], y.iloc[train_index])\n",
    "        scores.append(knn.score(X.iloc[test_index],y.iloc[test_index]))\n",
    "    Score_KNN_CV.append(np.mean(scores))\n",
    "\n",
    "Score_KNN_CV_df = pd.DataFrame({'Score_KNN_CV': Score_KNN_CV ,'K': RangeOfK })\n",
    "Score_KNN_CV_df.plot(x = 'K',y = 'Score_KNN_CV')\n",
    "Score_KNN_CV.index(max(Score_KNN_CV)) + 1"
   ]
  },
  {
   "cell_type": "markdown",
   "metadata": {},
   "source": [
    "It seems like k between 3 to 8 gives you the best result. let's look at the graph after setting k = 5"
   ]
  },
  {
   "cell_type": "code",
   "execution_count": 51,
   "metadata": {
    "collapsed": false
   },
   "outputs": [
    {
     "data": {
      "image/png": "[encoded data removed]",
      "text/plain": [
       "<matplotlib.figure.Figure at 0x11553d250>"
      ]
     },
     "metadata": {},
     "output_type": "display_data"
    }
   ],
   "source": [
    "knn = neighbors.KNeighborsRegressor(n_neighbors = 5, weights='uniform')\n",
    "X = df[['X']]\n",
    "y = df['y']\n",
    "knn.fit(X,y)\n",
    "y_hat = knn.predict(X)\n",
    "plt.scatter(X, y, label='data')\n",
    "plt.scatter(X, y_hat, c = 'r',label='prediction')\n",
    "plt.axis('tight')\n",
    "plt.legend()\n",
    "plt.show()"
   ]
  },
  {
   "cell_type": "code",
   "execution_count": null,
   "metadata": {
    "collapsed": true
   },
   "outputs": [],
   "source": []
  }
 ],
 "metadata": {
  "kernelspec": {
   "display_name": "Python 2",
   "language": "python",
   "name": "python2"
  },
  "language_info": {
   "codemirror_mode": {
    "name": "ipython",
    "version": 2
   },
   "file_extension": ".py",
   "mimetype": "text/x-python",
   "name": "python",
   "nbconvert_exporter": "python",
   "pygments_lexer": "ipython2",
   "version": "2.7.11"
  }
 },
 "nbformat": 4,
 "nbformat_minor": 0
}
