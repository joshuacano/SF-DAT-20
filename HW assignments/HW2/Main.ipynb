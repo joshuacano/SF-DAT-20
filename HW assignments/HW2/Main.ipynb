{
 "cells": [
  {
   "cell_type": "code",
   "execution_count": 82,
   "metadata": {
    "collapsed": true
   },
   "outputs": [],
   "source": [
    "import pandas as pd\n",
    "import seaborn as sns\n",
    "import matplotlib.pyplot as plt\n",
    "from sklearn.linear_model import LinearRegression  #import\n",
    "from sklearn import feature_selection\n",
    "%matplotlib inline"
   ]
  },
  {
   "cell_type": "code",
   "execution_count": 57,
   "metadata": {
    "collapsed": true
   },
   "outputs": [],
   "source": [
    "ClassData = pd.read_csv('admissions.csv')"
   ]
  },
  {
   "cell_type": "code",
   "execution_count": 86,
   "metadata": {
    "collapsed": false
   },
   "outputs": [
    {
     "data": {
      "text/html": [
       "<div>\n",
       "<table border=\"1\" class=\"dataframe\">\n",
       "  <thead>\n",
       "    <tr style=\"text-align: right;\">\n",
       "      <th></th>\n",
       "      <th>admit</th>\n",
       "      <th>gre</th>\n",
       "      <th>gpa</th>\n",
       "      <th>prestige</th>\n",
       "      <th>gpa_admit</th>\n",
       "    </tr>\n",
       "  </thead>\n",
       "  <tbody>\n",
       "    <tr>\n",
       "      <th>count</th>\n",
       "      <td>400.000000</td>\n",
       "      <td>400.000000</td>\n",
       "      <td>400.000000</td>\n",
       "      <td>400.00000</td>\n",
       "      <td>400.000000</td>\n",
       "    </tr>\n",
       "    <tr>\n",
       "      <th>mean</th>\n",
       "      <td>0.317500</td>\n",
       "      <td>588.040201</td>\n",
       "      <td>3.390930</td>\n",
       "      <td>2.48500</td>\n",
       "      <td>1.107577</td>\n",
       "    </tr>\n",
       "    <tr>\n",
       "      <th>std</th>\n",
       "      <td>0.466087</td>\n",
       "      <td>115.338353</td>\n",
       "      <td>0.379675</td>\n",
       "      <td>0.94446</td>\n",
       "      <td>1.639173</td>\n",
       "    </tr>\n",
       "    <tr>\n",
       "      <th>min</th>\n",
       "      <td>0.000000</td>\n",
       "      <td>220.000000</td>\n",
       "      <td>2.260000</td>\n",
       "      <td>1.00000</td>\n",
       "      <td>0.000000</td>\n",
       "    </tr>\n",
       "    <tr>\n",
       "      <th>25%</th>\n",
       "      <td>0.000000</td>\n",
       "      <td>520.000000</td>\n",
       "      <td>3.130000</td>\n",
       "      <td>2.00000</td>\n",
       "      <td>0.000000</td>\n",
       "    </tr>\n",
       "    <tr>\n",
       "      <th>50%</th>\n",
       "      <td>0.000000</td>\n",
       "      <td>580.000000</td>\n",
       "      <td>3.390930</td>\n",
       "      <td>2.00000</td>\n",
       "      <td>0.000000</td>\n",
       "    </tr>\n",
       "    <tr>\n",
       "      <th>75%</th>\n",
       "      <td>1.000000</td>\n",
       "      <td>660.000000</td>\n",
       "      <td>3.670000</td>\n",
       "      <td>3.00000</td>\n",
       "      <td>3.172500</td>\n",
       "    </tr>\n",
       "    <tr>\n",
       "      <th>max</th>\n",
       "      <td>1.000000</td>\n",
       "      <td>800.000000</td>\n",
       "      <td>4.000000</td>\n",
       "      <td>4.00000</td>\n",
       "      <td>4.000000</td>\n",
       "    </tr>\n",
       "  </tbody>\n",
       "</table>\n",
       "</div>"
      ],
      "text/plain": [
       "            admit         gre         gpa   prestige   gpa_admit\n",
       "count  400.000000  400.000000  400.000000  400.00000  400.000000\n",
       "mean     0.317500  588.040201    3.390930    2.48500    1.107577\n",
       "std      0.466087  115.338353    0.379675    0.94446    1.639173\n",
       "min      0.000000  220.000000    2.260000    1.00000    0.000000\n",
       "25%      0.000000  520.000000    3.130000    2.00000    0.000000\n",
       "50%      0.000000  580.000000    3.390930    2.00000    0.000000\n",
       "75%      1.000000  660.000000    3.670000    3.00000    3.172500\n",
       "max      1.000000  800.000000    4.000000    4.00000    4.000000"
      ]
     },
     "execution_count": 86,
     "metadata": {},
     "output_type": "execute_result"
    }
   ],
   "source": [
    "#Number of observations\n",
    "ClassData.describe()"
   ]
  },
  {
   "cell_type": "markdown",
   "metadata": {},
   "source": [
    "The above table indicates that approximately 31% of students were admitted to colleges of choice\n",
    "It seems that in between 50% and 75% of people were not admitted to colleges. The gre score for seems to hover somewhere around 520 and 660 for the majority of students. GPA also seems to be between 3.13 an 3.67, It seems that most of the applicants applied at a Graduate school from a prestige between 2 and 3."
   ]
  },
  {
   "cell_type": "code",
   "execution_count": 97,
   "metadata": {
    "collapsed": false
   },
   "outputs": [
    {
     "name": "stdout",
     "output_type": "stream",
     "text": [
      "0.3175\n",
      "0.540983606557 Percent Admitted by prestige 1\n",
      "0.35761589404 Percent Admitted by prestige 2\n",
      "0.231404958678 Percent Admitted by prestige 3\n",
      "0.179104477612 Percent Admitted by prestige 4\n"
     ]
    }
   ],
   "source": [
    "admitted = ClassData[\"admit\"] == 1\n",
    "percent_admitted = float(ClassData[admitted][\"admit\"].count()) /ClassData[\"admit\"].count()\n",
    "print (percent_admitted)\n",
    "for i in range(1,5):\n",
    "    prestige = ClassData[\"prestige\"] == i\n",
    "    percent_admitted = float(ClassData[admitted & prestige][\"admit\"].count()) /ClassData[prestige][\"admit\"].count()\n",
    "    print(\"%s Percent Admitted by prestige %d\" % (percent_admitted, i))"
   ]
  },
  {
   "cell_type": "code",
   "execution_count": 59,
   "metadata": {
    "collapsed": false
   },
   "outputs": [
    {
     "name": "stdout",
     "output_type": "stream",
     "text": [
      "588.040201005\n",
      "     admit  gre   gpa  prestige\n",
      "187      0  NaN   NaN         2\n",
      "212      0  NaN  2.87         2\n"
     ]
    }
   ],
   "source": [
    "#Setting average for missing Values\n",
    "gre = pd.isnull(ClassData[\"gre\"]) == True\n",
    "gre_mean = ClassData[\"gre\"].mean()\n",
    "print gre_mean\n",
    "print ClassData[gre]\n",
    "ClassData.loc[gre, \"gre\"] = gre_mean\n",
    "\n",
    "gpa = pd.isnull(ClassData[\"gpa\"]) == True\n",
    "gpa_mean = ClassData[\"gpa\"].mean()\n",
    "ClassData.loc[gpa, \"gpa\"] = gpa_mean\n",
    "\n",
    "prestige = pd.isnull(ClassData[\"prestige\"]) == True\n",
    "prestige_mean = ClassData[\"prestige\"].mean()\n",
    "ClassData.loc[prestige, \"prestige\"] = int(prestige_mean)"
   ]
  },
  {
   "cell_type": "code",
   "execution_count": 118,
   "metadata": {
    "collapsed": false
   },
   "outputs": [
    {
     "data": {
      "text/html": [
       "<div>\n",
       "<table border=\"1\" class=\"dataframe\">\n",
       "  <thead>\n",
       "    <tr style=\"text-align: right;\">\n",
       "      <th></th>\n",
       "      <th>admit</th>\n",
       "      <th>gre</th>\n",
       "      <th>gpa</th>\n",
       "      <th>prestige</th>\n",
       "      <th>gpa_admit</th>\n",
       "    </tr>\n",
       "  </thead>\n",
       "  <tbody>\n",
       "    <tr>\n",
       "      <th>admit</th>\n",
       "      <td>1.000000</td>\n",
       "      <td>0.182705</td>\n",
       "      <td>0.175376</td>\n",
       "      <td>-0.242513</td>\n",
       "      <td>0.991910</td>\n",
       "    </tr>\n",
       "    <tr>\n",
       "      <th>gre</th>\n",
       "      <td>0.182705</td>\n",
       "      <td>1.000000</td>\n",
       "      <td>0.381311</td>\n",
       "      <td>-0.125156</td>\n",
       "      <td>0.196835</td>\n",
       "    </tr>\n",
       "    <tr>\n",
       "      <th>gpa</th>\n",
       "      <td>0.175376</td>\n",
       "      <td>0.381311</td>\n",
       "      <td>1.000000</td>\n",
       "      <td>-0.058992</td>\n",
       "      <td>0.243527</td>\n",
       "    </tr>\n",
       "    <tr>\n",
       "      <th>prestige</th>\n",
       "      <td>-0.242513</td>\n",
       "      <td>-0.125156</td>\n",
       "      <td>-0.058992</td>\n",
       "      <td>1.000000</td>\n",
       "      <td>-0.243255</td>\n",
       "    </tr>\n",
       "    <tr>\n",
       "      <th>gpa_admit</th>\n",
       "      <td>0.991910</td>\n",
       "      <td>0.196835</td>\n",
       "      <td>0.243527</td>\n",
       "      <td>-0.243255</td>\n",
       "      <td>1.000000</td>\n",
       "    </tr>\n",
       "  </tbody>\n",
       "</table>\n",
       "</div>"
      ],
      "text/plain": [
       "              admit       gre       gpa  prestige  gpa_admit\n",
       "admit      1.000000  0.182705  0.175376 -0.242513   0.991910\n",
       "gre        0.182705  1.000000  0.381311 -0.125156   0.196835\n",
       "gpa        0.175376  0.381311  1.000000 -0.058992   0.243527\n",
       "prestige  -0.242513 -0.125156 -0.058992  1.000000  -0.243255\n",
       "gpa_admit  0.991910  0.196835  0.243527 -0.243255   1.000000"
      ]
     },
     "execution_count": 118,
     "metadata": {},
     "output_type": "execute_result"
    }
   ],
   "source": [
    "def adjusted_r2(X, y, r2):\n",
    "    obs = len(X)\n",
    "    variable_count = len(X.columns)\n",
    "    adj_r2 = 1 - (((1 - r2)*(obs - 1))/(obs - variable_count - 1))\n",
    "    return adj_r2\n",
    "\n",
    "def get_linear_model_metrics(X, y, algo):\n",
    "    # get the pvalue of X given y. \n",
    "    pvals = feature_selection.f_regression(X, y)[1]\n",
    "    algo.fit(X,y)\n",
    "    residuals = (y-algo.predict(X))\n",
    "\n",
    "    # print the necessary values\n",
    "    print 'P Values:', pvals\n",
    "    print 'Coefficients:', algo.coef_\n",
    "    print 'y-intercept:', algo.intercept_\n",
    "    print 'R-Squared:', algo.score(X,y)\n",
    "    print 'Adjusted R-Squared:', adjusted_r2(X,y, algo.score(X, y))\n",
    "    plt.figure()\n",
    "    plt.hist(residuals)\n",
    "    # keep the model\n",
    "    return algo\n",
    "\n",
    "ClassData.corr()"
   ]
  },
  {
   "cell_type": "code",
   "execution_count": 175,
   "metadata": {
    "collapsed": false
   },
   "outputs": [
    {
     "ename": "TypeError",
     "evalue": "'Series' objects are mutable, thus they cannot be hashed",
     "output_type": "error",
     "traceback": [
      "\u001b[0;31m---------------------------------------------------------------------------\u001b[0m",
      "\u001b[0;31mTypeError\u001b[0m                                 Traceback (most recent call last)",
      "\u001b[0;32m<ipython-input-175-dbde3c98c89b>\u001b[0m in \u001b[0;36m<module>\u001b[0;34m()\u001b[0m\n\u001b[1;32m     20\u001b[0m \u001b[0mq4_gpa\u001b[0m \u001b[0;34m=\u001b[0m \u001b[0mClassData\u001b[0m\u001b[0;34m[\u001b[0m\u001b[0;34m\"gpa\"\u001b[0m\u001b[0;34m]\u001b[0m\u001b[0;34m.\u001b[0m\u001b[0mquantile\u001b[0m\u001b[0;34m(\u001b[0m\u001b[0;36m1\u001b[0m\u001b[0;34m)\u001b[0m\u001b[0;34m\u001b[0m\u001b[0m\n\u001b[1;32m     21\u001b[0m \u001b[0mClassData\u001b[0m\u001b[0;34m[\u001b[0m\u001b[0;34m\"q2_gpa\"\u001b[0m\u001b[0;34m]\u001b[0m \u001b[0;34m=\u001b[0m \u001b[0;36m0\u001b[0m\u001b[0;34m\u001b[0m\u001b[0m\n\u001b[0;32m---> 22\u001b[0;31m \u001b[0mClassData\u001b[0m\u001b[0;34m[\u001b[0m\u001b[0;34m(\u001b[0m\u001b[0mClassData\u001b[0m\u001b[0;34m[\u001b[0m\u001b[0;34m\"gpa\"\u001b[0m\u001b[0;34m]\u001b[0m \u001b[0;34m>=\u001b[0m \u001b[0mq1_gpa\u001b[0m\u001b[0;34m)\u001b[0m \u001b[0;34m&\u001b[0m \u001b[0;34m(\u001b[0m\u001b[0mClassData\u001b[0m\u001b[0;34m[\u001b[0m\u001b[0;34m\"gpa\"\u001b[0m\u001b[0;34m]\u001b[0m \u001b[0;34m<\u001b[0m \u001b[0mq2_gpa\u001b[0m\u001b[0;34m)\u001b[0m\u001b[0;34m,\u001b[0m \u001b[0;34m\"\"\u001b[0m\u001b[0;34m]\u001b[0m \u001b[0;34m=\u001b[0m \u001b[0;36m1\u001b[0m\u001b[0;34m\u001b[0m\u001b[0m\n\u001b[0m",
      "\u001b[0;32m/Users/jcano/anaconda/lib/python2.7/site-packages/pandas/core/frame.pyc\u001b[0m in \u001b[0;36m__setitem__\u001b[0;34m(self, key, value)\u001b[0m\n\u001b[1;32m   2297\u001b[0m         \u001b[0;32melse\u001b[0m\u001b[0;34m:\u001b[0m\u001b[0;34m\u001b[0m\u001b[0m\n\u001b[1;32m   2298\u001b[0m             \u001b[0;31m# set column\u001b[0m\u001b[0;34m\u001b[0m\u001b[0;34m\u001b[0m\u001b[0m\n\u001b[0;32m-> 2299\u001b[0;31m             \u001b[0mself\u001b[0m\u001b[0;34m.\u001b[0m\u001b[0m_set_item\u001b[0m\u001b[0;34m(\u001b[0m\u001b[0mkey\u001b[0m\u001b[0;34m,\u001b[0m \u001b[0mvalue\u001b[0m\u001b[0;34m)\u001b[0m\u001b[0;34m\u001b[0m\u001b[0m\n\u001b[0m\u001b[1;32m   2300\u001b[0m \u001b[0;34m\u001b[0m\u001b[0m\n\u001b[1;32m   2301\u001b[0m     \u001b[0;32mdef\u001b[0m \u001b[0m_setitem_slice\u001b[0m\u001b[0;34m(\u001b[0m\u001b[0mself\u001b[0m\u001b[0;34m,\u001b[0m \u001b[0mkey\u001b[0m\u001b[0;34m,\u001b[0m \u001b[0mvalue\u001b[0m\u001b[0;34m)\u001b[0m\u001b[0;34m:\u001b[0m\u001b[0;34m\u001b[0m\u001b[0m\n",
      "\u001b[0;32m/Users/jcano/anaconda/lib/python2.7/site-packages/pandas/core/frame.pyc\u001b[0m in \u001b[0;36m_set_item\u001b[0;34m(self, key, value)\u001b[0m\n\u001b[1;32m   2364\u001b[0m \u001b[0;34m\u001b[0m\u001b[0m\n\u001b[1;32m   2365\u001b[0m         \u001b[0mself\u001b[0m\u001b[0;34m.\u001b[0m\u001b[0m_ensure_valid_index\u001b[0m\u001b[0;34m(\u001b[0m\u001b[0mvalue\u001b[0m\u001b[0;34m)\u001b[0m\u001b[0;34m\u001b[0m\u001b[0m\n\u001b[0;32m-> 2366\u001b[0;31m         \u001b[0mvalue\u001b[0m \u001b[0;34m=\u001b[0m \u001b[0mself\u001b[0m\u001b[0;34m.\u001b[0m\u001b[0m_sanitize_column\u001b[0m\u001b[0;34m(\u001b[0m\u001b[0mkey\u001b[0m\u001b[0;34m,\u001b[0m \u001b[0mvalue\u001b[0m\u001b[0;34m)\u001b[0m\u001b[0;34m\u001b[0m\u001b[0m\n\u001b[0m\u001b[1;32m   2367\u001b[0m         \u001b[0mNDFrame\u001b[0m\u001b[0;34m.\u001b[0m\u001b[0m_set_item\u001b[0m\u001b[0;34m(\u001b[0m\u001b[0mself\u001b[0m\u001b[0;34m,\u001b[0m \u001b[0mkey\u001b[0m\u001b[0;34m,\u001b[0m \u001b[0mvalue\u001b[0m\u001b[0;34m)\u001b[0m\u001b[0;34m\u001b[0m\u001b[0m\n\u001b[1;32m   2368\u001b[0m \u001b[0;34m\u001b[0m\u001b[0m\n",
      "\u001b[0;32m/Users/jcano/anaconda/lib/python2.7/site-packages/pandas/core/frame.pyc\u001b[0m in \u001b[0;36m_sanitize_column\u001b[0;34m(self, key, value)\u001b[0m\n\u001b[1;32m   2548\u001b[0m \u001b[0;34m\u001b[0m\u001b[0m\n\u001b[1;32m   2549\u001b[0m         \u001b[0;31m# broadcast across multiple columns if necessary\u001b[0m\u001b[0;34m\u001b[0m\u001b[0;34m\u001b[0m\u001b[0m\n\u001b[0;32m-> 2550\u001b[0;31m         \u001b[0;32mif\u001b[0m \u001b[0mkey\u001b[0m \u001b[0;32min\u001b[0m \u001b[0mself\u001b[0m\u001b[0;34m.\u001b[0m\u001b[0mcolumns\u001b[0m \u001b[0;32mand\u001b[0m \u001b[0mvalue\u001b[0m\u001b[0;34m.\u001b[0m\u001b[0mndim\u001b[0m \u001b[0;34m==\u001b[0m \u001b[0;36m1\u001b[0m\u001b[0;34m:\u001b[0m\u001b[0;34m\u001b[0m\u001b[0m\n\u001b[0m\u001b[1;32m   2551\u001b[0m             if not self.columns.is_unique or isinstance(self.columns,\n\u001b[1;32m   2552\u001b[0m                                                         MultiIndex):\n",
      "\u001b[0;32m/Users/jcano/anaconda/lib/python2.7/site-packages/pandas/core/index.pyc\u001b[0m in \u001b[0;36m__contains__\u001b[0;34m(self, key)\u001b[0m\n\u001b[1;32m   1117\u001b[0m \u001b[0;34m\u001b[0m\u001b[0m\n\u001b[1;32m   1118\u001b[0m     \u001b[0;32mdef\u001b[0m \u001b[0m__contains__\u001b[0m\u001b[0;34m(\u001b[0m\u001b[0mself\u001b[0m\u001b[0;34m,\u001b[0m \u001b[0mkey\u001b[0m\u001b[0;34m)\u001b[0m\u001b[0;34m:\u001b[0m\u001b[0;34m\u001b[0m\u001b[0m\n\u001b[0;32m-> 1119\u001b[0;31m         \u001b[0mhash\u001b[0m\u001b[0;34m(\u001b[0m\u001b[0mkey\u001b[0m\u001b[0;34m)\u001b[0m\u001b[0;34m\u001b[0m\u001b[0m\n\u001b[0m\u001b[1;32m   1120\u001b[0m         \u001b[0;31m# work around some kind of odd cython bug\u001b[0m\u001b[0;34m\u001b[0m\u001b[0;34m\u001b[0m\u001b[0m\n\u001b[1;32m   1121\u001b[0m         \u001b[0;32mtry\u001b[0m\u001b[0;34m:\u001b[0m\u001b[0;34m\u001b[0m\u001b[0m\n",
      "\u001b[0;32m/Users/jcano/anaconda/lib/python2.7/site-packages/pandas/core/generic.pyc\u001b[0m in \u001b[0;36m__hash__\u001b[0;34m(self)\u001b[0m\n\u001b[1;32m    678\u001b[0m     \u001b[0;32mdef\u001b[0m \u001b[0m__hash__\u001b[0m\u001b[0;34m(\u001b[0m\u001b[0mself\u001b[0m\u001b[0;34m)\u001b[0m\u001b[0;34m:\u001b[0m\u001b[0;34m\u001b[0m\u001b[0m\n\u001b[1;32m    679\u001b[0m         raise TypeError('{0!r} objects are mutable, thus they cannot be'\n\u001b[0;32m--> 680\u001b[0;31m                         ' hashed'.format(self.__class__.__name__))\n\u001b[0m\u001b[1;32m    681\u001b[0m \u001b[0;34m\u001b[0m\u001b[0m\n\u001b[1;32m    682\u001b[0m     \u001b[0;32mdef\u001b[0m \u001b[0m__iter__\u001b[0m\u001b[0;34m(\u001b[0m\u001b[0mself\u001b[0m\u001b[0;34m)\u001b[0m\u001b[0;34m:\u001b[0m\u001b[0;34m\u001b[0m\u001b[0m\n",
      "\u001b[0;31mTypeError\u001b[0m: 'Series' objects are mutable, thus they cannot be hashed"
     ]
    },
    {
     "data": {
      "image/png": "[encoded data removed]",
      "text/plain": [
       "<matplotlib.figure.Figure at 0x11ca1f4d0>"
      ]
     },
     "metadata": {},
     "output_type": "display_data"
    }
   ],
   "source": [
    "#adding dummy variables for prestige\n",
    "#del ClassData[\"prestige_low\"]\n",
    "high = ClassData[\"prestige\"] == 4\n",
    "ClassData[\"prestige_high\"] = 0\n",
    "ClassData.loc[high, \"prestige_high\"] = 1\n",
    "\n",
    "middle = ClassData[\"prestige\"] == 3\n",
    "ClassData[\"prestige_middle\"] = 0\n",
    "ClassData.loc[middle, \"prestige_middle\"] = 1\n",
    "\n",
    "low = ClassData[\"prestige\"] == 2\n",
    "ClassData[\"prestige_low\"] = 0\n",
    "ClassData.loc[low, \"prestige_low\"] = 1\n",
    "\n",
    "ClassData.boxplot(column=\"gpa\", by=[\"admit\", \"prestige\"])\n",
    "\n",
    "q1_gpa = ClassData[\"gpa\"].quantile(.25)\n",
    "q2_gpa = ClassData[\"gpa\"].quantile(.50)\n",
    "q3_gpa = ClassData[\"gpa\"].quantile(.75)\n",
    "q4_gpa = ClassData[\"gpa\"].quantile(1)\n",
    "ClassData[\"q2_gpa\"] = 0\n",
    "ClassData[(ClassData[\"gpa\"] >= q1_gpa) & (ClassData[\"gpa\"] < q2_gpa), \"\"] = 1"
   ]
  },
  {
   "cell_type": "code",
   "execution_count": 180,
   "metadata": {
    "collapsed": false
   },
   "outputs": [],
   "source": [
    "q1_gpa = ClassData[\"gpa\"].quantile(.25)\n",
    "q2_gpa = ClassData[\"gpa\"].quantile(.50)\n",
    "q3_gpa = ClassData[\"gpa\"].quantile(.75)\n",
    "q4_gpa = ClassData[\"gpa\"].quantile(1)\n",
    "ClassData[\"q2_gpa\"] = 0\n",
    "gpa_low = (ClassData[\"gpa\"] > q1_gpa) & (ClassData[\"gpa\"] <= q2_gpa)\n",
    "gpa_mid = (ClassData[\"gpa\"] > q2_gpa) & (ClassData[\"gpa\"] <= q3_gpa)\n",
    "gpa_high = (ClassData[\"gpa\"] > q3_gpa) & (ClassData[\"gpa\"] <= q4_gpa)\n",
    "ClassData[\"q2_gpa\"] = 0\n",
    "ClassData.loc[gpa_low, \"q2_gpa\"] = 1\n",
    "ClassData[\"q3_gpa\"] = 0\n",
    "ClassData.loc[gpa_mid, \"q3_gpa\"] = 1\n",
    "ClassData[\"q4_gpa\"] = 0\n",
    "ClassData.loc[gpa_high, \"q4_gpa\"] = 1"
   ]
  },
  {
   "cell_type": "code",
   "execution_count": 189,
   "metadata": {
    "collapsed": false
   },
   "outputs": [
    {
     "data": {
      "text/plain": [
       "<matplotlib.axes._subplots.AxesSubplot at 0x11e2936d0>"
      ]
     },
     "execution_count": 189,
     "metadata": {},
     "output_type": "execute_result"
    },
    {
     "data": {
      "image/png": "[encoded data removed]",
      "text/plain": [
       "<matplotlib.figure.Figure at 0x11e1b3f50>"
      ]
     },
     "metadata": {},
     "output_type": "display_data"
    }
   ],
   "source": [
    "X = ClassData[[\"gre\"]]\n",
    "y = ClassData[\"admit\"]\n",
    "#linreg = LinearRegression()\n",
    "#get_linear_model_metrics(X, y, linreg)\n",
    "#linreg.predict([800])\n",
    "\n",
    "ClassData.boxplot(column=\"gpa\", by=\"admit\")"
   ]
  },
  {
   "cell_type": "code",
   "execution_count": 167,
   "metadata": {
    "collapsed": false
   },
   "outputs": [
    {
     "data": {
      "text/html": [
       "<div>\n",
       "<table border=\"1\" class=\"dataframe\">\n",
       "  <thead>\n",
       "    <tr style=\"text-align: right;\">\n",
       "      <th></th>\n",
       "      <th>admit</th>\n",
       "      <th>gre</th>\n",
       "      <th>gpa</th>\n",
       "      <th>prestige</th>\n",
       "      <th>gpa_admit</th>\n",
       "      <th>prestige_high</th>\n",
       "      <th>prestige_middle</th>\n",
       "      <th>prestige_low</th>\n",
       "    </tr>\n",
       "  </thead>\n",
       "  <tbody>\n",
       "    <tr>\n",
       "      <th>count</th>\n",
       "      <td>15.000000</td>\n",
       "      <td>15.000000</td>\n",
       "      <td>15.000000</td>\n",
       "      <td>15.000000</td>\n",
       "      <td>15.000000</td>\n",
       "      <td>15.000000</td>\n",
       "      <td>15.000000</td>\n",
       "      <td>15.000000</td>\n",
       "    </tr>\n",
       "    <tr>\n",
       "      <th>mean</th>\n",
       "      <td>0.333333</td>\n",
       "      <td>490.666667</td>\n",
       "      <td>2.562667</td>\n",
       "      <td>2.400000</td>\n",
       "      <td>0.869333</td>\n",
       "      <td>0.133333</td>\n",
       "      <td>0.266667</td>\n",
       "      <td>0.466667</td>\n",
       "    </tr>\n",
       "    <tr>\n",
       "      <th>std</th>\n",
       "      <td>0.487950</td>\n",
       "      <td>79.234432</td>\n",
       "      <td>0.123315</td>\n",
       "      <td>0.910259</td>\n",
       "      <td>1.273872</td>\n",
       "      <td>0.351866</td>\n",
       "      <td>0.457738</td>\n",
       "      <td>0.516398</td>\n",
       "    </tr>\n",
       "    <tr>\n",
       "      <th>min</th>\n",
       "      <td>0.000000</td>\n",
       "      <td>360.000000</td>\n",
       "      <td>2.260000</td>\n",
       "      <td>1.000000</td>\n",
       "      <td>0.000000</td>\n",
       "      <td>0.000000</td>\n",
       "      <td>0.000000</td>\n",
       "      <td>0.000000</td>\n",
       "    </tr>\n",
       "    <tr>\n",
       "      <th>25%</th>\n",
       "      <td>0.000000</td>\n",
       "      <td>430.000000</td>\n",
       "      <td>2.500000</td>\n",
       "      <td>2.000000</td>\n",
       "      <td>0.000000</td>\n",
       "      <td>0.000000</td>\n",
       "      <td>0.000000</td>\n",
       "      <td>0.000000</td>\n",
       "    </tr>\n",
       "    <tr>\n",
       "      <th>50%</th>\n",
       "      <td>0.000000</td>\n",
       "      <td>480.000000</td>\n",
       "      <td>2.620000</td>\n",
       "      <td>2.000000</td>\n",
       "      <td>0.000000</td>\n",
       "      <td>0.000000</td>\n",
       "      <td>0.000000</td>\n",
       "      <td>0.000000</td>\n",
       "    </tr>\n",
       "    <tr>\n",
       "      <th>75%</th>\n",
       "      <td>1.000000</td>\n",
       "      <td>540.000000</td>\n",
       "      <td>2.660000</td>\n",
       "      <td>3.000000</td>\n",
       "      <td>2.520000</td>\n",
       "      <td>0.000000</td>\n",
       "      <td>0.500000</td>\n",
       "      <td>1.000000</td>\n",
       "    </tr>\n",
       "    <tr>\n",
       "      <th>max</th>\n",
       "      <td>1.000000</td>\n",
       "      <td>680.000000</td>\n",
       "      <td>2.690000</td>\n",
       "      <td>4.000000</td>\n",
       "      <td>2.680000</td>\n",
       "      <td>1.000000</td>\n",
       "      <td>1.000000</td>\n",
       "      <td>1.000000</td>\n",
       "    </tr>\n",
       "  </tbody>\n",
       "</table>\n",
       "</div>"
      ],
      "text/plain": [
       "           admit         gre        gpa   prestige  gpa_admit  prestige_high  \\\n",
       "count  15.000000   15.000000  15.000000  15.000000  15.000000      15.000000   \n",
       "mean    0.333333  490.666667   2.562667   2.400000   0.869333       0.133333   \n",
       "std     0.487950   79.234432   0.123315   0.910259   1.273872       0.351866   \n",
       "min     0.000000  360.000000   2.260000   1.000000   0.000000       0.000000   \n",
       "25%     0.000000  430.000000   2.500000   2.000000   0.000000       0.000000   \n",
       "50%     0.000000  480.000000   2.620000   2.000000   0.000000       0.000000   \n",
       "75%     1.000000  540.000000   2.660000   3.000000   2.520000       0.000000   \n",
       "max     1.000000  680.000000   2.690000   4.000000   2.680000       1.000000   \n",
       "\n",
       "       prestige_middle  prestige_low  \n",
       "count        15.000000     15.000000  \n",
       "mean          0.266667      0.466667  \n",
       "std           0.457738      0.516398  \n",
       "min           0.000000      0.000000  \n",
       "25%           0.000000      0.000000  \n",
       "50%           0.000000      0.000000  \n",
       "75%           0.500000      1.000000  \n",
       "max           1.000000      1.000000  "
      ]
     },
     "execution_count": 167,
     "metadata": {},
     "output_type": "execute_result"
    }
   ],
   "source": [
    "ClassData[ClassData[\"gpa\"] < 2.7].describe()\n"
   ]
  },
  {
   "cell_type": "code",
   "execution_count": 50,
   "metadata": {
    "collapsed": false
   },
   "outputs": [
    {
     "data": {
      "text/html": [
       "<div>\n",
       "<table border=\"1\" class=\"dataframe\">\n",
       "  <thead>\n",
       "    <tr style=\"text-align: right;\">\n",
       "      <th></th>\n",
       "      <th>admit</th>\n",
       "      <th>gre</th>\n",
       "      <th>gpa</th>\n",
       "      <th>prestige</th>\n",
       "    </tr>\n",
       "  </thead>\n",
       "  <tbody>\n",
       "    <tr>\n",
       "      <th>admit</th>\n",
       "      <td>1.000000</td>\n",
       "      <td>0.182705</td>\n",
       "      <td>0.175376</td>\n",
       "      <td>-0.241355</td>\n",
       "    </tr>\n",
       "    <tr>\n",
       "      <th>gre</th>\n",
       "      <td>0.182705</td>\n",
       "      <td>1.000000</td>\n",
       "      <td>0.381311</td>\n",
       "      <td>-0.124453</td>\n",
       "    </tr>\n",
       "    <tr>\n",
       "      <th>gpa</th>\n",
       "      <td>0.175376</td>\n",
       "      <td>0.381311</td>\n",
       "      <td>1.000000</td>\n",
       "      <td>-0.059011</td>\n",
       "    </tr>\n",
       "    <tr>\n",
       "      <th>prestige</th>\n",
       "      <td>-0.241355</td>\n",
       "      <td>-0.124453</td>\n",
       "      <td>-0.059011</td>\n",
       "      <td>1.000000</td>\n",
       "    </tr>\n",
       "  </tbody>\n",
       "</table>\n",
       "</div>"
      ],
      "text/plain": [
       "             admit       gre       gpa  prestige\n",
       "admit     1.000000  0.182705  0.175376 -0.241355\n",
       "gre       0.182705  1.000000  0.381311 -0.124453\n",
       "gpa       0.175376  0.381311  1.000000 -0.059011\n",
       "prestige -0.241355 -0.124453 -0.059011  1.000000"
      ]
     },
     "execution_count": 50,
     "metadata": {},
     "output_type": "execute_result"
    }
   ],
   "source": [
    "ClassData.corr()"
   ]
  },
  {
   "cell_type": "code",
   "execution_count": null,
   "metadata": {
    "collapsed": true
   },
   "outputs": [],
   "source": []
  }
 ],
 "metadata": {
  "kernelspec": {
   "display_name": "Python 2",
   "language": "python",
   "name": "python2"
  },
  "language_info": {
   "codemirror_mode": {
    "name": "ipython",
    "version": 2
   },
   "file_extension": ".py",
   "mimetype": "text/x-python",
   "name": "python",
   "nbconvert_exporter": "python",
   "pygments_lexer": "ipython2",
   "version": "2.7.11"
  }
 },
 "nbformat": 4,
 "nbformat_minor": 0
}
