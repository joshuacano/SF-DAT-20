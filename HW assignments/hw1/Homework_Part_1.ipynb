{
 "cells": [
  {
   "cell_type": "code",
   "execution_count": 3,
   "metadata": {
    "collapsed": false
   },
   "outputs": [],
   "source": [
    "#Joshua Cano 2-7-16\n",
    "import pandas as pd\n",
    "import numpy as np\n",
    "data = pd.read_csv('titanic.csv')\n",
    "\n"
   ]
  },
  {
   "cell_type": "code",
   "execution_count": 5,
   "metadata": {
    "collapsed": false
   },
   "outputs": [
    {
     "data": {
      "text/html": [
       "<div>\n",
       "<table border=\"1\" class=\"dataframe\">\n",
       "  <thead>\n",
       "    <tr style=\"text-align: right;\">\n",
       "      <th></th>\n",
       "      <th>PassengerId</th>\n",
       "      <th>Survived</th>\n",
       "      <th>Pclass</th>\n",
       "      <th>Name</th>\n",
       "      <th>Sex</th>\n",
       "      <th>Age</th>\n",
       "      <th>SibSp</th>\n",
       "      <th>Parch</th>\n",
       "      <th>Ticket</th>\n",
       "      <th>Fare</th>\n",
       "      <th>Cabin</th>\n",
       "      <th>Embarked</th>\n",
       "    </tr>\n",
       "  </thead>\n",
       "  <tbody>\n",
       "    <tr>\n",
       "      <th>0</th>\n",
       "      <td>1</td>\n",
       "      <td>0</td>\n",
       "      <td>3</td>\n",
       "      <td>Braund, Mr. Owen Harris</td>\n",
       "      <td>male</td>\n",
       "      <td>22</td>\n",
       "      <td>1</td>\n",
       "      <td>0</td>\n",
       "      <td>A/5 21171</td>\n",
       "      <td>7.2500</td>\n",
       "      <td>NaN</td>\n",
       "      <td>S</td>\n",
       "    </tr>\n",
       "    <tr>\n",
       "      <th>1</th>\n",
       "      <td>2</td>\n",
       "      <td>1</td>\n",
       "      <td>1</td>\n",
       "      <td>Cumings, Mrs. John Bradley (Florence Briggs Th...</td>\n",
       "      <td>female</td>\n",
       "      <td>38</td>\n",
       "      <td>1</td>\n",
       "      <td>0</td>\n",
       "      <td>PC 17599</td>\n",
       "      <td>71.2833</td>\n",
       "      <td>C85</td>\n",
       "      <td>C</td>\n",
       "    </tr>\n",
       "    <tr>\n",
       "      <th>2</th>\n",
       "      <td>3</td>\n",
       "      <td>1</td>\n",
       "      <td>3</td>\n",
       "      <td>Heikkinen, Miss. Laina</td>\n",
       "      <td>female</td>\n",
       "      <td>26</td>\n",
       "      <td>0</td>\n",
       "      <td>0</td>\n",
       "      <td>STON/O2. 3101282</td>\n",
       "      <td>7.9250</td>\n",
       "      <td>NaN</td>\n",
       "      <td>S</td>\n",
       "    </tr>\n",
       "    <tr>\n",
       "      <th>3</th>\n",
       "      <td>4</td>\n",
       "      <td>1</td>\n",
       "      <td>1</td>\n",
       "      <td>Futrelle, Mrs. Jacques Heath (Lily May Peel)</td>\n",
       "      <td>female</td>\n",
       "      <td>35</td>\n",
       "      <td>1</td>\n",
       "      <td>0</td>\n",
       "      <td>113803</td>\n",
       "      <td>53.1000</td>\n",
       "      <td>C123</td>\n",
       "      <td>S</td>\n",
       "    </tr>\n",
       "    <tr>\n",
       "      <th>4</th>\n",
       "      <td>5</td>\n",
       "      <td>0</td>\n",
       "      <td>3</td>\n",
       "      <td>Allen, Mr. William Henry</td>\n",
       "      <td>male</td>\n",
       "      <td>35</td>\n",
       "      <td>0</td>\n",
       "      <td>0</td>\n",
       "      <td>373450</td>\n",
       "      <td>8.0500</td>\n",
       "      <td>NaN</td>\n",
       "      <td>S</td>\n",
       "    </tr>\n",
       "  </tbody>\n",
       "</table>\n",
       "</div>"
      ],
      "text/plain": [
       "   PassengerId  Survived  Pclass  \\\n",
       "0            1         0       3   \n",
       "1            2         1       1   \n",
       "2            3         1       3   \n",
       "3            4         1       1   \n",
       "4            5         0       3   \n",
       "\n",
       "                                                Name     Sex  Age  SibSp  \\\n",
       "0                            Braund, Mr. Owen Harris    male   22      1   \n",
       "1  Cumings, Mrs. John Bradley (Florence Briggs Th...  female   38      1   \n",
       "2                             Heikkinen, Miss. Laina  female   26      0   \n",
       "3       Futrelle, Mrs. Jacques Heath (Lily May Peel)  female   35      1   \n",
       "4                           Allen, Mr. William Henry    male   35      0   \n",
       "\n",
       "   Parch            Ticket     Fare Cabin Embarked  \n",
       "0      0         A/5 21171   7.2500   NaN        S  \n",
       "1      0          PC 17599  71.2833   C85        C  \n",
       "2      0  STON/O2. 3101282   7.9250   NaN        S  \n",
       "3      0            113803  53.1000  C123        S  \n",
       "4      0            373450   8.0500   NaN        S  "
      ]
     },
     "execution_count": 5,
     "metadata": {},
     "output_type": "execute_result"
    }
   ],
   "source": [
    "data.head()\n"
   ]
  },
  {
   "cell_type": "code",
   "execution_count": 82,
   "metadata": {
    "collapsed": false
   },
   "outputs": [
    {
     "data": {
      "text/plain": [
       "891"
      ]
     },
     "execution_count": 82,
     "metadata": {},
     "output_type": "execute_result"
    }
   ],
   "source": [
    "#1. How many passengers in data set\n",
    "data[\"PassengerId\"].count()"
   ]
  },
  {
   "cell_type": "code",
   "execution_count": 11,
   "metadata": {
    "collapsed": false
   },
   "outputs": [
    {
     "data": {
      "text/plain": [
       "342"
      ]
     },
     "execution_count": 11,
     "metadata": {},
     "output_type": "execute_result"
    }
   ],
   "source": [
    "#2. How many passengers survived\n",
    "survived = data[data[\"Survived\"] == 1][\"Survived\"]\n",
    "survived.count()"
   ]
  },
  {
   "cell_type": "code",
   "execution_count": 13,
   "metadata": {
    "collapsed": false
   },
   "outputs": [
    {
     "data": {
      "text/plain": [
       "0.3838383838383838"
      ]
     },
     "execution_count": 13,
     "metadata": {},
     "output_type": "execute_result"
    }
   ],
   "source": [
    "#2. overall Survival Rate\n",
    "float(survived.count()) / data[\"Survived\"].count()"
   ]
  },
  {
   "cell_type": "code",
   "execution_count": 25,
   "metadata": {
    "collapsed": false
   },
   "outputs": [
    {
     "data": {
      "text/plain": [
       "Sex\n",
       "female    314\n",
       "male      577\n",
       "Name: PassengerId, dtype: int64"
      ]
     },
     "execution_count": 25,
     "metadata": {},
     "output_type": "execute_result"
    }
   ],
   "source": [
    "#3-4. Passengers broken down by Sex\n",
    "gb = data.groupby(\"Sex\")\n",
    "gb[\"PassengerId\"].count()"
   ]
  },
  {
   "cell_type": "code",
   "execution_count": 83,
   "metadata": {
    "collapsed": false
   },
   "outputs": [
    {
     "data": {
      "text/plain": [
       "0.18890814558058924"
      ]
     },
     "execution_count": 83,
     "metadata": {},
     "output_type": "execute_result"
    }
   ],
   "source": [
    "#5. Male Survival Rate\n",
    "male = data[\"Sex\"] == \"male\"\n",
    "survived = data[\"Survived\"] == 1\n",
    "maleSurvivals = data[male & survived] \n",
    "maleSurvivalRate = float(maleSurvivals[\"Survived\"].count()) / data[male][\"Survived\"].count()\n",
    "maleSurvivalRate"
   ]
  },
  {
   "cell_type": "code",
   "execution_count": 91,
   "metadata": {
    "collapsed": false
   },
   "outputs": [
    {
     "data": {
      "text/plain": [
       "0.7420382165605095"
      ]
     },
     "execution_count": 91,
     "metadata": {},
     "output_type": "execute_result"
    }
   ],
   "source": [
    "#6. Female Survival Rate\n",
    "female = data[\"Sex\"] == \"female\"\n",
    "femaleSurvivals = data[female & survived] \n",
    "femaleSurvivalRate = float(femaleSurvivals[\"Survived\"].count())/ data[female][\"Survived\"].count()\n",
    "femaleSurvivalRate"
   ]
  },
  {
   "cell_type": "code",
   "execution_count": 173,
   "metadata": {
    "collapsed": false
   },
   "outputs": [
    {
     "name": "stdout",
     "output_type": "stream",
     "text": [
      "29.6991176471\n",
      "29.6991176471\n"
     ]
    },
    {
     "data": {
      "text/plain": [
       "31.911526374859708"
      ]
     },
     "execution_count": 173,
     "metadata": {},
     "output_type": "execute_result"
    }
   ],
   "source": [
    "#7. Average age of people on Ship, for Customers with no age I dismissed them from the sample set. \n",
    "noAge = pd.isnull(data[\"Age\"]) == True\n",
    "\n",
    "withAge = pd.isnull(data[\"Age\"]) == False\n",
    "\n",
    "print(data[withAge][\"Age\"].mean())\n",
    "print(data[\"Age\"].mean())\n",
    "\n",
    "#ALternate solution assing Random Integers to items with missing data\n",
    "np.random.seed(122)\n",
    "data[\"ComputedAge\"] = data[\"Age\"].where(pd.isnull(data[\"Age\"]) == False, np.random.random_integers(low=0, high=data[\"Age\"].max(), size=data[\"PassengerId\"].count()))\n",
    "data.head()\n",
    "print(data[\"ComputedAge\"].mean())\n"
   ]
  },
  {
   "cell_type": "code",
   "execution_count": 130,
   "metadata": {
    "collapsed": false
   },
   "outputs": [
    {
     "data": {
      "text/plain": [
       "28.343689655172415"
      ]
     },
     "execution_count": 130,
     "metadata": {},
     "output_type": "execute_result"
    }
   ],
   "source": [
    "#8. Average age of people who survived\n",
    "data[survived][\"Age\"].mean()"
   ]
  },
  {
   "cell_type": "code",
   "execution_count": 131,
   "metadata": {
    "collapsed": false
   },
   "outputs": [
    {
     "data": {
      "text/plain": [
       "30.62617924528302"
      ]
     },
     "execution_count": 131,
     "metadata": {},
     "output_type": "execute_result"
    }
   ],
   "source": [
    "#9. Average age of people who did not survive\n",
    "notSurvived = data[\"Survived\"] == 0\n",
    "data[notSurvived]['Age'].mean()"
   ]
  },
  {
   "cell_type": "markdown",
   "metadata": {},
   "source": [
    "10. At this point, we can surmise that Age played little to do with who survived from the ship. We can see that 75% of females survived from the ship and 19% of males survived. "
   ]
  },
  {
   "cell_type": "code",
   "execution_count": 132,
   "metadata": {
    "collapsed": false
   },
   "outputs": [
    {
     "data": {
      "text/plain": [
       "Pclass\n",
       "1    216\n",
       "2    184\n",
       "3    491\n",
       "Name: PassengerId, dtype: int64"
      ]
     },
     "execution_count": 132,
     "metadata": {},
     "output_type": "execute_result"
    }
   ],
   "source": [
    "#11. Passengers in each of the three classes of service\n",
    "data.groupby(\"Pclass\")[\"PassengerId\"].count()"
   ]
  },
  {
   "cell_type": "code",
   "execution_count": 93,
   "metadata": {
    "collapsed": false
   },
   "outputs": [
    {
     "name": "stdout",
     "output_type": "stream",
     "text": [
      "Survival Rate for Pclass 1: 0.62962962963\n",
      "Survival Rate for Pclass 2: 0.472826086957\n",
      "Survival Rate for Pclass 3: 0.242362525458\n"
     ]
    }
   ],
   "source": [
    "#12. Survival Rate for All Passengers\n",
    "for i in range(1,4):\n",
    "    pclass = data[\"Pclass\"] == i\n",
    "    survivalRate = float(data[pclass & survived][\"Survived\"].count())/ data[pclass][\"Survived\"].count()\n",
    "    print (\"Survival Rate for Pclass {}: {}\").format(i, survivalRate)\n"
   ]
  },
  {
   "cell_type": "code",
   "execution_count": null,
   "metadata": {
    "collapsed": true
   },
   "outputs": [],
   "source": [
    "#12b. Survival Rate for Females\n",
    "for i in range(1,4):\n",
    "    pclass = data[\"Pclass\"] == i\n",
    "    survivalRate = float(data[pclass & survived & female][\"Survived\"].count())/ data[pclass & female][\"Survived\"].count()\n",
    "    print (\"Survival Rate for Pclass {}: {}\").format(i, survivalRate)\n"
   ]
  },
  {
   "cell_type": "markdown",
   "metadata": {},
   "source": [
    "13. We can easily conclude that for survival rate, Class of passenger played the most important part in whether or not a person survived. "
   ]
  },
  {
   "cell_type": "code",
   "execution_count": 198,
   "metadata": {
    "collapsed": false
   },
   "outputs": [
    {
     "name": "stdout",
     "output_type": "stream",
     "text": [
      "0.666666666667\n",
      "0.55\n",
      "0.382736156352\n",
      "0.227272727273\n",
      "0.112233445567\n"
     ]
    },
    {
     "data": {
      "text/plain": [
       "204"
      ]
     },
     "execution_count": 198,
     "metadata": {},
     "output_type": "execute_result"
    }
   ],
   "source": [
    "#13b. It seems a majority of the infants and youths survived, however 90% of passengers seem to be older than 16\n",
    "infants = data[\"Age\"] < 4\n",
    "youth = data[\"Age\"] <= 16\n",
    "adult = data[\"Age\"] > 16\n",
    "elderly = data[\"Age\"] > 60\n",
    "infantsSurvivalRate = float(data[infants & survived][\"Survived\"].count()) / data[infants][\"Survived\"].count()\n",
    "youthSurvivalRate = float(data[youth & survived][\"Survived\"].count()) / data[youth][\"Survived\"].count()\n",
    "adultSurvivalRate = float(data[adult & survived][\"Survived\"].count()) / data[adult][\"Survived\"].count()\n",
    "elderlySurvivalRate = float(data[elderly & survived][\"Survived\"].count()) / data[elderly][\"Survived\"].count()\n",
    "percentYouthInfants = float(data[infants | youth][\"Survived\"].count()) / data[\"Survived\"].count()\n",
    "print(infantsSurvivalRate)\n",
    "print(youthSurvivalRate)\n",
    "print(adultSurvivalRate)\n",
    "print(elderlySurvivalRate)\n",
    "print(percentYouthInfants)\n",
    "\n",
    "data[\"Cabin\"].count()"
   ]
  },
  {
   "cell_type": "markdown",
   "metadata": {},
   "source": [
    "14. We would leave out age for a predictive model as this seems to not play a large role in predicting survival, also it seems that the majority of the passengers were over 16. Pclass and ticket fare seem to be somewhat interchangeable, where one is basically an aggregate for another. Cabin data seems to be only present for under a quarter of all items so this may not be relevant. Name also seems unimportant in this analysis."
   ]
  },
  {
   "cell_type": "code",
   "execution_count": null,
   "metadata": {
    "collapsed": true
   },
   "outputs": [],
   "source": []
  }
 ],
 "metadata": {
  "kernelspec": {
   "display_name": "Python 2",
   "language": "python",
   "name": "python2"
  },
  "language_info": {
   "codemirror_mode": {
    "name": "ipython",
    "version": 2
   },
   "file_extension": ".py",
   "mimetype": "text/x-python",
   "name": "python",
   "nbconvert_exporter": "python",
   "pygments_lexer": "ipython2",
   "version": "2.7.11"
  }
 },
 "nbformat": 4,
 "nbformat_minor": 0
}
